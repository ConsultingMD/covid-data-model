{
 "cells": [
  {
   "cell_type": "code",
   "execution_count": 469,
   "metadata": {},
   "outputs": [
    {
     "name": "stdout",
     "output_type": "stream",
     "text": [
      "The autoreload extension is already loaded. To reload it, use:\n",
      "  %reload_ext autoreload\n"
     ]
    }
   ],
   "source": [
    "%load_ext autoreload\n",
    "%autoreload 2\n",
    "%matplotlib inline\n",
    "\n",
    "import os\n",
    "import sys\n",
    "sys.path.append(os.path.join('../../', os.path.abspath('')))\n",
    "\n",
    "import dill as pickle\n",
    "from pyseir.load_data import *\n",
    "from pyseir.utils import REF_DATE\n",
    "from datetime import timedelta\n",
    "from pyseir.testing.test_strategy_simulator import TestStrategySimulator\n",
    "from pyseir.testing.plots import *\n",
    "from pyseir.inference.fit_results import load_Rt_result\n",
    "import seaborn as sns\n",
    "import matplotlib.pyplot as plt\n",
    "from pyseir.testing.load_data import load_projection, load_rt\n",
    "from pyseir.inference.infer_rt import run_state as run_rt_inference\n",
    "from pyseir.deployment.demographic_mapper import DemographicMapper"
   ]
  },
  {
   "cell_type": "markdown",
   "metadata": {},
   "source": [
    "#### Get demographic mapper result"
   ]
  },
  {
   "cell_type": "markdown",
   "metadata": {},
   "source": [
    "Assuming demographic mapper result and Rt inference are ready..."
   ]
  },
  {
   "cell_type": "markdown",
   "metadata": {},
   "source": [
    "Assuming following data for a worksite (lots of wild assumptions ...)\n",
    "- population size at worksite: 5000\n",
    "- PCR cost per individual = 250\n",
    "- PCR sensitivity (P(positive PCR | infected)) = 0.7\n",
    "- Antibody test cost per individual = 120\n",
    "- Antibody test sensitivity on detecting immunity (P(positive Antibody | immune)) = 0.5\n",
    "- Max PCR availability per month = population size at worksite\n",
    "- Max antibody test availability (distributed before worksite re-open) = population size at worksite\n",
    "- Mininum number of cases for outbreak per month = 5\n",
    "- Cost of hospitalization due to covid = 3000 \n",
    "- Frac of contact(ppl) that will be active at site (fraction of worker back to worksite at first, worker with antibody   test positive gets priority)   = 0.5\n",
    "- Cost of worksite closure = 200000\n",
    "- PCR test always starts at beginning of the month."
   ]
  },
  {
   "cell_type": "code",
   "execution_count": 18,
   "metadata": {},
   "outputs": [],
   "source": [
    "FIPS = '06'"
   ]
  },
  {
   "cell_type": "markdown",
   "metadata": {},
   "source": [
    "### Infer Rt"
   ]
  },
  {
   "cell_type": "code",
   "execution_count": null,
   "metadata": {},
   "outputs": [],
   "source": [
    "run_rt_inference(state=FIPS, states_only=True)"
   ]
  },
  {
   "cell_type": "code",
   "execution_count": 20,
   "metadata": {},
   "outputs": [],
   "source": [
    "Rt = load_rt(FIPS)"
   ]
  },
  {
   "cell_type": "markdown",
   "metadata": {},
   "source": [
    "### Run testing strategy simulation"
   ]
  },
  {
   "cell_type": "markdown",
   "metadata": {},
   "source": [
    "#### Scenario I. Optimal pcr coverage and frequency at a given budget\n",
    "\n",
    "**Assuming budget for pcr test is $500000 per month**"
   ]
  },
  {
   "cell_type": "code",
   "execution_count": 474,
   "metadata": {},
   "outputs": [],
   "source": [
    "max_pcr_cost_per_month = 500000"
   ]
  },
  {
   "cell_type": "code",
   "execution_count": 475,
   "metadata": {
    "scrolled": false
   },
   "outputs": [],
   "source": [
    "ts = TestStrategySimulator(fips=FIPS, \n",
    "                           antibody_coverage = [1],\n",
    "                           date=Rt.index[-1],\n",
    "                           pcr_frequency=[1, 2, 3, 4, 8, 15, 30],\n",
    "                           max_pcr_cost_per_month=max_pcr_cost_per_month)\n",
    "\n",
    "ts.run()\n",
    "optimized = ts.optimize(by=['outbreak_prob', 'delta_p_infected'])\n",
    "params, metrics = ts.reformat_optimization_results(optimized)"
   ]
  },
  {
   "cell_type": "markdown",
   "metadata": {},
   "source": [
    "#### Optimal testing parameters and metrics"
   ]
  },
  {
   "cell_type": "code",
   "execution_count": 476,
   "metadata": {},
   "outputs": [
    {
     "data": {
      "text/html": [
       "<div>\n",
       "<style scoped>\n",
       "    .dataframe tbody tr th:only-of-type {\n",
       "        vertical-align: middle;\n",
       "    }\n",
       "\n",
       "    .dataframe tbody tr th {\n",
       "        vertical-align: top;\n",
       "    }\n",
       "\n",
       "    .dataframe thead th {\n",
       "        text-align: right;\n",
       "    }\n",
       "</style>\n",
       "<table border=\"1\" class=\"dataframe\">\n",
       "  <thead>\n",
       "    <tr style=\"text-align: right;\">\n",
       "      <th></th>\n",
       "      <th>optimal</th>\n",
       "    </tr>\n",
       "  </thead>\n",
       "  <tbody>\n",
       "    <tr>\n",
       "      <th>antibody_coverage</th>\n",
       "      <td>1.0</td>\n",
       "    </tr>\n",
       "    <tr>\n",
       "      <th>pcr_coverage per month</th>\n",
       "      <td>0.1</td>\n",
       "    </tr>\n",
       "    <tr>\n",
       "      <th>pcr_frequency per month</th>\n",
       "      <td>4.0</td>\n",
       "    </tr>\n",
       "  </tbody>\n",
       "</table>\n",
       "</div>"
      ],
      "text/plain": [
       "                         optimal\n",
       "antibody_coverage            1.0\n",
       "pcr_coverage per month       0.1\n",
       "pcr_frequency per month      4.0"
      ]
     },
     "execution_count": 476,
     "metadata": {},
     "output_type": "execute_result"
    }
   ],
   "source": [
    "params"
   ]
  },
  {
   "cell_type": "code",
   "execution_count": 477,
   "metadata": {},
   "outputs": [
    {
     "data": {
      "text/html": [
       "<div>\n",
       "<style scoped>\n",
       "    .dataframe tbody tr th:only-of-type {\n",
       "        vertical-align: middle;\n",
       "    }\n",
       "\n",
       "    .dataframe tbody tr th {\n",
       "        vertical-align: top;\n",
       "    }\n",
       "\n",
       "    .dataframe thead th {\n",
       "        text-align: right;\n",
       "    }\n",
       "</style>\n",
       "<table border=\"1\" class=\"dataframe\">\n",
       "  <thead>\n",
       "    <tr style=\"text-align: right;\">\n",
       "      <th></th>\n",
       "      <th>metrics</th>\n",
       "    </tr>\n",
       "  </thead>\n",
       "  <tbody>\n",
       "    <tr>\n",
       "      <th>delta_p_infected per month</th>\n",
       "      <td>0.000871</td>\n",
       "    </tr>\n",
       "    <tr>\n",
       "      <th>prevented_secondary_transmission per month</th>\n",
       "      <td>3.395755</td>\n",
       "    </tr>\n",
       "    <tr>\n",
       "      <th>delta_covid_index per month</th>\n",
       "      <td>0.000021</td>\n",
       "    </tr>\n",
       "    <tr>\n",
       "      <th>test_cost_pcr per month</th>\n",
       "      <td>500000.000000</td>\n",
       "    </tr>\n",
       "    <tr>\n",
       "      <th>prevalence_given_testing per month</th>\n",
       "      <td>0.001692</td>\n",
       "    </tr>\n",
       "    <tr>\n",
       "      <th>outbreak_prob per month</th>\n",
       "      <td>0.471547</td>\n",
       "    </tr>\n",
       "    <tr>\n",
       "      <th>delta_outbreak_prob per month</th>\n",
       "      <td>0.508999</td>\n",
       "    </tr>\n",
       "    <tr>\n",
       "      <th>saved_cost_of_site_closure per month</th>\n",
       "      <td>508998.636576</td>\n",
       "    </tr>\n",
       "    <tr>\n",
       "      <th>avoided_cost per month</th>\n",
       "      <td>509320.853414</td>\n",
       "    </tr>\n",
       "  </tbody>\n",
       "</table>\n",
       "</div>"
      ],
      "text/plain": [
       "                                                  metrics\n",
       "delta_p_infected per month                       0.000871\n",
       "prevented_secondary_transmission per month       3.395755\n",
       "delta_covid_index per month                      0.000021\n",
       "test_cost_pcr per month                     500000.000000\n",
       "prevalence_given_testing per month               0.001692\n",
       "outbreak_prob per month                          0.471547\n",
       "delta_outbreak_prob per month                    0.508999\n",
       "saved_cost_of_site_closure per month        508998.636576\n",
       "avoided_cost per month                      509320.853414"
      ]
     },
     "execution_count": 477,
     "metadata": {},
     "output_type": "execute_result"
    }
   ],
   "source": [
    "metrics"
   ]
  },
  {
   "cell_type": "markdown",
   "metadata": {},
   "source": [
    "#### Scenario II. Optimal pcr coverage and frequency at a given budget"
   ]
  },
  {
   "cell_type": "code",
   "execution_count": 533,
   "metadata": {},
   "outputs": [],
   "source": [
    "pcr_test_costs_per_month = np.linspace(500000, 1000000, 5)\n",
    "test_results_list = list()\n",
    "\n",
    "for freq in [1, 2, 4, 8]:\n",
    "    pcr_covs = list()\n",
    "    pcr_freqs = list()\n",
    "    ab_covs = list()\n",
    "    outbreak_prob = list()\n",
    "    pcr_test_cost = list()\n",
    "    \n",
    "    for max_pcr_cost_per_month in pcr_test_costs_per_month:\n",
    "        ts = TestStrategySimulator(fips=FIPS, \n",
    "                                   antibody_coverage = [1],\n",
    "                                   date=Rt.index[-1],\n",
    "                                   pcr_coverage=np.linspace(0, 1, 1000),\n",
    "                                   pcr_frequency=[freq],\n",
    "                                   max_pcr_cost_per_month=max_pcr_cost_per_month,\n",
    "                                   )\n",
    "\n",
    "        ts.run()\n",
    "        optimized = ts.optimize(by=['outbreak_prob', 'test_cost_pcr'])\n",
    "        pcr_covs.append(optimized['pcr_coverage']) \n",
    "        ab_covs.append(optimized['antibody_coverage'])\n",
    "        outbreak_prob.append(optimized['outbreak_prob'])\n",
    "        results.append(ts.results)\n",
    "    \n",
    "    test_results = pd.DataFrame({'pcr_coverage': pcr_covs,\n",
    "                                 'outbreak_prob': outbreak_prob,\n",
    "                                 'pcr frequency per month': [freq] * len(pcr_covs),\n",
    "                                 'pcr_test_budget': pcr_test_costs_per_month})\n",
    "    \n",
    "    test_results_list.append(test_results)\n",
    "\n",
    "test_results = pd.concat(test_results_list)"
   ]
  },
  {
   "cell_type": "code",
   "execution_count": 550,
   "metadata": {},
   "outputs": [
    {
     "data": {
      "image/png": "[encoded data removed]",
      "text/plain": [
       "<Figure size 864x288 with 2 Axes>"
      ]
     },
     "metadata": {
      "needs_background": "light"
     },
     "output_type": "display_data"
    }
   ],
   "source": [
    "fig, axes = plt.subplots(nrows=1, ncols=2, figsize=(12, 4))\n",
    "\n",
    "# optimal outbreak probability\n",
    "test_results_optimal_outbreak_prob = test_results.groupby('pcr_test_budget')['outbreak_prob'].min().reset_index()\n",
    "test_results_optimal_outbreak_prob.plot(x='pcr_test_budget', y='outbreak_prob', ax=axes[0], label='outbreak probability')\n",
    "axes[0].set_ylabel('probability of outbreak\\n(per month)', fontsize=12)\n",
    "\n",
    "\n",
    "# optimal pcr frequency\n",
    "for freq in test_results['pcr frequency per month'].unique():\n",
    "    test_results[test_results['pcr frequency per month'] == freq].plot(\n",
    "        x='pcr_test_budget', y='pcr_coverage', ax=axes[1], label=f'{freq} round pcr test per month')\n",
    "\n",
    "axes[1].set_ylabel('optimal pcr coverage\\n(per round)', fontsize=12)\n",
    "\n",
    "axes[0].set_xlabel('PCR test budget per month ($)', fontsize=12)\n",
    "axes[1].set_xlabel('PCR test budget per month ($)', fontsize=12)\n",
    "\n",
    "\n",
    "fig.tight_layout()\n",
    "plt.show()"
   ]
  },
  {
   "cell_type": "markdown",
   "metadata": {},
   "source": [
    "#### Scenario III. Saved Cost associated with worksite closure given different levels of testing"
   ]
  },
  {
   "cell_type": "code",
   "execution_count": 552,
   "metadata": {},
   "outputs": [
    {
     "data": {
      "text/plain": [
       "Text(0.5, 1.0, 'saved cost associated with worksite closure ($)')"
      ]
     },
     "execution_count": 552,
     "metadata": {},
     "output_type": "execute_result"
    },
    {
     "data": {
      "image/png": "[encoded data removed]",
      "text/plain": [
       "<Figure size 576x288 with 1 Axes>"
      ]
     },
     "metadata": {
      "needs_background": "light"
     },
     "output_type": "display_data"
    }
   ],
   "source": [
    "site_closure_costs = [100000, 200000, 300000, 500000]\n",
    "delta_cost_worksite_closure = list()\n",
    "net_costs = list()\n",
    "for site_closure_cost in site_closure_costs:\n",
    "    ts = TestStrategySimulator(fips=FIPS, \n",
    "                               antibody_coverage=[1],\n",
    "                               pcr_coverage=[1],\n",
    "                               pcr_frequency=[1], \n",
    "                               date=Rt.index[-1],\n",
    "                               site_closure_cost=site_closure_cost,\n",
    "                               max_pcr_cost_per_month=np.inf)\n",
    "\n",
    "    ts.run()\n",
    "    delta_cost_worksite_closure.append(ts.results['saved_cost_of_site_closure'].iloc[0])\n",
    "    net_costs.append(ts.results['net_cost'].iloc[0])\n",
    "    \n",
    "    \n",
    "    \n",
    "plt.figure(figsize=(8, 4))\n",
    "plt.plot(site_closure_costs,\n",
    "         delta_cost_worksite_closure,\n",
    "         label=f'pcr test {freq} times per month')\n",
    "plt.xlabel('cost of worksite closure per month($)', fontsize=12)\n",
    "plt.ylabel('saved cost associated with worksite closure ($)',\n",
    "          fontsize=12)\n",
    "plt.title('saved cost associated with worksite closure ($)')"
   ]
  },
  {
   "cell_type": "code",
   "execution_count": null,
   "metadata": {},
   "outputs": [],
   "source": []
  }
 ],
 "metadata": {
  "kernelspec": {
   "display_name": "pyseir",
   "language": "python",
   "name": "pyseir"
  },
  "language_info": {
   "codemirror_mode": {
    "name": "ipython",
    "version": 3
   },
   "file_extension": ".py",
   "mimetype": "text/x-python",
   "name": "python",
   "nbconvert_exporter": "python",
   "pygments_lexer": "ipython3",
   "version": "3.7.3"
  }
 },
 "nbformat": 4,
 "nbformat_minor": 4
}
