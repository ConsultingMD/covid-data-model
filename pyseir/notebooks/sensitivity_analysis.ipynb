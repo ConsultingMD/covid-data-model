{
 "cells": [
  {
   "cell_type": "code",
   "execution_count": null,
   "metadata": {},
   "outputs": [],
   "source": [
    "from datetime import datetime\n",
    "from pathlib import Path\n",
    "import pprint\n",
    "import joblib\n",
    "import numpy as np\n",
    "import pandas as pd\n",
    "import matplotlib.pyplot as plt\n",
    "from sklearn.gaussian_process.kernels import RBF, RationalQuadratic\n",
    "from sklearn.gaussian_process import GaussianProcessRegressor"
   ]
  },
  {
   "cell_type": "code",
   "execution_count": null,
   "metadata": {},
   "outputs": [],
   "source": [
    "from pyseir.models.seir_model import SEIRModel\n",
    "from pyseir.parameters.parameter_ensemble_generator import ParameterEnsembleGenerator\n",
    "from pyseir.models import suppression_policies"
   ]
  },
  {
   "cell_type": "code",
   "execution_count": null,
   "metadata": {},
   "outputs": [],
   "source": [
    "from pyseir.outcomes import OutcomesSampler, ContinuousParameter, OutcomeModels"
   ]
  },
  {
   "cell_type": "code",
   "execution_count": null,
   "metadata": {},
   "outputs": [],
   "source": [
    "t_list = np.linspace(0, 1080, 1080)\n",
    "fips_list = [\"06037\", \"36061\"]\n",
    "\n",
    "parameter_space = [ContinuousParameter('R0', 2, 4, alpha=0.8, beta=1), \n",
    "                   ContinuousParameter('delta', 1.0 / 30, 1, alpha=0.5, beta=1), \n",
    "                   ContinuousParameter('suppression_policy', 0.01, 1, alpha=1.25, beta=1.25)]\n",
    "\n",
    "outcome_fs = {\"R-final\": lambda x: np.log10(x[-1]),\n",
    "              \"D-final\": lambda x: np.log10(x[-1]),\n",
    "              \"HGen-max\": lambda x: np.log10(np.max(x)), \n",
    "              \"HGen-time_to_max\": lambda x: np.log10(np.argmax(x)),  \n",
    "              \"HICU-max\": lambda x: np.log10(np.max(x)), \n",
    "              \"HICU-time_to_max\": lambda x: np.log10(np.argmax(x)),\n",
    "              \"HVent-max\": lambda x: np.log10(np.max(x)), \n",
    "              \"HVent-time_to_max\": lambda x: np.log10(np.argmax(x)),\n",
    "              }\n",
    "\n",
    "num_outcomes = len(outcome_fs)\n",
    "\n",
    "def fn_approximator(oc, X, y):\n",
    "    kernel = RationalQuadratic(length_scale=0.3)\n",
    "    gpr = GaussianProcessRegressor(kernel=kernel, random_state=0, n_restarts_optimizer=10)\n",
    "    gpr.fit(X, y)\n",
    "    return (oc, gpr)"
   ]
  },
  {
   "cell_type": "code",
   "execution_count": null,
   "metadata": {},
   "outputs": [],
   "source": [
    "%%time\n",
    "num_samples = 100 # number of samples from parameter space\n",
    "fips_models = {}\n",
    "for fips in fips_list:\n",
    "    parameter_generator = ParameterEnsembleGenerator(fips=fips,\n",
    "                                                    N_samples=1000,\n",
    "                                                    t_list=t_list)\n",
    "    os = OutcomesSampler(parameter_generator, parameter_space, outcome_fs, num_samples=num_samples)\n",
    "    model_base = Path.cwd() / Path(\"models/sensitivity_analysis\")\n",
    "    ts_path = model_base / Path(fips) / Path(\"{:%Y%m%d-%H%M}\".format(datetime.now()))\n",
    "    ts_path.mkdir(parents=True, exist_ok=True)\n",
    "    samples_path = Path(\"outcome_samples.pkl\")\n",
    "    joblib.dump(os, ts_path / samples_path, compress=True)\n",
    "    parameter_names = [p.parameter_name for p in parameter_space]\n",
    "    om = OutcomeModels(os.outcomes_df, parameter_names, fn_approximator)\n",
    "    models_path = Path(\"outcome_models.pkl\")\n",
    "    joblib.dump(om.outcome_models, ts_path / models_path, compress=9)\n",
    "    fips_models[fips] = om.outcome_models"
   ]
  },
  {
   "cell_type": "code",
   "execution_count": null,
   "metadata": {},
   "outputs": [],
   "source": [
    "def plot_outcomes(model, grid, outcome_name, num_outcomes, idx):\n",
    "    plt.subplot(1, num_outcomes, idx)\n",
    "    x_ = grid[\"suppression_policy\"]\n",
    "    y_mean, y_cov = model.predict(grid, return_cov=True)\n",
    "    _ = plt.plot(x_, y_mean)\n",
    "    _ = plt.fill_between(x_, y_mean - np.sqrt(np.diag(y_cov)),\n",
    "                        y_mean + np.sqrt(np.diag(y_cov)),\n",
    "                        alpha=0.5, color='k')\n",
    "    _ = plt.xlabel(\"Suppression Policy\")\n",
    "    _ = plt.ylabel(outcome_name)"
   ]
  },
  {
   "cell_type": "code",
   "execution_count": null,
   "metadata": {},
   "outputs": [],
   "source": [
    "grid = pd.DataFrame({\"R0\": 2.5 * np.ones(100), \n",
    "                     \"delta\": 1/14 * np.ones(100), \n",
    "                     \"suppression_policy\": np.linspace(0.01, 1, 100)})\n",
    "\n",
    "for fips, model in fips_models.items():   \n",
    "    fig = plt.figure(figsize=(40, 10))\n",
    "    fig.suptitle(f\"Outcome responses for {fips}\")\n",
    "    for i, outcome_name in enumerate(model.keys()): \n",
    "        plot_outcomes(model[outcome_name], grid, outcome_name, num_outcomes, i+1)\n",
    " \n"
   ]
  },
  {
   "cell_type": "code",
   "execution_count": null,
   "metadata": {},
   "outputs": [],
   "source": []
  }
 ],
 "metadata": {
  "file_extension": ".py",
  "kernelspec": {
   "display_name": "Python 3.7.2 64-bit ('covidact': venv)",
   "name": "python37264bitcovidactvenvc972ef8374c8435abb33640b44aa009a"
  },
  "language_info": {
   "codemirror_mode": {
    "name": "ipython",
    "version": 3
   },
   "name": "python",
   "version": "3.7.7-final"
  },
  "mimetype": "text/x-python",
  "name": "python",
  "npconvert_exporter": "python",
  "pygments_lexer": "ipython3",
  "version": 3
 },
 "nbformat": 4,
 "nbformat_minor": 2
}
