{
 "cells": [
  {
   "cell_type": "code",
   "execution_count": null,
   "metadata": {},
   "outputs": [],
   "source": [
    "from datetime import datetime\n",
    "from pathlib import Path\n",
    "import pprint\n",
    "import joblib\n",
    "import numpy as np\n",
    "import pandas as pd\n",
    "import matplotlib.pyplot as plt\n",
    "from sklearn.gaussian_process.kernels import RBF, RationalQuadratic\n",
    "from sklearn.gaussian_process import GaussianProcessRegressor"
   ]
  },
  {
   "cell_type": "code",
   "execution_count": null,
   "metadata": {},
   "outputs": [],
   "source": [
    "from pyseir.models.seir_model import SEIRModel\n",
    "from pyseir.parameters.parameter_ensemble_generator import ParameterEnsembleGenerator\n",
    "from pyseir.models import suppression_policies"
   ]
  },
  {
   "cell_type": "code",
   "execution_count": null,
   "metadata": {},
   "outputs": [],
   "source": [
    "from pyseir.outcomes import OutcomesSampler, ContinuousParameter, OutcomeModels"
   ]
  },
  {
   "cell_type": "code",
   "execution_count": null,
   "metadata": {},
   "outputs": [],
   "source": [
    "t_list = np.linspace(0, 1080, 1080)\n",
    "parameter_generator = ParameterEnsembleGenerator(fips='06037',\n",
    "                                                 N_samples=1000,\n",
    "                                                 t_list=t_list)\n",
    "\n",
    "parameter_space = [ContinuousParameter('R0', 2, 4), \n",
    "                   ContinuousParameter('delta', 1.0 / 30, 1), \n",
    "                   ContinuousParameter('suppression_policy', 0.01, 1)]\n",
    "\n",
    "def total_deaths(rollout: np.array) -> float:\n",
    "    return np.log10(rollout[-1])\n",
    "\n",
    "def max_hicu(rollout: np.array) -> float:\n",
    "    return np.log10(np.max(rollout))\n",
    "\n",
    "def time_to_max_hicu(rollout: np.array) -> int:\n",
    "    return np.log10(np.argmax(rollout))\n",
    "\n",
    "outcome_fs = {\"D\": total_deaths, \n",
    "              \"HICU-1\": max_hicu, \n",
    "              \"HICU-2\": time_to_max_hicu}"
   ]
  },
  {
   "cell_type": "code",
   "execution_count": null,
   "metadata": {},
   "outputs": [],
   "source": [
    "%%time\n",
    "os = OutcomesSampler(parameter_generator, parameter_space, outcome_fs, num_samples=1000)"
   ]
  },
  {
   "cell_type": "code",
   "execution_count": null,
   "metadata": {},
   "outputs": [],
   "source": [
    "model_base = Path.cwd() / Path(\"models/sensitivity_analysis\")\n",
    "ts_path = model_base / Path(\"{:%Y%m%d-%H%M}\".format(datetime.now()))\n",
    "ts_path.mkdir(parents=True, exist_ok=True)"
   ]
  },
  {
   "cell_type": "code",
   "execution_count": null,
   "metadata": {},
   "outputs": [],
   "source": [
    "samples_path = Path(\"outcome_samples.pkl\")\n",
    "joblib.dump(os, ts_path / samples_path, compress=True)"
   ]
  },
  {
   "cell_type": "code",
   "execution_count": null,
   "metadata": {},
   "outputs": [],
   "source": [
    "%%time\n",
    "\n",
    "def fn_approximator(oc, X, y):\n",
    "    kernel = RationalQuadratic(length_scale=0.75)\n",
    "    gpr = GaussianProcessRegressor(kernel=kernel, random_state=0, n_restarts_optimizer=10)\n",
    "    gpr.fit(X, y)\n",
    "    return (oc, gpr)\n",
    "\n",
    "om = OutcomeModels(os.outcomes_df, parameter_space, fn_approximator)"
   ]
  },
  {
   "cell_type": "code",
   "execution_count": null,
   "metadata": {},
   "outputs": [],
   "source": [
    "models_path = Path(\"outcome_models.pkl\")\n",
    "joblib.dump(om.outcome_models, ts_path / models_path, compress=9)"
   ]
  },
  {
   "cell_type": "code",
   "execution_count": null,
   "metadata": {},
   "outputs": [],
   "source": [
    "sp_sensitivity = pd.DataFrame({\"R0\": 2.5 * np.ones(500), \"delta\": 1/14 * np.ones(500), \"suppression_policy\": np.linspace(0.01, 1, 500)})"
   ]
  },
  {
   "cell_type": "code",
   "execution_count": null,
   "metadata": {},
   "outputs": [],
   "source": [
    "x_ = sp_sensitivity[\"suppression_policy\"]\n",
    "y_mean, y_cov = om.outcome_models[\"max_hicu\"].predict(sp_sensitivity, return_cov=True)\n",
    "_ = plt.plot(x_, y_mean)\n",
    "_ = plt.fill_between(x_, y_mean - np.sqrt(np.diag(y_cov)),\n",
    "                     y_mean + np.sqrt(np.diag(y_cov)),\n",
    "                     alpha=0.5, color='k')\n",
    "_ = plt.xlabel(\"Suppression Policy\")\n",
    "_ = plt.ylabel(\"log max(HICU)\")"
   ]
  },
  {
   "cell_type": "code",
   "execution_count": null,
   "metadata": {},
   "outputs": [],
   "source": [
    "x_ = sp_sensitivity[\"suppression_policy\"]\n",
    "y_mean, y_cov = om.outcome_models[\"total_deaths\"].predict(sp_sensitivity, return_cov=True)\n",
    "_ = plt.plot(x_, y_mean)\n",
    "_ = plt.fill_between(x_, y_mean - np.sqrt(np.diag(y_cov)),\n",
    "                     y_mean + np.sqrt(np.diag(y_cov)),\n",
    "                     alpha=0.5, color='k')\n",
    "_ = plt.xlabel(\"Suppression Policy\")\n",
    "_ = plt.ylabel(\"log total deaths\")"
   ]
  },
  {
   "cell_type": "code",
   "execution_count": null,
   "metadata": {},
   "outputs": [],
   "source": [
    "x_ = sp_sensitivity[\"suppression_policy\"]\n",
    "y_mean, y_cov = om.outcome_models[\"time_to_max_hicu\"].predict(sp_sensitivity, return_cov=True)\n",
    "_ = plt.plot(x_, y_mean)\n",
    "_ = plt.fill_between(x_, y_mean - np.sqrt(np.diag(y_cov)),\n",
    "                     y_mean + np.sqrt(np.diag(y_cov)),\n",
    "                     alpha=0.5, color='k')\n",
    "_ = plt.xlabel(\"Suppression Policy\")\n",
    "_ = plt.ylabel(\"time to max HICU\")\n"
   ]
  },
  {
   "cell_type": "code",
   "execution_count": null,
   "metadata": {},
   "outputs": [],
   "source": []
  }
 ],
 "metadata": {
  "file_extension": ".py",
  "kernelspec": {
   "display_name": "Python 3.7.2 64-bit ('covidact': venv)",
   "name": "python37264bitcovidactvenvc972ef8374c8435abb33640b44aa009a"
  },
  "language_info": {
   "codemirror_mode": {
    "name": "ipython",
    "version": 3
   },
   "name": "python",
   "version": "3.7.7-final"
  },
  "mimetype": "text/x-python",
  "name": "python",
  "npconvert_exporter": "python",
  "pygments_lexer": "ipython3",
  "version": 3
 },
 "nbformat": 4,
 "nbformat_minor": 2
}
