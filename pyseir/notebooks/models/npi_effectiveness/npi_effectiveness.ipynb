{
 "cells": [
  {
   "cell_type": "code",
   "execution_count": null,
   "metadata": {},
   "outputs": [],
   "source": [
    "import numpy as np\n",
    "import pandas as pd\n",
    "import matplotlib.pyplot as plt\n",
    "from scipy.optimize import nnls\n",
    "from sklearn.linear_model import RidgeCV\n",
    "from sklearn.isotonic import IsotonicRegression"
   ]
  },
  {
   "cell_type": "code",
   "execution_count": null,
   "metadata": {},
   "outputs": [],
   "source": [
    "from pyseir import load_data\n",
    "from pyseir.inference.infer_t0 import infer_t0\n",
    "from pyseir.models.suppression_policies import distancing_measure_suppression"
   ]
  },
  {
   "cell_type": "code",
   "execution_count": null,
   "metadata": {},
   "outputs": [],
   "source": [
    "import us\n",
    "from pyseir.inference.infer_rt import RtInferenceEngine\n",
    "engine = RtInferenceEngine(fips='06')\n",
    "df = engine.infer_all(plot=False, shift_deaths=0)"
   ]
  },
  {
   "cell_type": "code",
   "execution_count": null,
   "metadata": {},
   "outputs": [],
   "source": [
    "whitelist = load_data.load_whitelist()\n",
    "whitelist_fips = whitelist[whitelist[\"inference_ok\"]==True][\"fips\"]"
   ]
  },
  {
   "cell_type": "code",
   "execution_count": null,
   "metadata": {},
   "outputs": [],
   "source": [
    "df_npi = load_data.load_public_implementations_data()\n",
    "df_npi_whitelisted = df_npi.loc[whitelist_fips]"
   ]
  },
  {
   "cell_type": "code",
   "execution_count": null,
   "metadata": {},
   "outputs": [],
   "source": [
    "def make_intervention_design(row):    \n",
    "    ts = pd.Series({(v, k): 1 for k, v in row.iteritems()})\n",
    "    return ts.unstack(level=1).fillna(method='ffill').fillna(0)\n",
    "\n",
    "npi_ts = {idx: make_intervention_design(row) for idx, row in df_npi_whitelisted.iterrows()}"
   ]
  },
  {
   "cell_type": "code",
   "execution_count": null,
   "metadata": {},
   "outputs": [],
   "source": [
    "%%time\n",
    "intervention_ts_accum = []\n",
    "interventions = ['500_gatherings', '50_gatherings', 'entertainment_gym',\n",
    "       'federal_guidelines', 'foreign_travel_ban', 'public_schools',\n",
    "       'restaurant_dine-in', 'stay_at_home']\n",
    "for k, npi in npi_ts.items():\n",
    "    try:\n",
    "        engine = RtInferenceEngine(fips=k)\n",
    "        r_t = engine.infer_all(plot=False, shift_deaths=0)\n",
    "    except KeyError:\n",
    "        print(f\"{k} not inferred\")\n",
    "        continue\n",
    "    fips_design = pd.merge(npi, df[\"Rt_MAP__new_cases\"], \n",
    "                           how='outer', right_index=True, left_index=True)\\\n",
    "                      .fillna(method='ffill').fillna(0)\n",
    "    fips_design[interventions] = fips_design[interventions].cumsum()\n",
    "    fips_design[\"fips\"] = k\n",
    "    fips_design.set_index(\"fips\", append=True, inplace=True)\n",
    "    intervention_ts_accum.append(fips_design)\n"
   ]
  },
  {
   "cell_type": "code",
   "execution_count": null,
   "metadata": {},
   "outputs": [],
   "source": [
    "intervention_ts = pd.concat(intervention_ts_accum)"
   ]
  },
  {
   "cell_type": "code",
   "execution_count": null,
   "metadata": {},
   "outputs": [],
   "source": [
    "intervention_ts.index = intervention_ts.index.rename([\"date\", \"fips\"])\n",
    "intervention_ts.index = intervention_ts.index.reorder_levels([\"fips\", \"date\"])"
   ]
  },
  {
   "cell_type": "code",
   "execution_count": null,
   "metadata": {},
   "outputs": [],
   "source": [
    "%%time\n",
    "ridge_regressors = {}\n",
    "nonneg_regressors = {}\n",
    "R0 = intervention_ts[\"Rt_MAP__new_cases\"].max()\n",
    "intervention_ts[\"Rt_percent_decrease\"] = (R0 - intervention_ts[\"Rt_MAP__new_cases\"]) / R0\n",
    "\n",
    "for lag in range(15):\n",
    "    df_accum = []\n",
    "    for fips, df in intervention_ts.groupby(\"fips\"):\n",
    "        df[\"Rt_percent_decrease\"] = pd.Series(df[\"Rt_percent_decrease\"].values[lag:], \n",
    "                                              index=df.index.values[:-lag if lag else None])\n",
    "        df_accum.append(df.dropna())\n",
    "    lagged_df = pd.concat(df_accum) \n",
    "    X = lagged_df[interventions].applymap(lambda x: 1 if x > 0 else 0)\n",
    "    y = lagged_df[\"Rt_percent_decrease\"]\n",
    "    ridge = RidgeCV()\n",
    "    ridge_regressors[lag] = {\"model\": ridge.fit(X, y), \"score\": ridge.score(X, y)}\n",
    "    for i, c in zip(interventions, ridge.coef_):\n",
    "        ridge_regressors[lag][i] = c\n",
    "    ridge_regressors[lag][\"intercept\"] = ridge.intercept_\n",
    "    X_with_intercept = np.hstack((X, np.ones(X.shape[0]).reshape(-1, 1)))\n",
    "    nonneg_coef, residual = nnls(X_with_intercept, y)\n",
    "    nonneg_regressors[lag] = {\"residual\": residual}\n",
    "    for i, c in zip(interventions + [\"intercept\"], nonneg_coef):\n",
    "        nonneg_regressors[lag][i] = c"
   ]
  },
  {
   "cell_type": "code",
   "execution_count": null,
   "metadata": {},
   "outputs": [],
   "source": [
    "ridge_results = pd.DataFrame(ridge_regressors).T\n",
    "ridge_results[interventions + [\"intercept\", \"score\"]]"
   ]
  },
  {
   "cell_type": "code",
   "execution_count": null,
   "metadata": {},
   "outputs": [],
   "source": [
    "nonneg_results = pd.DataFrame(nonneg_regressors).T\n",
    "nonneg_results[interventions + [\"intercept\", \"residual\"]]"
   ]
  },
  {
   "cell_type": "code",
   "execution_count": null,
   "metadata": {},
   "outputs": [],
   "source": []
  }
 ],
 "metadata": {
  "file_extension": ".py",
  "kernelspec": {
   "display_name": "Python 3.7.2 64-bit ('covidact': venv)",
   "name": "python37264bitcovidactvenvc972ef8374c8435abb33640b44aa009a"
  },
  "language_info": {
   "codemirror_mode": {
    "name": "ipython",
    "version": 3
   },
   "name": "python",
   "version": "3.7.7-final"
  },
  "mimetype": "text/x-python",
  "name": "python",
  "npconvert_exporter": "python",
  "pygments_lexer": "ipython3",
  "version": 3
 },
 "nbformat": 4,
 "nbformat_minor": 2
}
