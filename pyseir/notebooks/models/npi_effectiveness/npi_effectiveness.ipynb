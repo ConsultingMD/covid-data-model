{
 "cells": [
  {
   "cell_type": "code",
   "execution_count": null,
   "metadata": {},
   "outputs": [],
   "source": [
    "import numpy as np\n",
    "import pandas as pd\n",
    "import matplotlib.pyplot as plt\n",
    "from scipy.optimize import nnls\n",
    "from sklearn.base import RegressorMixin\n",
    "from sklearn.linear_model import RidgeCV"
   ]
  },
  {
   "cell_type": "code",
   "execution_count": null,
   "metadata": {},
   "outputs": [],
   "source": [
    "from pyseir import load_data\n",
    "from pyseir.inference.infer_t0 import infer_t0\n",
    "from pyseir.models.suppression_policies import distancing_measure_suppression\n",
    "from pyseir.inference.infer_rt import RtInferenceEngine"
   ]
  },
  {
   "cell_type": "code",
   "execution_count": null,
   "metadata": {},
   "outputs": [],
   "source": [
    "whitelist = load_data.load_whitelist()\n",
    "whitelist_fips = whitelist[whitelist[\"inference_ok\"]==True][\"fips\"]"
   ]
  },
  {
   "cell_type": "code",
   "execution_count": null,
   "metadata": {},
   "outputs": [],
   "source": [
    "df_npi = load_data.load_public_implementations_data()\n",
    "df_npi_whitelisted = df_npi.loc[whitelist_fips]"
   ]
  },
  {
   "cell_type": "code",
   "execution_count": null,
   "metadata": {},
   "outputs": [],
   "source": [
    "def make_intervention_design(row):    \n",
    "    ts = pd.Series({(v, k): 1 for k, v in row.iteritems()})\n",
    "    return ts.unstack(level=1).fillna(method='ffill').fillna(0)\n",
    "\n",
    "npi_ts = {idx: make_intervention_design(row) for idx, row in df_npi_whitelisted.iterrows()}"
   ]
  },
  {
   "cell_type": "code",
   "execution_count": null,
   "metadata": {},
   "outputs": [],
   "source": [
    "%%time\n",
    "intervention_ts_accum = []\n",
    "interventions = ['500_gatherings', '50_gatherings', 'entertainment_gym',\n",
    "       'federal_guidelines', 'foreign_travel_ban', 'public_schools',\n",
    "       'restaurant_dine-in', 'stay_at_home']\n",
    "fips_series_choice = {}\n",
    "for k, npi in npi_ts.items():\n",
    "    try:\n",
    "        engine = RtInferenceEngine(fips=k)\n",
    "        r_t_all = engine.infer_all(plot=False, shift_deaths=0)\n",
    "    except KeyError:\n",
    "        print(f\"{k} not inferred\")\n",
    "        continue\n",
    "    # Select the MAP estimate with the most history\n",
    "    map_columns = [c for c in r_t_all.columns if \"MAP\" in c]    \n",
    "    idx = r_t_all[map_columns]\\\n",
    "            .fillna(0)\\\n",
    "            .applymap(lambda x: 1 if x > 0 else 0)\\\n",
    "            .sum()\\\n",
    "            .idxmax()\n",
    "    fips_series_choice[k] = idx\n",
    "    rt = r_t_all[idx].rename(\"Rt\")\n",
    "    # Combine the NPI timeseries for the fips `k` with the timeseries for the chosen series for R_t\n",
    "    fips_design = pd.merge(npi, rt, \n",
    "                           how='outer', right_index=True, left_index=True)\\\n",
    "                      .fillna(method='ffill').fillna(0)\n",
    "    # Take the cumulative sum of the interventions columns to get the number of days the intervention was in place\n",
    "    fips_design[interventions] = fips_design[interventions].cumsum()\n",
    "    # Set the index\n",
    "    fips_design[\"fips\"] = k\n",
    "    # Remove rows where R_t is zero\n",
    "    fips_design = fips_design[fips_design[\"Rt\"] > 0]\n",
    "    fips_design.set_index(\"fips\", append=True, inplace=True)\n",
    "    intervention_ts_accum.append(fips_design)\n"
   ]
  },
  {
   "cell_type": "code",
   "execution_count": null,
   "metadata": {},
   "outputs": [],
   "source": [
    "fips_series_choice = pd.Series(fips_series_choice)\n",
    "fips_series_choice[fips_series_choice != \"Rt_MAP__new_cases\"]"
   ]
  },
  {
   "cell_type": "code",
   "execution_count": null,
   "metadata": {},
   "outputs": [],
   "source": [
    "intervention_ts = pd.concat(intervention_ts_accum)"
   ]
  },
  {
   "cell_type": "code",
   "execution_count": null,
   "metadata": {},
   "outputs": [],
   "source": [
    "intervention_ts.index = intervention_ts.index.rename([\"date\", \"fips\"])\n",
    "intervention_ts.index = intervention_ts.index.reorder_levels([\"fips\", \"date\"])"
   ]
  },
  {
   "cell_type": "code",
   "execution_count": null,
   "metadata": {},
   "outputs": [],
   "source": [
    "class NNLSModel(RegressorMixin):\n",
    "\n",
    "    def __init__(self, fit_intercept=False):\n",
    "        self.fit_intercept = fit_intercept\n",
    "\n",
    "    def fit(self, X, y):\n",
    "        if self.fit_intercept:\n",
    "            intercept_col = np.ones(X.shape[1]).reshape(-1, 1)\n",
    "            X = np.hstack((X, intercept_col))\n",
    "        self.coef_, self.residual_ = nnls(X, y)\n",
    "        return self\n",
    "        \n",
    "    def predict(self, X):\n",
    "        return np.dot(X, self.coef_)\n"
   ]
  },
  {
   "cell_type": "code",
   "execution_count": null,
   "metadata": {},
   "outputs": [],
   "source": [
    "%%time\n",
    "ridge_regressors = {}\n",
    "nonneg_regressors = {}\n",
    "R0 = intervention_ts.groupby(\"fips\")[\"Rt\"].max()\n",
    "intervention_ts[\"Rt_percent_decrease\"] = 1 - intervention_ts[\"Rt\"] / R0\n",
    "\n",
    "for lag in range(29):\n",
    "    df_accum = []\n",
    "    for fips, df in intervention_ts.groupby(\"fips\"):\n",
    "        df[\"Rt_percent_decrease\"] = pd.Series(df[\"Rt_percent_decrease\"].values[lag:], \n",
    "                                              index=df.index.values[:-lag if lag else None])\n",
    "        df_accum.append(df.dropna())\n",
    "    lagged_df = pd.concat(df_accum) \n",
    "    X = lagged_df[interventions].applymap(lambda x: 1 if x > 0 else 0)\n",
    "    y = lagged_df[\"Rt_percent_decrease\"]\n",
    "    \n",
    "    ridge = RidgeCV(fit_intercept=False)\n",
    "    ridge_regressors[lag] = {\"model\": ridge.fit(X, y), \"score\": ridge.score(X, y)}\n",
    "    for i, c in zip(interventions, ridge.coef_):\n",
    "        ridge_regressors[lag][i] = c\n",
    "    \n",
    "    nonneg_model = NNLSModel()\n",
    "    nonneg_regressors[lag] = {\"model\": nonneg_model.fit(X, y), \"score\": nonneg_model.score(X, y)}\n",
    "    for i, c in zip(interventions, nonneg_model.coef_):\n",
    "        nonneg_regressors[lag][i] = c"
   ]
  },
  {
   "cell_type": "code",
   "execution_count": null,
   "metadata": {},
   "outputs": [],
   "source": [
    "ridge_results = pd.DataFrame(ridge_regressors).T\n",
    "ridge_results[interventions + [\"score\"]]"
   ]
  },
  {
   "cell_type": "code",
   "execution_count": null,
   "metadata": {},
   "outputs": [],
   "source": [
    "nonneg_results = pd.DataFrame(nonneg_regressors).T\n",
    "nonneg_results[interventions + [\"score\"]]"
   ]
  },
  {
   "cell_type": "code",
   "execution_count": null,
   "metadata": {},
   "outputs": [],
   "source": [
    "ridge_results.iloc[np.argmax(ridge_results[\"score\"].values)]"
   ]
  },
  {
   "cell_type": "code",
   "execution_count": null,
   "metadata": {},
   "outputs": [],
   "source": [
    "nonneg_results.iloc[np.argmax(nonneg_results[\"score\"].values)]"
   ]
  },
  {
   "cell_type": "code",
   "execution_count": null,
   "metadata": {},
   "outputs": [],
   "source": [
    "intervention_ts[\"predicted_change_lag8\"] = ridge_results.iloc[8][\"model\"].predict(intervention_ts[interventions])"
   ]
  },
  {
   "cell_type": "code",
   "execution_count": null,
   "metadata": {},
   "outputs": [],
   "source": [
    "random_fips = np.random.choice(intervention_ts.index.values)[0]\n",
    "fig, ax = plt.subplots(figsize=(5, 5))\n",
    "intervention_ts.xs(random_fips)[\"predicted_change_lag8\"].plot(ax=ax)\n",
    "ax2 = ax.twiny()\n",
    "intervention_ts.xs(random_fips)[\"Rt_percent_decrease\"].plot(style='r', ax=ax2, secondary_y=True)\n",
    "print(random_fips)"
   ]
  },
  {
   "cell_type": "code",
   "execution_count": null,
   "metadata": {},
   "outputs": [],
   "source": []
  }
 ],
 "metadata": {
  "file_extension": ".py",
  "kernelspec": {
   "display_name": "Python 3.7.2 64-bit ('covidact': venv)",
   "name": "python37264bitcovidactvenvc972ef8374c8435abb33640b44aa009a"
  },
  "language_info": {
   "codemirror_mode": {
    "name": "ipython",
    "version": 3
   },
   "name": "python",
   "version": "3.7.7-final"
  },
  "mimetype": "text/x-python",
  "name": "python",
  "npconvert_exporter": "python",
  "pygments_lexer": "ipython3",
  "version": 3
 },
 "nbformat": 4,
 "nbformat_minor": 2
}
