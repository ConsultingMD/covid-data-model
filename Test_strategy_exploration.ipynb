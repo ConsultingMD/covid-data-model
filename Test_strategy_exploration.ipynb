{
 "cells": [
  {
   "cell_type": "code",
   "execution_count": 3,
   "metadata": {},
   "outputs": [],
   "source": [
    "import numpy as np\n",
    "import pandas as pd"
   ]
  },
  {
   "cell_type": "markdown",
   "metadata": {},
   "source": [
    "**There are several assumptions when estimating the outcome of a test strategy:**. \n",
    "- State/County/Community level testing strategy remains uncertain. However, we could implement several plausible     scenarios assuming that one would match the strategy after the re-opening or assume a minimal community testing level.  \n",
    "- There will be regular symptom monitoring.  \n",
    "- people who showed flu-like symptoms or contact with people who are diagnosed with covid in the past 14 days have   priority for PCR test.   \n",
    "- people who are tested positive by PCR are quarantined immediately.  \n",
    "- people who are tested positive for antibody test and do not show flu-like symptoms within last 14 days or had flu-like symptoms more than 28 days ago get priority of getting back to work.  \n",
    "\n",
    "\n",
    "**Available parameters:**  \n",
    "- R(t): Effective reproduction number (CAN model)\n",
    "- P(infected): prevalence of infection among employees (CAN model)\n",
    "- CAN model output for given worksite\n",
    "- N: Population size at worksite\n",
    "- cost_pcr_individual: cost of PCR per individual\n",
    "- cost_ab_individual: cost of Antibody test per individual\n",
    "- age_group: distribution of age groups at worksite. \n",
    "- max_availability: maximum availability of PCR test.\n",
    "\n",
    "**Parameters to estimate based on information from literature:**    \n",
    "- sen_pcr: sensitivity of PCR  \n",
    "- sen_ab: sensitivity of antibody test. \n",
    "- P(immune | antibody test): probability of immunity given positive antibody test\n",
    "\n",
    "**Variables:**  \n",
    "- cov_pcr: coverage of PCR testing (0-1)\n",
    "- cov_ab: coverage of antibody testing (0-1)\n",
    "- freq_pcr: frequency of PCR testing (4/wk, 2/wk, 1/wk)\n",
    "- freq_ab: frequency of antibody testing\n",
    "- frac_worker_back: fraction of worker back to worksite (0 - 1)  \n",
    "\n",
    "**Metrics to optimize:**.  \n",
    "\n",
    "- delta P(infected) = P(infected) * cov_pcr *  sen_pcr\n",
    "                     \n",
    "If there is a threshold (X number/percent of cases) above which worksite is required to close, then P(outbreak | undetected cases) = P(undetected cases >= X) and:   \n",
    "\n",
    "- delta P(outbreak | undetected cases) = P(detected cases + prevented secondary transmission >= X)\n",
    "\t\n",
    "**Metrics to report:**  \n",
    "- delta COVID Index: reduction in COVID index:  \n",
    "  delta P(infected) * P(hospitalization | infected)    \n",
    "- delta worksite immunity: increase in percentage of workers with immunity:   \n",
    "  P(recovered) * (1 - frac_worker_back) * cov_ab * sen_ab  \n",
    "- prevented secondary transmission: prevented secondary transmission due to reduction in cases and increase in immunity:   \n",
    "  (N * R(t) x delta P(infection) x relative_contact_rate / 2) * (1 + delta worksite immunity) (assuming cases are     detected and quarantined in the middle of infectious period)  \n",
    "- testing cost:  \n",
    "    cov_pcr * N * cost_pcr + cov_ab * N * cost_ab  \n",
    "- avoided cost:   \n",
    "    hospitalization_cost * prevented secondary transmission * P(hospitalization | infected) + reduction in probability of outbreak(closure) * cost_of_closure  \n"
   ]
  },
  {
   "cell_type": "markdown",
   "metadata": {},
   "source": [
    "#### Codes"
   ]
  },
  {
   "cell_type": "code",
   "execution_count": null,
   "metadata": {},
   "outputs": [],
   "source": [
    "\n",
    "        "
   ]
  },
  {
   "cell_type": "code",
   "execution_count": 1,
   "metadata": {},
   "outputs": [],
   "source": [
    "from sklearn.model_selection import ParameterGrid"
   ]
  },
  {
   "cell_type": "code",
   "execution_count": 4,
   "metadata": {},
   "outputs": [
    {
     "data": {
      "text/html": [
       "<div>\n",
       "<style scoped>\n",
       "    .dataframe tbody tr th:only-of-type {\n",
       "        vertical-align: middle;\n",
       "    }\n",
       "\n",
       "    .dataframe tbody tr th {\n",
       "        vertical-align: top;\n",
       "    }\n",
       "\n",
       "    .dataframe thead th {\n",
       "        text-align: right;\n",
       "    }\n",
       "</style>\n",
       "<table border=\"1\" class=\"dataframe\">\n",
       "  <thead>\n",
       "    <tr style=\"text-align: right;\">\n",
       "      <th></th>\n",
       "      <th>a</th>\n",
       "      <th>b</th>\n",
       "    </tr>\n",
       "  </thead>\n",
       "  <tbody>\n",
       "    <tr>\n",
       "      <th>0</th>\n",
       "      <td>1</td>\n",
       "      <td>4</td>\n",
       "    </tr>\n",
       "    <tr>\n",
       "      <th>1</th>\n",
       "      <td>1</td>\n",
       "      <td>5</td>\n",
       "    </tr>\n",
       "    <tr>\n",
       "      <th>2</th>\n",
       "      <td>2</td>\n",
       "      <td>4</td>\n",
       "    </tr>\n",
       "    <tr>\n",
       "      <th>3</th>\n",
       "      <td>2</td>\n",
       "      <td>5</td>\n",
       "    </tr>\n",
       "    <tr>\n",
       "      <th>4</th>\n",
       "      <td>3</td>\n",
       "      <td>4</td>\n",
       "    </tr>\n",
       "    <tr>\n",
       "      <th>5</th>\n",
       "      <td>3</td>\n",
       "      <td>5</td>\n",
       "    </tr>\n",
       "  </tbody>\n",
       "</table>\n",
       "</div>"
      ],
      "text/plain": [
       "   a  b\n",
       "0  1  4\n",
       "1  1  5\n",
       "2  2  4\n",
       "3  2  5\n",
       "4  3  4\n",
       "5  3  5"
      ]
     },
     "execution_count": 4,
     "metadata": {},
     "output_type": "execute_result"
    }
   ],
   "source": [
    "pd.DataFrame(list(ParameterGrid({'a': [1,2,3], 'b': [4,5]})))"
   ]
  },
  {
   "cell_type": "markdown",
   "metadata": {},
   "source": [
    "#### Case study"
   ]
  },
  {
   "cell_type": "code",
   "execution_count": null,
   "metadata": {},
   "outputs": [],
   "source": []
  }
 ],
 "metadata": {
  "kernelspec": {
   "display_name": "Python (pyseir)",
   "language": "python",
   "name": "pyseir"
  },
  "language_info": {
   "codemirror_mode": {
    "name": "ipython",
    "version": 3
   },
   "file_extension": ".py",
   "mimetype": "text/x-python",
   "name": "python",
   "nbconvert_exporter": "python",
   "pygments_lexer": "ipython3",
   "version": "3.7.3"
  }
 },
 "nbformat": 4,
 "nbformat_minor": 4
}
