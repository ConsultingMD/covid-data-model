{
 "cells": [
  {
   "cell_type": "code",
   "execution_count": 1,
   "metadata": {},
   "outputs": [],
   "source": [
    "import pandas as pd\n",
    "import numpy as np\n",
    "import datetime\n",
    "import seaborn as sb\n",
    "import time\n",
    "#from ipywidgets import interact, fixed\n",
    "pd.set_option('display.float_format', lambda x: '%.2f' % x)\n",
    "\n",
    "from libs.CovidDatasets import JHUDataset as LegacyJHUDataset\n",
    "from libs.datasets import JHUDataset\n",
    "from libs.datasets import FIPSPopulation\n",
    "from libs.datasets import DHBeds\n",
    "from libs.datasets.dataset_utils import AggregationLevel\n",
    "\n",
    "from libs.ModelRun import ModelRun, prep_plot, report_months"
   ]
  },
  {
   "cell_type": "code",
   "execution_count": 2,
   "metadata": {},
   "outputs": [],
   "source": [
    "%load_ext autoreload\n",
    "%autoreload 2"
   ]
  },
  {
   "cell_type": "code",
   "execution_count": 3,
   "metadata": {},
   "outputs": [],
   "source": [
    "%matplotlib inline\n",
    "\n",
    "import matplotlib.pyplot as plt\n",
    "\n",
    "from pandas.plotting import register_matplotlib_converters\n",
    "register_matplotlib_converters()"
   ]
  },
  {
   "cell_type": "code",
   "execution_count": 4,
   "metadata": {},
   "outputs": [],
   "source": [
    "state_list = ['AL', 'AK', 'AS', 'AZ', 'AR', 'CA', 'CO', 'CT', 'DE', 'DC', 'FL', 'GA', 'GU', 'HI', 'ID', 'IL', 'IN', 'IA', 'KS', 'KY',\n",
    "              'LA', 'ME', 'MD', 'MH', 'MA', 'MI', 'FM', 'MN', 'MS', 'MO', 'MT', 'NE', 'NV', 'NH', 'NJ', 'NM', 'NY', 'NC', 'ND', 'MP', \n",
    "              'OH', 'OK', 'OR', 'PW', 'PA', 'PR', 'RI', 'SC', 'SD', 'TN', 'TX', 'UT', 'VT', 'VA', 'VI', 'WA', 'WV', 'WI', 'WY']"
   ]
  },
  {
   "cell_type": "code",
   "execution_count": 5,
   "metadata": {},
   "outputs": [
    {
     "name": "stdout",
     "output_type": "stream",
     "text": [
      "59\n",
      "52\n"
     ]
    }
   ],
   "source": [
    "print(len(state_list))\n",
    "\n",
    "bad_list = ['AS', 'GU', 'MH', 'FM', 'MP', 'PW','VI']\n",
    "\n",
    "state_list = [state for state in state_list if state not in bad_list]\n",
    "\n",
    "print(len(state_list))"
   ]
  },
  {
   "cell_type": "code",
   "execution_count": 6,
   "metadata": {},
   "outputs": [
    {
     "name": "stderr",
     "output_type": "stream",
     "text": [
      "Could not match ('GU', 'Guam')\n",
      "Could not match ('MP', 'Saipan')\n",
      "Could not match ('AS', 'American Samoa')\n",
      "Could not match ('VI', 'Saint Croix')\n",
      "Could not match ('VI', 'Saint Thomas')\n"
     ]
    }
   ],
   "source": [
    "min_date = pd.to_datetime(datetime.datetime(2020, 1, 1))\n",
    "epi_model = 'asymp'\n",
    "\n",
    "beds_data = DHBeds.local().beds()\n",
    "population_data = FIPSPopulation.local().population()"
   ]
  },
  {
   "cell_type": "code",
   "execution_count": 7,
   "metadata": {},
   "outputs": [
    {
     "name": "stderr",
     "output_type": "stream",
     "text": [
      "Did not match 49 codes to county data.\n",
      "['00066', '00072', '00078', '60000', '66000', '69000', '78000', '80008', '80015', '80040', '88888', '90001', '90002', '90004', '90005', '90006', '90008', '90009', '90010', '90012', '90013', '90015', '90016', '90017', '90019', '90020', '90021', '90023', '90024', '90025', '90027', '90029', '90030', '90031', '90032', '90033', '90034', '90035', '90036', '90038', '90040', '90044', '90046', '90047', '90050', '90051', '90053', '90054', '90055']\n"
     ]
    }
   ],
   "source": [
    "timeseries = JHUDataset.local().timeseries()"
   ]
  },
  {
   "cell_type": "code",
   "execution_count": 8,
   "metadata": {
    "scrolled": true
   },
   "outputs": [],
   "source": [
    "#model_runs = {}\n",
    "\n",
    "#for state in state_list:\n",
    "#    model_runs[state] = ModelRun(state)\n",
    "\n",
    "#    model_runs[state].get_data_subset(beds_data, population_data, timeseries, 'USA', state, min_date)\n",
    "#    model_runs[state].set_epi_model(epi_model)"
   ]
  },
  {
   "cell_type": "code",
   "execution_count": 9,
   "metadata": {},
   "outputs": [],
   "source": [
    "test = ModelRun('TX')"
   ]
  },
  {
   "cell_type": "code",
   "execution_count": 10,
   "metadata": {},
   "outputs": [],
   "source": [
    "test.get_data_subset(beds_data, population_data, timeseries, min_date)\n",
    "test.set_epi_model(epi_model)"
   ]
  },
  {
   "cell_type": "code",
   "execution_count": 11,
   "metadata": {},
   "outputs": [
    {
     "data": {
      "text/plain": [
       "3.1479999999999975"
      ]
     },
     "execution_count": 11,
     "metadata": {},
     "output_type": "execute_result"
    }
   ],
   "source": [
    "test.epi_run.EpiParams.generate_r0()"
   ]
  },
  {
   "cell_type": "code",
   "execution_count": 12,
   "metadata": {},
   "outputs": [
    {
     "data": {
      "text/plain": [
       "8195.0"
      ]
     },
     "execution_count": 12,
     "metadata": {},
     "output_type": "execute_result"
    }
   ],
   "source": [
    "test.epi_run.InitConditions.mild"
   ]
  },
  {
   "cell_type": "code",
   "execution_count": 13,
   "metadata": {},
   "outputs": [
    {
     "data": {
      "text/plain": [
       "array([[8.19500000e+03, 9.86159667e+03, 1.17939403e+04, ...,\n",
       "        2.19794060e-09, 2.13104967e-09, 2.00425297e-09],\n",
       "       [8.19500000e+03, 7.76899687e+03, 7.57373293e+03, ...,\n",
       "        2.24460257e-10, 1.24048045e-10, 4.20903836e-11],\n",
       "       [1.63900000e+03, 1.63167140e+03, 1.61605879e+03, ...,\n",
       "        8.11685771e-10, 7.45398372e-10, 6.67906952e-10],\n",
       "       ...,\n",
       "       [0.00000000e+00, 1.44733492e+03, 3.12367775e+03, ...,\n",
       "        2.79635897e+07, 2.79635897e+07, 2.79635897e+07],\n",
       "       [1.16000000e+02, 1.36404634e+02, 1.56647356e+02, ...,\n",
       "        1.18410249e+05, 1.18410249e+05, 1.18410249e+05],\n",
       "       [0.00000000e+00, 1.97231598e+03, 4.09038634e+03, ...,\n",
       "        4.88264754e-09, 4.24613708e-09, 3.60465627e-09]])"
      ]
     },
     "execution_count": 13,
     "metadata": {},
     "output_type": "execute_result"
    }
   ],
   "source": [
    "test.epi_run.results"
   ]
  },
  {
   "cell_type": "code",
   "execution_count": 14,
   "metadata": {},
   "outputs": [
    {
     "data": {
      "text/html": [
       "<div>\n",
       "<style scoped>\n",
       "    .dataframe tbody tr th:only-of-type {\n",
       "        vertical-align: middle;\n",
       "    }\n",
       "\n",
       "    .dataframe tbody tr th {\n",
       "        vertical-align: top;\n",
       "    }\n",
       "\n",
       "    .dataframe thead th {\n",
       "        text-align: right;\n",
       "    }\n",
       "</style>\n",
       "<table border=\"1\" class=\"dataframe\">\n",
       "  <thead>\n",
       "    <tr style=\"text-align: right;\">\n",
       "      <th></th>\n",
       "      <th>exposed</th>\n",
       "      <th>infected_a</th>\n",
       "      <th>infected_b</th>\n",
       "      <th>infected_c</th>\n",
       "      <th>recovered</th>\n",
       "      <th>dead</th>\n",
       "      <th>asymp</th>\n",
       "    </tr>\n",
       "  </thead>\n",
       "  <tbody>\n",
       "    <tr>\n",
       "      <th>2020-04-04</th>\n",
       "      <td>8195.00</td>\n",
       "      <td>8195.00</td>\n",
       "      <td>1639.00</td>\n",
       "      <td>409.75</td>\n",
       "      <td>0.00</td>\n",
       "      <td>116.00</td>\n",
       "      <td>0.00</td>\n",
       "    </tr>\n",
       "    <tr>\n",
       "      <th>2020-04-05</th>\n",
       "      <td>9861.60</td>\n",
       "      <td>7769.00</td>\n",
       "      <td>1631.67</td>\n",
       "      <td>406.47</td>\n",
       "      <td>1447.33</td>\n",
       "      <td>136.40</td>\n",
       "      <td>1972.32</td>\n",
       "    </tr>\n",
       "    <tr>\n",
       "      <th>2020-04-06</th>\n",
       "      <td>11793.94</td>\n",
       "      <td>7573.73</td>\n",
       "      <td>1616.06</td>\n",
       "      <td>403.23</td>\n",
       "      <td>3123.68</td>\n",
       "      <td>156.65</td>\n",
       "      <td>4090.39</td>\n",
       "    </tr>\n",
       "    <tr>\n",
       "      <th>2020-04-07</th>\n",
       "      <td>14084.78</td>\n",
       "      <td>7602.72</td>\n",
       "      <td>1600.39</td>\n",
       "      <td>399.93</td>\n",
       "      <td>5081.32</td>\n",
       "      <td>176.73</td>\n",
       "      <td>6404.57</td>\n",
       "    </tr>\n",
       "    <tr>\n",
       "      <th>2020-04-08</th>\n",
       "      <td>16824.87</td>\n",
       "      <td>7858.81</td>\n",
       "      <td>1591.58</td>\n",
       "      <td>396.67</td>\n",
       "      <td>7380.99</td>\n",
       "      <td>196.64</td>\n",
       "      <td>8978.78</td>\n",
       "    </tr>\n",
       "    <tr>\n",
       "      <th>...</th>\n",
       "      <td>...</td>\n",
       "      <td>...</td>\n",
       "      <td>...</td>\n",
       "      <td>...</td>\n",
       "      <td>...</td>\n",
       "      <td>...</td>\n",
       "      <td>...</td>\n",
       "    </tr>\n",
       "    <tr>\n",
       "      <th>2021-03-30</th>\n",
       "      <td>0.00</td>\n",
       "      <td>0.00</td>\n",
       "      <td>0.00</td>\n",
       "      <td>0.00</td>\n",
       "      <td>27963589.73</td>\n",
       "      <td>118410.25</td>\n",
       "      <td>0.00</td>\n",
       "    </tr>\n",
       "    <tr>\n",
       "      <th>2021-03-31</th>\n",
       "      <td>0.00</td>\n",
       "      <td>0.00</td>\n",
       "      <td>0.00</td>\n",
       "      <td>0.00</td>\n",
       "      <td>27963589.73</td>\n",
       "      <td>118410.25</td>\n",
       "      <td>0.00</td>\n",
       "    </tr>\n",
       "    <tr>\n",
       "      <th>2021-04-01</th>\n",
       "      <td>0.00</td>\n",
       "      <td>0.00</td>\n",
       "      <td>0.00</td>\n",
       "      <td>0.00</td>\n",
       "      <td>27963589.73</td>\n",
       "      <td>118410.25</td>\n",
       "      <td>0.00</td>\n",
       "    </tr>\n",
       "    <tr>\n",
       "      <th>2021-04-02</th>\n",
       "      <td>0.00</td>\n",
       "      <td>0.00</td>\n",
       "      <td>0.00</td>\n",
       "      <td>0.00</td>\n",
       "      <td>27963589.73</td>\n",
       "      <td>118410.25</td>\n",
       "      <td>0.00</td>\n",
       "    </tr>\n",
       "    <tr>\n",
       "      <th>2021-04-03</th>\n",
       "      <td>0.00</td>\n",
       "      <td>0.00</td>\n",
       "      <td>0.00</td>\n",
       "      <td>0.00</td>\n",
       "      <td>27963589.73</td>\n",
       "      <td>118410.25</td>\n",
       "      <td>0.00</td>\n",
       "    </tr>\n",
       "  </tbody>\n",
       "</table>\n",
       "<p>365 rows × 7 columns</p>\n",
       "</div>"
      ],
      "text/plain": [
       "            exposed  infected_a  infected_b  infected_c   recovered      dead  \\\n",
       "2020-04-04  8195.00     8195.00     1639.00      409.75        0.00    116.00   \n",
       "2020-04-05  9861.60     7769.00     1631.67      406.47     1447.33    136.40   \n",
       "2020-04-06 11793.94     7573.73     1616.06      403.23     3123.68    156.65   \n",
       "2020-04-07 14084.78     7602.72     1600.39      399.93     5081.32    176.73   \n",
       "2020-04-08 16824.87     7858.81     1591.58      396.67     7380.99    196.64   \n",
       "...             ...         ...         ...         ...         ...       ...   \n",
       "2021-03-30     0.00        0.00        0.00        0.00 27963589.73 118410.25   \n",
       "2021-03-31     0.00        0.00        0.00        0.00 27963589.73 118410.25   \n",
       "2021-04-01     0.00        0.00        0.00        0.00 27963589.73 118410.25   \n",
       "2021-04-02     0.00        0.00        0.00        0.00 27963589.73 118410.25   \n",
       "2021-04-03     0.00        0.00        0.00        0.00 27963589.73 118410.25   \n",
       "\n",
       "             asymp  \n",
       "2020-04-04    0.00  \n",
       "2020-04-05 1972.32  \n",
       "2020-04-06 4090.39  \n",
       "2020-04-07 6404.57  \n",
       "2020-04-08 8978.78  \n",
       "...            ...  \n",
       "2021-03-30    0.00  \n",
       "2021-03-31    0.00  \n",
       "2021-04-01    0.00  \n",
       "2021-04-02    0.00  \n",
       "2021-04-03    0.00  \n",
       "\n",
       "[365 rows x 7 columns]"
      ]
     },
     "execution_count": 14,
     "metadata": {},
     "output_type": "execute_result"
    }
   ],
   "source": [
    "test.epi_run.results_df"
   ]
  },
  {
   "cell_type": "code",
   "execution_count": 15,
   "metadata": {},
   "outputs": [],
   "source": [
    "int_test = {\n",
    "    'name': 'test_intervention',\n",
    "    'start_date': pd.to_datetime(datetime.datetime(2020, 4, 15)),\n",
    "    'new_parameters': {\n",
    "        'beta': 0.4,\n",
    "        'beta_asymp': 0.6,\n",
    "    }\n",
    "}\n",
    "\n",
    "test.add_intervention(int_test)"
   ]
  },
  {
   "cell_type": "code",
   "execution_count": 16,
   "metadata": {},
   "outputs": [
    {
     "data": {
      "text/html": [
       "<div>\n",
       "<style scoped>\n",
       "    .dataframe tbody tr th:only-of-type {\n",
       "        vertical-align: middle;\n",
       "    }\n",
       "\n",
       "    .dataframe tbody tr th {\n",
       "        vertical-align: top;\n",
       "    }\n",
       "\n",
       "    .dataframe thead th {\n",
       "        text-align: right;\n",
       "    }\n",
       "</style>\n",
       "<table border=\"1\" class=\"dataframe\">\n",
       "  <thead>\n",
       "    <tr style=\"text-align: right;\">\n",
       "      <th></th>\n",
       "      <th>exposed</th>\n",
       "      <th>infected_a</th>\n",
       "      <th>infected_b</th>\n",
       "      <th>infected_c</th>\n",
       "      <th>recovered</th>\n",
       "      <th>dead</th>\n",
       "      <th>asymp</th>\n",
       "    </tr>\n",
       "  </thead>\n",
       "  <tbody>\n",
       "    <tr>\n",
       "      <th>2020-04-15</th>\n",
       "      <td>18019.85</td>\n",
       "      <td>18019.85</td>\n",
       "      <td>2211.66</td>\n",
       "      <td>411.63</td>\n",
       "      <td>41264.35</td>\n",
       "      <td>334.89</td>\n",
       "      <td>42708.04</td>\n",
       "    </tr>\n",
       "    <tr>\n",
       "      <th>2020-04-16</th>\n",
       "      <td>33578.29</td>\n",
       "      <td>17688.85</td>\n",
       "      <td>2416.09</td>\n",
       "      <td>426.86</td>\n",
       "      <td>49661.14</td>\n",
       "      <td>355.84</td>\n",
       "      <td>43143.19</td>\n",
       "    </tr>\n",
       "    <tr>\n",
       "      <th>2020-04-17</th>\n",
       "      <td>45558.67</td>\n",
       "      <td>18650.66</td>\n",
       "      <td>2600.83</td>\n",
       "      <td>445.53</td>\n",
       "      <td>58398.19</td>\n",
       "      <td>377.64</td>\n",
       "      <td>46471.65</td>\n",
       "    </tr>\n",
       "    <tr>\n",
       "      <th>2020-04-18</th>\n",
       "      <td>56131.48</td>\n",
       "      <td>20489.42</td>\n",
       "      <td>2801.29</td>\n",
       "      <td>467.23</td>\n",
       "      <td>67937.53</td>\n",
       "      <td>400.44</td>\n",
       "      <td>51815.37</td>\n",
       "    </tr>\n",
       "    <tr>\n",
       "      <th>2020-04-19</th>\n",
       "      <td>66546.30</td>\n",
       "      <td>23005.01</td>\n",
       "      <td>3038.45</td>\n",
       "      <td>492.35</td>\n",
       "      <td>78622.67</td>\n",
       "      <td>424.42</td>\n",
       "      <td>58766.75</td>\n",
       "    </tr>\n",
       "    <tr>\n",
       "      <th>...</th>\n",
       "      <td>...</td>\n",
       "      <td>...</td>\n",
       "      <td>...</td>\n",
       "      <td>...</td>\n",
       "      <td>...</td>\n",
       "      <td>...</td>\n",
       "      <td>...</td>\n",
       "    </tr>\n",
       "    <tr>\n",
       "      <th>2021-04-10</th>\n",
       "      <td>0.00</td>\n",
       "      <td>0.00</td>\n",
       "      <td>0.00</td>\n",
       "      <td>0.00</td>\n",
       "      <td>26863993.53</td>\n",
       "      <td>113772.47</td>\n",
       "      <td>0.00</td>\n",
       "    </tr>\n",
       "    <tr>\n",
       "      <th>2021-04-11</th>\n",
       "      <td>0.00</td>\n",
       "      <td>0.00</td>\n",
       "      <td>0.00</td>\n",
       "      <td>0.00</td>\n",
       "      <td>26863993.53</td>\n",
       "      <td>113772.47</td>\n",
       "      <td>0.00</td>\n",
       "    </tr>\n",
       "    <tr>\n",
       "      <th>2021-04-12</th>\n",
       "      <td>0.00</td>\n",
       "      <td>0.00</td>\n",
       "      <td>0.00</td>\n",
       "      <td>0.00</td>\n",
       "      <td>26863993.53</td>\n",
       "      <td>113772.47</td>\n",
       "      <td>0.00</td>\n",
       "    </tr>\n",
       "    <tr>\n",
       "      <th>2021-04-13</th>\n",
       "      <td>0.00</td>\n",
       "      <td>0.00</td>\n",
       "      <td>0.00</td>\n",
       "      <td>0.00</td>\n",
       "      <td>26863993.53</td>\n",
       "      <td>113772.47</td>\n",
       "      <td>0.00</td>\n",
       "    </tr>\n",
       "    <tr>\n",
       "      <th>2021-04-14</th>\n",
       "      <td>0.00</td>\n",
       "      <td>0.00</td>\n",
       "      <td>0.00</td>\n",
       "      <td>0.00</td>\n",
       "      <td>26863993.53</td>\n",
       "      <td>113772.47</td>\n",
       "      <td>0.00</td>\n",
       "    </tr>\n",
       "  </tbody>\n",
       "</table>\n",
       "<p>365 rows × 7 columns</p>\n",
       "</div>"
      ],
      "text/plain": [
       "            exposed  infected_a  infected_b  infected_c   recovered      dead  \\\n",
       "2020-04-15 18019.85    18019.85     2211.66      411.63    41264.35    334.89   \n",
       "2020-04-16 33578.29    17688.85     2416.09      426.86    49661.14    355.84   \n",
       "2020-04-17 45558.67    18650.66     2600.83      445.53    58398.19    377.64   \n",
       "2020-04-18 56131.48    20489.42     2801.29      467.23    67937.53    400.44   \n",
       "2020-04-19 66546.30    23005.01     3038.45      492.35    78622.67    424.42   \n",
       "...             ...         ...         ...         ...         ...       ...   \n",
       "2021-04-10     0.00        0.00        0.00        0.00 26863993.53 113772.47   \n",
       "2021-04-11     0.00        0.00        0.00        0.00 26863993.53 113772.47   \n",
       "2021-04-12     0.00        0.00        0.00        0.00 26863993.53 113772.47   \n",
       "2021-04-13     0.00        0.00        0.00        0.00 26863993.53 113772.47   \n",
       "2021-04-14     0.00        0.00        0.00        0.00 26863993.53 113772.47   \n",
       "\n",
       "              asymp  \n",
       "2020-04-15 42708.04  \n",
       "2020-04-16 43143.19  \n",
       "2020-04-17 46471.65  \n",
       "2020-04-18 51815.37  \n",
       "2020-04-19 58766.75  \n",
       "...             ...  \n",
       "2021-04-10     0.00  \n",
       "2021-04-11     0.00  \n",
       "2021-04-12     0.00  \n",
       "2021-04-13     0.00  \n",
       "2021-04-14     0.00  \n",
       "\n",
       "[365 rows x 7 columns]"
      ]
     },
     "execution_count": 16,
     "metadata": {},
     "output_type": "execute_result"
    }
   ],
   "source": [
    "#test.interventions['intervention_TX_test_intervention'].InitConditions.y0\n",
    "\n",
    "test.interventions['intervention_TX_test_intervention'].results_df"
   ]
  },
  {
   "cell_type": "code",
   "execution_count": 17,
   "metadata": {},
   "outputs": [
    {
     "name": "stdout",
     "output_type": "stream",
     "text": [
      "first case\n",
      "2020-04-15 00:00:00\n",
      "peak in hospitalizations\n",
      "2020-06-04T00:00:00.000000000\n",
      "268,304.34262334474\n",
      "peak in icu\n",
      "2020-06-11T00:00:00.000000000\n",
      "55,182.0251860556\n",
      "deaths\n",
      "113,772.46624280991\n"
     ]
    },
    {
     "data": {
      "image/png": "[encoded data removed]",
      "text/plain": [
       "<Figure size 1080x576 with 1 Axes>"
      ]
     },
     "metadata": {
      "needs_background": "light"
     },
     "output_type": "display_data"
    }
   ],
   "source": [
    "cols = [\"infected_b\", \"infected_c\", \"dead\"]\n",
    "\n",
    "test_df = test.interventions['intervention_TX_test_intervention'].results_df.copy()\n",
    "test_df.index.name = 'date'\n",
    "test_df.reset_index(inplace=True)\n",
    "\n",
    "test_df['infected'] = test_df.infected_a + test_df.infected_b + test_df.infected_c + test_df.asymp\n",
    "\n",
    "prep_plot(test_df, cols, 'Test intervention', 1000000)"
   ]
  },
  {
   "cell_type": "code",
   "execution_count": null,
   "metadata": {},
   "outputs": [],
   "source": []
  }
 ],
 "metadata": {
  "kernelspec": {
   "display_name": "Python 3",
   "language": "python",
   "name": "python3"
  },
  "language_info": {
   "codemirror_mode": {
    "name": "ipython",
    "version": 3
   },
   "file_extension": ".py",
   "mimetype": "text/x-python",
   "name": "python",
   "nbconvert_exporter": "python",
   "pygments_lexer": "ipython3",
   "version": "3.7.6"
  }
 },
 "nbformat": 4,
 "nbformat_minor": 4
}
