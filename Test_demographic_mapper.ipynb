{
 "cells": [
  {
   "cell_type": "code",
   "execution_count": 1,
   "metadata": {},
   "outputs": [],
   "source": [
    "from pygrounds.utils import S3Utils, DSWarehouse\n",
    "import matplotlib.pyplot as plt\n",
    "import scipy\n",
    "from scipy import interpolate"
   ]
  },
  {
   "cell_type": "code",
   "execution_count": 3,
   "metadata": {},
   "outputs": [],
   "source": [
    "query = \\\n",
    "\"\"\"\n",
    "  SELECT\n",
    "DISTINCT merged_eligibility.gr_lookup_id AS pid,\n",
    "         2020 - year_of_birth AS age\n",
    "    FROM `grnds-frankie.covid_guidance_engine.amazon__worksite_eligiblity` AS worksite_eligibility\n",
    "    JOIN `national-claims-warehouse.bronze.merged_eligibility` AS merged_eligibility\n",
    "      ON worksite_eligibility.gr_lookup_id = merged_eligibility.gr_lookup_id\n",
    "   WHERE merged_eligibility.gr_lookup_id_type = 'pid'\n",
    "\"\"\""
   ]
  },
  {
   "cell_type": "code",
   "execution_count": 4,
   "metadata": {},
   "outputs": [
    {
     "name": "stderr",
     "output_type": "stream",
     "text": [
      "WARNING:google.auth._default:No project ID could be determined. Consider running `gcloud config set project` or setting the GOOGLE_CLOUD_PROJECT environment variable\n",
      "WARNING:google.auth._default:No project ID could be determined. Consider running `gcloud config set project` or setting the GOOGLE_CLOUD_PROJECT environment variable\n"
     ]
    }
   ],
   "source": [
    "dsw = DSWarehouse()\n",
    "age_distribution = dsw.query_to_df(query)"
   ]
  },
  {
   "cell_type": "code",
   "execution_count": 5,
   "metadata": {},
   "outputs": [],
   "source": [
    "age_distribution.to_csv('amazon_age_distribution.csv')"
   ]
  },
  {
   "cell_type": "markdown",
   "metadata": {},
   "source": [
    "### Note: switch to pyseir env before running following codes."
   ]
  },
  {
   "cell_type": "code",
   "execution_count": 1,
   "metadata": {
    "scrolled": true
   },
   "outputs": [],
   "source": [
    "%load_ext autoreload\n",
    "%autoreload 2\n",
    "import json\n",
    "import pandas as pd\n",
    "import numpy as np\n",
    "import dill as pickle\n",
    "from pyseir.inference import model_fitter\n",
    "import matplotlib.pyplot as plt\n",
    "import scipy\n",
    "from scipy import interpolate\n",
    "from pyseir import load_data\n",
    "#from pyseir.inference.whitelist_generator import WhitelistGenerator\n",
    "from pyseir.utils import get_run_artifact_path, RunArtifact\n",
    "#from pyseir.ensembles.ensemble_runner import EnsembleRunner\n",
    "from pyseir.utils import get_run_artifact_path, RunArtifact, RunMode\n",
    "from pyseir.deployment.demographic_mapper import DemographicMapper, CovidMeasure"
   ]
  },
  {
   "cell_type": "code",
   "execution_count": 2,
   "metadata": {},
   "outputs": [],
   "source": [
    "def load_inference_results(fips):\n",
    "    \"\"\"\n",
    "    This function will be added to pyseir soon. \n",
    "    \"\"\"\n",
    "    model_path = get_run_artifact_path(fips, RunArtifact.MLE_FIT_MODEL)\n",
    "    model = pickle.loads(open(model_path, 'rb').read())\n",
    "\n",
    "    fit_results_path = get_run_artifact_path(fips, RunArtifact.MLE_FIT_RESULT)\n",
    "    with open(fit_results_path) as f:\n",
    "        fit_results = json.load(f)\n",
    "    fit_results = pd.DataFrame(fit_results).set_index('fips').loc[fips].to_dict()\n",
    "    return model, fit_results"
   ]
  },
  {
   "cell_type": "markdown",
   "metadata": {},
   "source": [
    "#### Run inference for CA"
   ]
  },
  {
   "cell_type": "code",
   "execution_count": null,
   "metadata": {},
   "outputs": [],
   "source": [
    "model_fitter.run_state(state='California', states_only=True, with_age_structure=True)"
   ]
  },
  {
   "cell_type": "code",
   "execution_count": 4,
   "metadata": {},
   "outputs": [],
   "source": [
    "# get target age distribution pdf\n",
    "age_distribution = pd.read_csv('amazon_age_distribution.csv')\n",
    "age_counts = age_distribution.age.value_counts().sort_index() \\\n",
    "                    .rename('count') \\\n",
    "                    .reset_index().rename(columns={'index': 'age'})\n",
    "age_counts['pmf'] = age_counts['count'] / age_counts['count'].sum()\n",
    "age_distribution = scipy.interpolate.interp1d(np.append(age_counts['age'], 120), \n",
    "                                              np.append(age_counts['pmf'], 0))"
   ]
  },
  {
   "cell_type": "code",
   "execution_count": 5,
   "metadata": {},
   "outputs": [],
   "source": [
    "measure_units = ['per_capita', 'per_capita_day']\n",
    "measures = ['IHR', 'IHR_icu', 'IFR']"
   ]
  },
  {
   "cell_type": "code",
   "execution_count": 18,
   "metadata": {},
   "outputs": [
    {
     "name": "stdout",
     "output_type": "stream",
     "text": [
      "R (366, 16)\n",
      "incident_I (366, 16)\n",
      "S (366, 16)\n",
      "E (366, 16)\n",
      "A (366, 16)\n",
      "I (366, 16)\n",
      "HGen (366, 16)\n",
      "HICU (366, 16)\n",
      "HVent (366, 16)\n",
      "N (366, 16)\n"
     ]
    },
    {
     "name": "stderr",
     "output_type": "stream",
     "text": [
      "/Users/xzhang/Documents/covid/covid-data-model/pyseir/deployment/demographic_mapper.py:256: RuntimeWarning: divide by zero encountered in true_divide\n",
      "  ) / self.predictions[\"HICU\"]\n",
      "/Users/xzhang/Documents/covid/covid-data-model/pyseir/deployment/demographic_mapper.py:275: RuntimeWarning: divide by zero encountered in true_divide\n",
      "  ) / self.predictions[\"HGen\"]\n"
     ]
    }
   ],
   "source": [
    "for fips in ['06']:\n",
    "    model_path = get_run_artifact_path(fips, RunArtifact.MLE_FIT_MODEL)\n",
    "    model = pickle.loads(open(model_path,'rb').read())\n",
    "\n",
    "    fit_results_path = get_run_artifact_path(fips, RunArtifact.MLE_FIT_RESULT)\n",
    "    with open(fit_results_path) as f:\n",
    "        fit_results = json.load(f)\n",
    "    fit_results = pd.DataFrame(fit_results).set_index('fips').loc[fips].to_dict()\n",
    "\n",
    "    dm = DemographicMapper(fips=fips,\n",
    "                      mle_model=model,\n",
    "                      fit_results=fit_results,\n",
    "                      measure_units=measure_units,\n",
    "                      measures=measures,\n",
    "                      target_age_distribution_pdf = age_distribution)\n",
    "    results = dm.run()"
   ]
  },
  {
   "cell_type": "code",
   "execution_count": 29,
   "metadata": {},
   "outputs": [],
   "source": [
    "with open('demo_mapper_output.pkl', 'wb') as file:\n",
    "    pickle.dump(results, file)"
   ]
  },
  {
   "cell_type": "code",
   "execution_count": 19,
   "metadata": {
    "collapsed": true
   },
   "outputs": [
    {
     "data": {
      "text/plain": [
       "defaultdict(dict,\n",
       "            {'compartments':                        R   incident_I             S             E    A  \\\n",
       "             2020-02-26  3.408791e+00     4.090550  3.858029e+07     20.354213  0.0   \n",
       "             2020-02-27  7.911261e+00     5.257621  3.858897e+07     26.161459  0.0   \n",
       "             2020-02-28  1.381185e+01     6.836161  3.859765e+07     34.016135  0.0   \n",
       "             2020-02-29  2.153119e+01     8.934224  3.860632e+07     44.455908  0.0   \n",
       "             2020-03-01  3.162650e+01    11.702540  3.861498e+07     58.230804  0.0   \n",
       "             ...                  ...          ...           ...           ...  ...   \n",
       "             2021-02-21  6.082899e+06  3068.804125  3.552764e+07  15270.098071  0.0   \n",
       "             2021-02-22  6.089302e+06  3054.282832  3.553003e+07  15197.841402  0.0   \n",
       "             2021-02-23  6.095649e+06  3037.109210  3.553247e+07  15112.386978  0.0   \n",
       "             2021-02-24  6.101948e+06  3013.602906  3.553497e+07  14995.421689  0.0   \n",
       "             2021-02-25  6.108202e+06  2985.457965  3.553753e+07  14855.374950  0.0   \n",
       "             \n",
       "                                    I        HGen        HICU       HVent           N  \n",
       "             2020-02-26     16.961844    0.000000    0.000000    0.000000  38580327.0  \n",
       "             2020-02-27     22.341769    0.083388    0.023271    0.014035  38580327.0  \n",
       "             2020-02-28     29.225621    0.181336    0.050950    0.030802  38580327.0  \n",
       "             2020-02-29     38.187519    0.299325    0.084452    0.051164  38580327.0  \n",
       "             2020-03-01     49.901728    0.444466    0.125688    0.076290  38580327.0  \n",
       "             ...                  ...         ...         ...         ...         ...  \n",
       "             2021-02-21  31429.332358  964.365130  283.705367  196.712206  38580327.0  \n",
       "             2021-02-22  31139.523217  956.929169  281.476538  195.153467  38580327.0  \n",
       "             2021-02-23  30866.869206  949.437347  279.238033  193.591037  38580327.0  \n",
       "             2021-02-24  30630.134871  941.719459  276.947817  191.999870  38580327.0  \n",
       "             2021-02-25  30420.642133  933.853104  274.625004  190.391340  38580327.0  \n",
       "             \n",
       "             [366 rows x 10 columns],\n",
       "             'IHR': {'per_capita': 2020-02-26    0.031629\n",
       "              2020-02-27    0.031629\n",
       "              2020-02-28    0.031629\n",
       "              2020-02-29    0.031629\n",
       "              2020-03-01    0.031629\n",
       "                              ...   \n",
       "              2021-02-21    0.031629\n",
       "              2021-02-22    0.031629\n",
       "              2021-02-23    0.031629\n",
       "              2021-02-24    0.031629\n",
       "              2021-02-25    0.031629\n",
       "              Length: 366, dtype: float64,\n",
       "              'per_capita_day': 2020-02-26    0.006594\n",
       "              2020-02-27    0.006594\n",
       "              2020-02-28    0.006594\n",
       "              2020-02-29    0.006594\n",
       "              2020-03-01    0.006594\n",
       "                              ...   \n",
       "              2021-02-21    0.006594\n",
       "              2021-02-22    0.006594\n",
       "              2021-02-23    0.006594\n",
       "              2021-02-24    0.006594\n",
       "              2021-02-25    0.006594\n",
       "              Length: 366, dtype: float64},\n",
       "             'IHR_icu': {'per_capita': 2020-02-26    0.009679\n",
       "              2020-02-27    0.009679\n",
       "              2020-02-28    0.009679\n",
       "              2020-02-29    0.009679\n",
       "              2020-03-01    0.009679\n",
       "                              ...   \n",
       "              2021-02-21    0.009679\n",
       "              2021-02-22    0.009679\n",
       "              2021-02-23    0.009679\n",
       "              2021-02-24    0.009679\n",
       "              2021-02-25    0.009679\n",
       "              Length: 366, dtype: float64,\n",
       "              'per_capita_day': 2020-02-26    0.002023\n",
       "              2020-02-27    0.002023\n",
       "              2020-02-28    0.002023\n",
       "              2020-02-29    0.002023\n",
       "              2020-03-01    0.002023\n",
       "                              ...   \n",
       "              2021-02-21    0.002023\n",
       "              2021-02-22    0.002023\n",
       "              2021-02-23    0.002023\n",
       "              2021-02-24    0.002023\n",
       "              2021-02-25    0.002023\n",
       "              Length: 366, dtype: float64},\n",
       "             'IFR': {'per_capita': 2020-02-26    0.005979\n",
       "              2020-02-27    0.005979\n",
       "              2020-02-28    0.005979\n",
       "              2020-02-29    0.005979\n",
       "              2020-03-01    0.005979\n",
       "                              ...   \n",
       "              2021-02-21    0.005979\n",
       "              2021-02-22    0.005979\n",
       "              2021-02-23    0.005979\n",
       "              2021-02-24    0.005979\n",
       "              2021-02-25    0.005979\n",
       "              Length: 366, dtype: float64,\n",
       "              'per_capita_day': 2020-02-26    0.000000\n",
       "              2020-02-27    0.000095\n",
       "              2020-02-28    0.000160\n",
       "              2020-02-29    0.000205\n",
       "              2020-03-01    0.000235\n",
       "                              ...   \n",
       "              2021-02-21    0.000961\n",
       "              2021-02-22    0.000963\n",
       "              2021-02-23    0.000964\n",
       "              2021-02-24    0.000964\n",
       "              2021-02-25    0.000963\n",
       "              Length: 366, dtype: float64}})"
      ]
     },
     "execution_count": 19,
     "metadata": {},
     "output_type": "execute_result"
    }
   ],
   "source": [
    "results"
   ]
  },
  {
   "cell_type": "code",
   "execution_count": 25,
   "metadata": {},
   "outputs": [
    {
     "data": {
      "image/png": "[encoded data removed]",
      "text/plain": [
       "<Figure size 432x288 with 1 Axes>"
      ]
     },
     "metadata": {
      "needs_background": "light"
     },
     "output_type": "display_data"
    }
   ],
   "source": [
    "plt.plot(model.t_list, model.results['S'])\n",
    "plt.plot(model.t_list, model.results['R'])\n",
    "plt.plot(model.t_list, model.results['I'])\n",
    "plt.yscale('log')"
   ]
  },
  {
   "cell_type": "code",
   "execution_count": 28,
   "metadata": {},
   "outputs": [
    {
     "data": {
      "text/plain": [
       "Index(['R', 'incident_I', 'S', 'E', 'A', 'I', 'HGen', 'HICU', 'HVent', 'N'], dtype='object')"
      ]
     },
     "execution_count": 28,
     "metadata": {},
     "output_type": "execute_result"
    }
   ],
   "source": [
    "results['compartments'].columns"
   ]
  },
  {
   "cell_type": "code",
   "execution_count": 20,
   "metadata": {},
   "outputs": [
    {
     "data": {
      "image/png": "[encoded data removed]",
      "text/plain": [
       "<Figure size 432x288 with 1 Axes>"
      ]
     },
     "metadata": {
      "needs_background": "light"
     },
     "output_type": "display_data"
    }
   ],
   "source": [
    "results['compartments'].plot()\n",
    "plt.yscale('log')"
   ]
  },
  {
   "cell_type": "code",
   "execution_count": 21,
   "metadata": {},
   "outputs": [
    {
     "data": {
      "image/png": "[encoded data removed]",
      "text/plain": [
       "<Figure size 432x288 with 1 Axes>"
      ]
     },
     "metadata": {
      "needs_background": "light"
     },
     "output_type": "display_data"
    },
    {
     "data": {
      "image/png": "[encoded data removed]",
      "text/plain": [
       "<Figure size 432x288 with 1 Axes>"
      ]
     },
     "metadata": {
      "needs_background": "light"
     },
     "output_type": "display_data"
    }
   ],
   "source": [
    "for unit in measure_units:\n",
    "    plt.figure()\n",
    "    for measure in measures:\n",
    "        results[measure][unit].plot(label=measure)\n",
    "    plt.ylabel(unit)\n",
    "    plt.legend()"
   ]
  },
  {
   "cell_type": "code",
   "execution_count": 6,
   "metadata": {},
   "outputs": [
    {
     "name": "stderr",
     "output_type": "stream",
     "text": [
      "/Users/xzhang/Documents/covid/covid-data-model/pyseir/inference/infer_rt.py:466: RuntimeWarning: Mean of empty slice\n",
      "  df_all[[\"Rt_MAP__new_cases\", \"Rt_MAP__new_deaths\"]], axis=1\n"
     ]
    }
   ],
   "source": [
    "from pyseir.inference.infer_rt import run_state as run_rt_infer\n",
    "run_rt_infer(state='California', states_only=True)"
   ]
  },
  {
   "cell_type": "code",
   "execution_count": null,
   "metadata": {},
   "outputs": [],
   "source": []
  }
 ],
 "metadata": {
  "kernelspec": {
   "display_name": "Python (pyseir)",
   "language": "python",
   "name": "pyseir"
  },
  "language_info": {
   "codemirror_mode": {
    "name": "ipython",
    "version": 3
   },
   "file_extension": ".py",
   "mimetype": "text/x-python",
   "name": "python",
   "nbconvert_exporter": "python",
   "pygments_lexer": "ipython3",
   "version": "3.7.3"
  }
 },
 "nbformat": 4,
 "nbformat_minor": 4
}
