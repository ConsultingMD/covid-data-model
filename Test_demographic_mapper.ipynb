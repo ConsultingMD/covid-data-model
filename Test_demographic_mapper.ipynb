{
 "cells": [
  {
   "cell_type": "code",
   "execution_count": 1,
   "metadata": {},
   "outputs": [
    {
     "name": "stderr",
     "output_type": "stream",
     "text": [
      "WARNING:root:Could not import GCloudUtils. Ignoring.  No module named 'google' \n",
      "WARNING:root:Could not import S3Utils. Ignoring.  No module named 's3fs' \n",
      "WARNING:root:Could not import GSheetUtils. Ignoring.  No module named 'apiclient' \n"
     ]
    }
   ],
   "source": [
    "from pygrounds.utils import S3Utils, DSWarehouse\n",
    "import matplotlib.pyplot as plt\n",
    "import scipy\n",
    "from scipy import interpolate"
   ]
  },
  {
   "cell_type": "code",
   "execution_count": 3,
   "metadata": {},
   "outputs": [],
   "source": [
    "query = \\\n",
    "\"\"\"\n",
    "  SELECT\n",
    "DISTINCT merged_eligibility.gr_lookup_id AS pid,\n",
    "         2020 - year_of_birth AS age\n",
    "    FROM `grnds-frankie.covid_guidance_engine.amazon__worksite_eligiblity` AS worksite_eligibility\n",
    "    JOIN `national-claims-warehouse.bronze.merged_eligibility` AS merged_eligibility\n",
    "      ON worksite_eligibility.gr_lookup_id = merged_eligibility.gr_lookup_id\n",
    "   WHERE merged_eligibility.gr_lookup_id_type = 'pid'\n",
    "\"\"\""
   ]
  },
  {
   "cell_type": "code",
   "execution_count": 4,
   "metadata": {},
   "outputs": [
    {
     "name": "stderr",
     "output_type": "stream",
     "text": [
      "WARNING:google.auth._default:No project ID could be determined. Consider running `gcloud config set project` or setting the GOOGLE_CLOUD_PROJECT environment variable\n",
      "WARNING:google.auth._default:No project ID could be determined. Consider running `gcloud config set project` or setting the GOOGLE_CLOUD_PROJECT environment variable\n"
     ]
    }
   ],
   "source": [
    "dsw = DSWarehouse()\n",
    "age_distribution = dsw.query_to_df(query)"
   ]
  },
  {
   "cell_type": "code",
   "execution_count": 5,
   "metadata": {},
   "outputs": [],
   "source": [
    "age_distribution.to_csv('amazon_age_distribution.csv')"
   ]
  },
  {
   "cell_type": "markdown",
   "metadata": {},
   "source": [
    "### Note: switch to pyseir env before running following codes."
   ]
  },
  {
   "cell_type": "code",
   "execution_count": 6,
   "metadata": {
    "scrolled": true
   },
   "outputs": [
    {
     "name": "stdout",
     "output_type": "stream",
     "text": [
      "The autoreload extension is already loaded. To reload it, use:\n",
      "  %reload_ext autoreload\n"
     ]
    }
   ],
   "source": [
    "%load_ext autoreload\n",
    "%autoreload 2\n",
    "import json\n",
    "import pandas as pd\n",
    "import numpy as np\n",
    "import dill as pickle\n",
    "from pyseir.inference import model_fitter\n",
    "import matplotlib.pyplot as plt\n",
    "import scipy\n",
    "from scipy import interpolate\n",
    "from pyseir import load_data\n",
    "#from pyseir.inference.whitelist_generator import WhitelistGenerator\n",
    "from pyseir.utils import get_run_artifact_path, RunArtifact\n",
    "#from pyseir.ensembles.ensemble_runner import EnsembleRunner\n",
    "from pyseir.utils import get_run_artifact_path, RunArtifact, RunMode\n",
    "from pyseir.deployment.demographic_mapper import DemographicMapper, CovidMeasure"
   ]
  },
  {
   "cell_type": "code",
   "execution_count": 26,
   "metadata": {},
   "outputs": [],
   "source": [
    "def load_inference_results(fips):\n",
    "    \"\"\"\n",
    "    This function will be added to pyseir soon. \n",
    "    \"\"\"\n",
    "    model_path = get_run_artifact_path(fips, RunArtifact.MLE_FIT_MODEL)\n",
    "    model = pickle.loads(open(model_path, 'rb').read())\n",
    "\n",
    "    fit_results_path = get_run_artifact_path(fips, RunArtifact.MLE_FIT_RESULT)\n",
    "    with open(fit_results_path) as f:\n",
    "        fit_results = json.load(f)\n",
    "    fit_results = pd.DataFrame(fit_results).set_index('fips').loc[fips].to_dict()\n",
    "    return model, fit_results"
   ]
  },
  {
   "cell_type": "markdown",
   "metadata": {},
   "source": [
    "#### Run inference for CA"
   ]
  },
  {
   "cell_type": "code",
   "execution_count": 2,
   "metadata": {
    "collapsed": true
   },
   "outputs": [
    {
     "name": "stderr",
     "output_type": "stream",
     "text": [
      "/anaconda3/envs/pyseir/lib/python3.7/site-packages/pandas/core/indexing.py:966: SettingWithCopyWarning: \n",
      "A value is trying to be set on a copy of a slice from a DataFrame.\n",
      "Try using .loc[row_indexer,col_indexer] = value instead\n",
      "\n",
      "See the caveats in the documentation: https://pandas.pydata.org/pandas-docs/stable/user_guide/indexing.html#returning-a-view-versus-a-copy\n",
      "  self.obj[item] = s\n",
      "WARNING:libs.datasets.dataset_utils:Did not match 2 codes to county data.\n",
      "WARNING:libs.datasets.dataset_utils:['46113', '51515']\n"
     ]
    },
    {
     "name": "stdout",
     "output_type": "stream",
     "text": [
      "------------------------------------------------------------------\n",
      "| FCN = 72.9                    |     Ncalls=421 (423 total)     |\n",
      "| EDM = 0.149 (Goal: 5E-06)     |            up = 0.5            |\n",
      "------------------------------------------------------------------\n",
      "|  Valid Min.   | Valid Param.  | Above EDM | Reached call limit |\n",
      "------------------------------------------------------------------\n",
      "|     False     |     True      |   True    |       False        |\n",
      "------------------------------------------------------------------\n",
      "| Hesse failed  |   Has cov.    | Accurate  | Pos. def. | Forced |\n",
      "------------------------------------------------------------------\n",
      "|     False     |     True      |   False   |   False   |  True  |\n",
      "------------------------------------------------------------------\n"
     ]
    }
   ],
   "source": [
    "model_fitter.run_state(state='California', \n",
    "                       states_only=True, \n",
    "                       with_age_structure=True)"
   ]
  },
  {
   "cell_type": "code",
   "execution_count": 8,
   "metadata": {},
   "outputs": [],
   "source": [
    "# get target age distribution pdf\n",
    "age_distribution = pd.read_csv('amazon_age_distribution.csv')\n",
    "age_counts = age_distribution.age.value_counts().sort_index() \\\n",
    "                    .rename('count') \\\n",
    "                    .reset_index().rename(columns={'index': 'age'})\n",
    "age_counts['pmf'] = age_counts['count'] / age_counts['count'].sum()\n",
    "age_distribution = scipy.interpolate.interp1d(np.append(age_counts['age'], 120), \n",
    "                                              np.append(age_counts['pmf'], 0))"
   ]
  },
  {
   "cell_type": "code",
   "execution_count": 22,
   "metadata": {},
   "outputs": [],
   "source": [
    "measure_units = ['per_capita', 'per_capita_day']\n",
    "measures = ['IHR', 'IHR_icu', 'IFR']"
   ]
  },
  {
   "cell_type": "code",
   "execution_count": 27,
   "metadata": {},
   "outputs": [
    {
     "name": "stderr",
     "output_type": "stream",
     "text": [
      "/Users/xzhang/Documents/covid/covid-data-model/pyseir/deployment/demographic_mapper.py:240: RuntimeWarning: divide by zero encountered in true_divide\n",
      "  frac_no_access_to_icu = (self.predictions['HICU'] - self.parameters['beds_ICU']) / self.predictions['HICU']\n",
      "/Users/xzhang/Documents/covid/covid-data-model/pyseir/deployment/demographic_mapper.py:252: RuntimeWarning: divide by zero encountered in true_divide\n",
      "  frac_no_access_to_hgen = (self.predictions['HGen'] - self.parameters['beds_general']) / self.predictions['HGen']\n"
     ]
    }
   ],
   "source": [
    "for fips in ['06']:\n",
    "    model, fit_results = load_inference_results(fips)\n",
    "    dm = DemographicMapper(fips=fips,\n",
    "                      mle_model=model,\n",
    "                      fit_results=fit_results,\n",
    "                      measure_units=measure_units,\n",
    "                      measures=measures,\n",
    "                      target_age_distribution_pdf=age_distribution)\n",
    "    results = dm.run()"
   ]
  },
  {
   "cell_type": "code",
   "execution_count": 28,
   "metadata": {},
   "outputs": [
    {
     "data": {
      "image/png": "[encoded data removed]",
      "text/plain": [
       "<Figure size 432x288 with 1 Axes>"
      ]
     },
     "metadata": {
      "needs_background": "light"
     },
     "output_type": "display_data"
    }
   ],
   "source": [
    "results['compartments'].plot()\n",
    "plt.yscale('log')"
   ]
  },
  {
   "cell_type": "code",
   "execution_count": 29,
   "metadata": {},
   "outputs": [
    {
     "data": {
      "image/png": "[encoded data removed]",
      "text/plain": [
       "<Figure size 432x288 with 1 Axes>"
      ]
     },
     "metadata": {
      "needs_background": "light"
     },
     "output_type": "display_data"
    },
    {
     "data": {
      "image/png": "[encoded data removed]",
      "text/plain": [
       "<Figure size 432x288 with 1 Axes>"
      ]
     },
     "metadata": {
      "needs_background": "light"
     },
     "output_type": "display_data"
    }
   ],
   "source": [
    "for unit in measure_units:\n",
    "    plt.figure()\n",
    "    for measure in measures:\n",
    "        results[measure][unit].plot(label=measure)\n",
    "    plt.ylabel(unit)\n",
    "    plt.legend()"
   ]
  },
  {
   "cell_type": "code",
   "execution_count": null,
   "metadata": {},
   "outputs": [],
   "source": []
  }
 ],
 "metadata": {
  "kernelspec": {
   "display_name": "Python (pyseir)",
   "language": "python",
   "name": "pyseir"
  },
  "language_info": {
   "codemirror_mode": {
    "name": "ipython",
    "version": 3
   },
   "file_extension": ".py",
   "mimetype": "text/x-python",
   "name": "python",
   "nbconvert_exporter": "python",
   "pygments_lexer": "ipython3",
   "version": "3.7.3"
  }
 },
 "nbformat": 4,
 "nbformat_minor": 4
}
