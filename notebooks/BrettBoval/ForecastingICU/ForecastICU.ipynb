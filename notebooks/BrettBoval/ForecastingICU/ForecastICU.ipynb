{
 "cells": [
  {
   "cell_type": "code",
   "execution_count": null,
   "metadata": {},
   "outputs": [],
   "source": [
    "import seaborn as sns\n",
    "import pandas as pd\n",
    "import matplotlib.pyplot as plt"
   ]
  },
  {
   "cell_type": "markdown",
   "metadata": {},
   "source": [
    "# Forecast ICU Usage into the Future with Best, Worst, Current, Estimates\n",
    "https://seaborn.pydata.org/examples/errorband_lineplots.html"
   ]
  },
  {
   "cell_type": "code",
   "execution_count": null,
   "metadata": {},
   "outputs": [],
   "source": [
    "# Load an example dataset with long-form data\n",
    "fmri = sns.load_dataset(\"fmri\")\n",
    "\n",
    "# Plot the responses for different events and regions\n",
    "sns.lineplot(x=\"timepoint\", y=\"signal\",\n",
    "             hue=\"region\", style=\"event\",\n",
    "             data=fmri)"
   ]
  },
  {
   "cell_type": "code",
   "execution_count": null,
   "metadata": {},
   "outputs": [],
   "source": [
    "fmri.head()"
   ]
  },
  {
   "cell_type": "markdown",
   "metadata": {},
   "source": [
    "# Synthetic Data"
   ]
  },
  {
   "cell_type": "code",
   "execution_count": null,
   "metadata": {},
   "outputs": [],
   "source": []
  },
  {
   "cell_type": "markdown",
   "metadata": {},
   "source": [
    "# Plot Our Data"
   ]
  },
  {
   "cell_type": "code",
   "execution_count": null,
   "metadata": {},
   "outputs": [],
   "source": [
    "import datetime\n",
    "import logging\n",
    "import os\n",
    "import numpy as np\n",
    "from multiprocessing import Pool\n",
    "from functools import partial\n",
    "import us\n",
    "import pickle\n",
    "import json\n",
    "import copy\n",
    "from collections import defaultdict\n",
    "from pyseir.models.seir_model import SEIRModel\n",
    "from pyseir.parameters.parameter_ensemble_generator import ParameterEnsembleGenerator\n",
    "import pyseir.models.suppression_policies as sp\n",
    "from pyseir import load_data\n",
    "from pyseir.reports.county_report import CountyReport\n",
    "from pyseir.utils import get_run_artifact_path, RunArtifact, RunMode\n",
    "from pyseir.inference import fit_results\n",
    "from libs.datasets.dataset_utils import AggregationLevel\n",
    "from libs.datasets import JHUDataset\n",
    "import pyseir.ensembles.ensemble_runner"
   ]
  },
  {
   "cell_type": "code",
   "execution_count": null,
   "metadata": {},
   "outputs": [],
   "source": [
    "example=load_data.load_ensemble_results(\"06\")"
   ]
  },
  {
   "cell_type": "code",
   "execution_count": null,
   "metadata": {},
   "outputs": [],
   "source": [
    "example.keys()"
   ]
  },
  {
   "cell_type": "code",
   "execution_count": null,
   "metadata": {},
   "outputs": [],
   "source": [
    "example['suppression_policy__inferred'].keys()"
   ]
  },
  {
   "cell_type": "code",
   "execution_count": null,
   "metadata": {},
   "outputs": [],
   "source": [
    "x = np.array(example['suppression_policy__inferred']['t_list']).astype(float)\n",
    "y = np.array(example['suppression_policy__inferred']['HICU']['ci_50']).astype(float)"
   ]
  },
  {
   "cell_type": "code",
   "execution_count": null,
   "metadata": {},
   "outputs": [],
   "source": [
    "test_df = pd.DataFrame([x,y]).T\n",
    "test_df.columns = ['t','HICU']\n",
    "test_df['r'] = 1"
   ]
  },
  {
   "cell_type": "code",
   "execution_count": null,
   "metadata": {},
   "outputs": [],
   "source": [
    "test_df.head()"
   ]
  },
  {
   "cell_type": "code",
   "execution_count": null,
   "metadata": {},
   "outputs": [],
   "source": [
    "test_df.plot(x=0, y=1)"
   ]
  },
  {
   "cell_type": "code",
   "execution_count": null,
   "metadata": {},
   "outputs": [],
   "source": [
    "# Fuzz and Make For Seaborn"
   ]
  },
  {
   "cell_type": "code",
   "execution_count": null,
   "metadata": {},
   "outputs": [],
   "source": [
    "DIVERGENCE_PT = 300"
   ]
  },
  {
   "cell_type": "code",
   "execution_count": null,
   "metadata": {},
   "outputs": [],
   "source": [
    "import numpy as np"
   ]
  },
  {
   "cell_type": "code",
   "execution_count": null,
   "metadata": {},
   "outputs": [],
   "source": [
    "rng = np.random.default_rng()"
   ]
  },
  {
   "cell_type": "code",
   "execution_count": null,
   "metadata": {},
   "outputs": [],
   "source": [
    "np.geomspace(-1,-200,len(y[DIVERGENCE_PT:]))"
   ]
  },
  {
   "cell_type": "code",
   "execution_count": null,
   "metadata": {},
   "outputs": [],
   "source": [
    "r = np.array([-.1,0,.1])"
   ]
  },
  {
   "cell_type": "code",
   "execution_count": null,
   "metadata": {},
   "outputs": [],
   "source": [
    "N = len(y[DIVERGENCE_PT:])\n",
    "tmp_dfs = []\n",
    "for final_offset in np.linspace(-3000,3000,100):\n",
    "    y = test_df[\"HICU\"].to_numpy(copy=True)\n",
    "    if final_offset < 0:\n",
    "        shim = np.geomspace(-1, final_offset, N)\n",
    "    else:\n",
    "        shim = np.geomspace(1, final_offset, N)\n",
    "    y[DIVERGENCE_PT:] = y[DIVERGENCE_PT:] + shim\n",
    "    tmp = pd.DataFrame([x,y]).T\n",
    "    tmp['r'] = final_offset\n",
    "    tmp_dfs.append(tmp)"
   ]
  },
  {
   "cell_type": "code",
   "execution_count": null,
   "metadata": {},
   "outputs": [],
   "source": [
    "# y[DIVERGENCE_PT:] + np.arange(len(y[DIVERGENCE_PT:]))*scale"
   ]
  },
  {
   "cell_type": "code",
   "execution_count": null,
   "metadata": {},
   "outputs": [],
   "source": [
    "df = pd.concat(tmp_dfs)\n",
    "df.columns = [\"t\",\"HICU\",\"R\"]\n",
    "df['HICU'].clip(lower=0, inplace=True)\n",
    "\n",
    "high_cutoff = df.R.quantile(.75)\n",
    "low_cutoff = df.R.quantile(.25)\n",
    "df['Performance'] = [\"Worst\" if x > high_cutoff else \"Best\" if x < low_cutoff else \"Current\" for x in df.R]"
   ]
  },
  {
   "cell_type": "code",
   "execution_count": null,
   "metadata": {},
   "outputs": [],
   "source": [
    "df.R.describe()"
   ]
  },
  {
   "cell_type": "code",
   "execution_count": null,
   "metadata": {},
   "outputs": [],
   "source": [
    "df.head()"
   ]
  },
  {
   "cell_type": "code",
   "execution_count": null,
   "metadata": {},
   "outputs": [],
   "source": [
    "# pd.DataFrame([x,y]).T"
   ]
  },
  {
   "cell_type": "code",
   "execution_count": null,
   "metadata": {},
   "outputs": [],
   "source": [
    "fig, ax = plt.subplots(figsize=(8,6))\n",
    "sns.lineplot(data=df, x=\"t\", y=\"HICU\", hue=\"Performance\",ax=ax)\n",
    "mask = test_df['t'] < DIVERGENCE_PT\n",
    "sns.lineplot(x=test_df[mask].t, y=test_df[mask].HICU ,ax=ax, color='k')\n",
    "sns.scatterplot(x=test_df[mask].t,\n",
    "                y=np.clip(test_df[mask].HICU+rng.normal(scale=50, size=len(test_df[mask].HICU)),\n",
    "                          0, 10000\n",
    "                         ),\n",
    "                ax=ax, color='lightblue', marker='x', )"
   ]
  },
  {
   "cell_type": "code",
   "execution_count": null,
   "metadata": {},
   "outputs": [],
   "source": []
  },
  {
   "cell_type": "code",
   "execution_count": null,
   "metadata": {},
   "outputs": [],
   "source": [
    "fig"
   ]
  },
  {
   "cell_type": "code",
   "execution_count": null,
   "metadata": {},
   "outputs": [],
   "source": [
    "fig.savefig('tmp.png', bbox_inches='tight')"
   ]
  },
  {
   "cell_type": "code",
   "execution_count": null,
   "metadata": {},
   "outputs": [],
   "source": []
  },
  {
   "cell_type": "code",
   "execution_count": null,
   "metadata": {},
   "outputs": [],
   "source": []
  },
  {
   "cell_type": "code",
   "execution_count": null,
   "metadata": {},
   "outputs": [],
   "source": [
    "df.groupby('R').plot(x='t',y='HICU')"
   ]
  },
  {
   "cell_type": "code",
   "execution_count": null,
   "metadata": {},
   "outputs": [],
   "source": []
  },
  {
   "cell_type": "code",
   "execution_count": null,
   "metadata": {},
   "outputs": [],
   "source": []
  },
  {
   "cell_type": "code",
   "execution_count": null,
   "metadata": {},
   "outputs": [],
   "source": []
  },
  {
   "cell_type": "code",
   "execution_count": null,
   "metadata": {},
   "outputs": [],
   "source": []
  },
  {
   "cell_type": "code",
   "execution_count": null,
   "metadata": {},
   "outputs": [],
   "source": []
  },
  {
   "cell_type": "code",
   "execution_count": null,
   "metadata": {},
   "outputs": [],
   "source": []
  },
  {
   "cell_type": "code",
   "execution_count": null,
   "metadata": {},
   "outputs": [],
   "source": []
  },
  {
   "cell_type": "code",
   "execution_count": null,
   "metadata": {},
   "outputs": [],
   "source": []
  },
  {
   "cell_type": "code",
   "execution_count": null,
   "metadata": {},
   "outputs": [],
   "source": [
    "EXAMPLE = \"California\"\n",
    "scenario = \"inferred\"\n",
    "\n",
    "state_obj = us.states.lookup(EXAMPLE)\n",
    "\n",
    "artifact_path = get_run_artifact_path(state_obj.fips, RunArtifact.MLE_FIT_MODEL)\n",
    "\n",
    "with open(artifact_path, \"rb\") as f:\n",
    "    model = pickle.load(f)\n",
    "inferred_params = fit_results.load_inference_result(state_obj.fips)\n",
    "\n",
    "# Determine the appropriate future suppression policy based on the\n",
    "# scenario of interest.\n",
    "if scenario == \"inferred\":\n",
    "    eps_final = inferred_params[\"eps2\"]\n",
    "else:\n",
    "    eps_final = sp.get_future_suppression_from_r0(inferred_params[\"R0\"], scenario=scenario)\n",
    "\n",
    "model.suppression_policy = sp.get_epsilon_interpolator(\n",
    "    eps=inferred_params[\"eps\"],\n",
    "    t_break=inferred_params[\"t_break\"],\n",
    "    eps2=inferred_params[\"eps2\"],\n",
    "    t_delta_phases=inferred_params[\"t_delta_phases\"],\n",
    "    t_break_final=(\n",
    "        datetime.datetime.today()\n",
    "        - datetime.datetime.fromisoformat(inferred_params[\"t0_date\"])\n",
    "    ).days,\n",
    "    eps_final=eps_final,\n",
    ")\n",
    "model.run()"
   ]
  },
  {
   "cell_type": "code",
   "execution_count": null,
   "metadata": {},
   "outputs": [],
   "source": [
    "inferred_params"
   ]
  },
  {
   "cell_type": "code",
   "execution_count": null,
   "metadata": {},
   "outputs": [],
   "source": [
    "model.suppression_policy"
   ]
  },
  {
   "cell_type": "code",
   "execution_count": null,
   "metadata": {},
   "outputs": [],
   "source": [
    "model.run()"
   ]
  },
  {
   "cell_type": "code",
   "execution_count": null,
   "metadata": {},
   "outputs": [],
   "source": [
    "model."
   ]
  },
  {
   "cell_type": "code",
   "execution_count": null,
   "metadata": {},
   "outputs": [],
   "source": []
  }
 ],
 "metadata": {
  "kernelspec": {
   "display_name": "Python 3",
   "language": "python",
   "name": "python3"
  },
  "language_info": {
   "codemirror_mode": {
    "name": "ipython",
    "version": 3
   },
   "file_extension": ".py",
   "mimetype": "text/x-python",
   "name": "python",
   "nbconvert_exporter": "python",
   "pygments_lexer": "ipython3",
   "version": "3.7.7"
  }
 },
 "nbformat": 4,
 "nbformat_minor": 4
}
