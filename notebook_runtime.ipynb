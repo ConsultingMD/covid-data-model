{
 "cells": [
  {
   "cell_type": "code",
   "execution_count": 1,
   "metadata": {},
   "outputs": [
    {
     "data": {
      "text/plain": [
       "<matplotlib.axes._subplots.AxesSubplot at 0x270756faac8>"
      ]
     },
     "execution_count": 1,
     "metadata": {},
     "output_type": "execute_result"
    },
    {
     "data": {
      "image/png": "[encoded data removed]",
      "text/plain": [
       "<Figure size 432x288 with 1 Axes>"
      ]
     },
     "metadata": {
      "needs_background": "light"
     },
     "output_type": "display_data"
    }
   ],
   "source": [
    "import logging\n",
    "import pandas as pd\n",
    "import datetime\n",
    "import seaborn as sb\n",
    "import time\n",
    "from ipywidgets import interact, fixed\n",
    "\n",
    "from libs.CovidTimeseriesModel import CovidTimeseriesModel\n",
    "from libs.CovidDatasets import CovidDatasets\n",
    "\n",
    "## Constants\n",
    "start_time = time.time()\n",
    "COVID_DATASETS=CovidDatasets()\n",
    "MODEL = CovidTimeseriesModel()\n",
    "HOSPITALIZATION_RATE = .073\n",
    "HOSPITALIZED_CASES_REQUIRING_ICU_CARE = .1397\n",
    "MODEL_INTERVAL = 4\n",
    "TOTAL_INFECTED_PERIOD = 12  # In days\n",
    "# Pack all of the assumptions and parameters into a dict that can be passed into the model\n",
    "MODEL_PARAMETERS = {\n",
    "    # Pack the changeable model parameters\n",
    "    'timeseries': COVID_DATASETS.get_timeseries_by_country_state('USA', 'CA'),\n",
    "    'beds': COVID_DATASETS.get_beds_by_country_state('USA', 'CA'),\n",
    "    'population': COVID_DATASETS.get_population_by_country_state('USA', 'CA'),\n",
    "    'r0': 2.4,\n",
    "    'hospitalization_rate': HOSPITALIZATION_RATE,\n",
    "    'initial_hospitalization_rate': .05,\n",
    "    'case_fatality_rate': .011,\n",
    "    'hospitalized_cases_requiring_icu_care': HOSPITALIZED_CASES_REQUIRING_ICU_CARE,\n",
    "    # Assumes that anyone who needs ICU care and doesn't get it dies\n",
    "    'case_fatality_rate_hospitals_overwhelmed': HOSPITALIZATION_RATE * HOSPITALIZED_CASES_REQUIRING_ICU_CARE,\n",
    "    'hospital_capacity_change_daily_rate': 1.05,\n",
    "    'max_hospital_capacity_factor': 2.07,\n",
    "    'initial_hospital_bed_utilization': .6,\n",
    "    'model_interval': MODEL_INTERVAL,\n",
    "    'total_infected_period': TOTAL_INFECTED_PERIOD,\n",
    "    'rolling_intervals_for_current_infected': int(round(TOTAL_INFECTED_PERIOD / MODEL_INTERVAL, 0)),\n",
    "}\n",
    "\n",
    "def run_model(model_parameters):    \n",
    "    return MODEL.forecast_region(25, model_parameters)\n",
    "\n",
    "ak = run_model(model_parameters=MODEL_PARAMETERS)\n",
    "\n",
    "sb.lineplot(x='Timestamp', y='Curr. Inf.', data=ak)"
   ]
  },
  {
   "cell_type": "code",
   "execution_count": null,
   "metadata": {},
   "outputs": [],
   "source": [
    "completition_time = (time.time() - start_time)/60\n",
    "print(\"Forecsasted Model in {} minutes\".format(completition_time))"
   ]
  }
 ],
 "metadata": {
  "kernelspec": {
   "display_name": "Python 3",
   "language": "python",
   "name": "python3"
  },
  "language_info": {
   "codemirror_mode": {
    "name": "ipython",
    "version": 3
   },
   "file_extension": ".py",
   "mimetype": "text/x-python",
   "name": "python",
   "nbconvert_exporter": "python",
   "pygments_lexer": "ipython3",
   "version": "3.7.4"
  }
 },
 "nbformat": 4,
 "nbformat_minor": 4
}
