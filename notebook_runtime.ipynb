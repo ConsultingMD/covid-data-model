{
 "cells": [
  {
   "cell_type": "code",
   "execution_count": null,
   "metadata": {},
   "outputs": [],
   "source": [
    "import logging\n",
    "import pandas as pd\n",
    "import datetime\n",
    "import seaborn as sb\n",
    "from ipywidgets import interact, fixed\n",
    "from libs.CovidTimeseriesModel import CovidTimeseriesModel\n",
    "from libs.CovidDatasets import CovidDatasets"
   ]
  },
  {
   "cell_type": "code",
   "execution_count": null,
   "metadata": {},
   "outputs": [],
   "source": [
    "COVID_DATASETS=CovidDatasets()"
   ]
  },
  {
   "cell_type": "code",
   "execution_count": null,
   "metadata": {},
   "outputs": [],
   "source": [
    "## Constants\n",
    "r0 = 2.4\n",
    "hospitalization_rate = .073\n",
    "initial_hospitalization_rate = .05\n",
    "case_fatality_rate = .011\n",
    "hospitalized_cases_requiring_icu_care = .1397\n",
    "# Assumes that anyone who needs ICU care and doesn't get it dies\n",
    "case_fatality_rate_hospitals_overwhelmed = hospitalization_rate * hospitalized_cases_requiring_icu_care\n",
    "\n",
    "hospital_capacity_change_daily_rate = 1.05\n",
    "max_hospital_capacity_factor = 2.08\n",
    "initial_hospital_bed_utilization = .6\n",
    "model_interval = 4\n",
    "total_infected_period = 12  # In days\n",
    "rolling_intervals_for_current_infected = int(round(total_infected_period / model_interval, 0))\n",
    "\n"
   ]
  },
  {
   "cell_type": "code",
   "execution_count": null,
   "metadata": {},
   "outputs": [],
   "source": [
    "def run_model(\n",
    "    state,\n",
    "    country,\n",
    "    r0, \n",
    "    hospitalization_rate, \n",
    "    initial_hospitalization_rate, \n",
    "    hospital_capacity_change_daily_rate, \n",
    "    max_hospital_capacity_factor,\n",
    "    initial_hospital_bed_utilization,\n",
    "    model_interval, \n",
    "    total_infected_period\n",
    "):\n",
    "    # Pack all of the assumptions and parameters into a dict that can be passed into the model\n",
    "    model_paramters = {\n",
    "        # Pull in the data sources\n",
    "        'full_timeseries': COVID_DATASETS.get_timeseries(),\n",
    "        'populations_data': COVID_DATASETS.get_population(),\n",
    "        'beds_data': COVID_DATASETS.get_beds(),\n",
    "        # Pack the changeable model parameters\n",
    "        'r0': r0,\n",
    "        'hospitalization_rate': hospitalization_rate,\n",
    "        'initial_hospitalization_rate': initial_hospitalization_rate,\n",
    "        'case_fatality_rate': case_fatality_rate,\n",
    "        'hospitalized_cases_requiring_icu_care': hospitalized_cases_requiring_icu_care,\n",
    "        # Assumes that anyone who needs ICU care and doesn't get it dies\n",
    "        'case_fatality_rate_hospitals_overwhelmed': hospitalization_rate * hospitalized_cases_requiring_icu_care,\n",
    "        'hospital_capacity_change_daily_rate': hospital_capacity_change_daily_rate,\n",
    "        'max_hospital_capacity_factor': max_hospital_capacity_factor,\n",
    "        'initial_hospital_bed_utilization': initial_hospital_bed_utilization,\n",
    "        'model_interval': model_interval,\n",
    "        'total_infected_period': total_infected_period,\n",
    "        'rolling_intervals_for_current_infected': int(round(total_infected_period / model_interval, 0))\n",
    "    }\n",
    "    ak = MODEL.forecast_region(state, country, 25, model_paramters)\n",
    "    sb.lineplot(x='Timestamp', y='Curr. Inf.', data=ak)"
   ]
  },
  {
   "cell_type": "code",
   "execution_count": null,
   "metadata": {},
   "outputs": [],
   "source": [
    "MODEL = CovidTimeseriesModel()\n",
    "    \n",
    "run_model(\n",
    "    state='CA',\n",
    "    country='USA', \n",
    "    r0=2.4,\n",
    "    hospitalization_rate=.073,\n",
    "    initial_hospitalization_rate=.05,\n",
    "    #case_fatality_rate=.011,\n",
    "    #hospitalized_cases_requiring_icu_care=.1397,\n",
    "    hospital_capacity_change_daily_rate=1.05,\n",
    "    max_hospital_capacity_factor=2.08,\n",
    "    initial_hospital_bed_utilization=.6,\n",
    "    model_interval=4,\n",
    "    total_infected_period=12\n",
    ")"
   ]
  }
 ],
 "metadata": {
  "kernelspec": {
   "display_name": "Python 3",
   "language": "python",
   "name": "python3"
  },
  "language_info": {
   "codemirror_mode": {
    "name": "ipython",
    "version": 3
   },
   "file_extension": ".py",
   "mimetype": "text/x-python",
   "name": "python",
   "nbconvert_exporter": "python",
   "pygments_lexer": "ipython3",
   "version": "3.7.6"
  }
 },
 "nbformat": 4,
 "nbformat_minor": 4
}
