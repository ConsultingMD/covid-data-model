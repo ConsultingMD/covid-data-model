{
 "cells": [
  {
   "cell_type": "code",
   "execution_count": null,
   "metadata": {},
   "outputs": [],
   "source": [
    "import logging\n",
    "import pandas as pd\n",
    "import datetime\n",
    "import seaborn as sb\n",
    "import time\n",
    "from ipywidgets import interact, fixed\n",
    "from libs.CovidTimeseriesModel import CovidTimeseriesModel\n",
    "from libs.CovidDatasets import CovidDatasets\n",
    "\n",
    "## Constants\n",
    "start_time = time.time()\n",
    "HOSPITALIZATION_RATE = .073\n",
    "HOSPITALIZED_CASES_REQUIRING_ICU_CARE = .1397\n",
    "TOTAL_INFECTED_PERIOD = 12\n",
    "MODEL_INTERVAL = 4\n",
    "r0 = 2.4\n",
    "INTERVENTIONS = {\n",
    "        datetime.date(2020, 3, 23): 1.3,\n",
    "        datetime.date(2020, 4, 20): 1.1,\n",
    "        datetime.date(2020, 5, 22): 0.8,\n",
    "        datetime.date(2020, 6, 23): r0\n",
    "    }\n",
    "# Pack all of the assumptions and parameters into a dict that can be passed into the model\n",
    "MODEL_PARAMETERS = {\n",
    "    # Pack the changeable model parameters\n",
    "    'timeseries': CovidDatasets().get_timeseries_by_country_state('USA', 'TX'),\n",
    "    'beds': CovidDatasets().get_beds_by_country_state('USA', 'AK'),\n",
    "    'population': CovidDatasets().get_population_by_country_state('USA', 'TX'),\n",
    "    'projection_iterations': 25, # Number of iterations into the future to project\n",
    "    'r0': r0,\n",
    "    'interventions': INTERVENTIONS,\n",
    "    'hospitalization_rate': HOSPITALIZATION_RATE,\n",
    "    'initial_hospitalization_rate': .05,\n",
    "    'case_fatality_rate': .011,\n",
    "    'hospitalized_cases_requiring_icu_care': HOSPITALIZED_CASES_REQUIRING_ICU_CARE,\n",
    "    # Assumes that anyone who needs ICU care and doesn't get it dies\n",
    "    'case_fatality_rate_hospitals_overwhelmed': HOSPITALIZATION_RATE * HOSPITALIZED_CASES_REQUIRING_ICU_CARE,\n",
    "    'hospital_capacity_change_daily_rate': 1.05,\n",
    "    'max_hospital_capacity_factor': 2.07,\n",
    "    'initial_hospital_bed_utilization': .6,\n",
    "    'model_interval': 4, # In days\n",
    "    'total_infected_period': 12, # In days\n",
    "    'rolling_intervals_for_current_infected': int(round(TOTAL_INFECTED_PERIOD / MODEL_INTERVAL, 0)),\n",
    "}\n",
    "\n",
    "def run_model(model_parameters):\n",
    "    return CovidTimeseriesModel().forecast_region(model_parameters)\n",
    "\n",
    "ak = run_model(model_parameters=MODEL_PARAMETERS)\n",
    "\n",
    "sb.lineplot(x='Timestamp', y='Cum. Deaths', data=ak)"
   ]
  }
 ],
 "metadata": {
  "kernelspec": {
   "display_name": "Python 3",
   "language": "python",
   "name": "python3"
  },
  "language_info": {
   "codemirror_mode": {
    "name": "ipython",
    "version": 3
   },
   "file_extension": ".py",
   "mimetype": "text/x-python",
   "name": "python",
   "nbconvert_exporter": "python",
   "pygments_lexer": "ipython3",
   "version": "3.7.4"
  }
 },
 "nbformat": 4,
 "nbformat_minor": 4
}
