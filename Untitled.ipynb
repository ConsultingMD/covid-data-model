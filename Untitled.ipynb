{
 "cells": [
  {
   "cell_type": "code",
   "execution_count": null,
   "metadata": {},
   "outputs": [],
   "source": [
    "%load_ext autoreload\n",
    "%autoreload 2\n",
    "from libs.datasets import DHBeds\n",
    "from libs.datasets import CovidCareMapBeds\n",
    "from libs.datasets import JHUDataset\n",
    "from libs.datasets.sources.nha_hospitalization import NevadaHospitalAssociationData\n",
    "from libs.datasets import NYTimesDataset\n",
    "from libs.datasets import CovidTrackingDataSource\n",
    "from libs.datasets import CDSDataset\n",
    "from libs.datasets import FIPSPopulation\n",
    "from libs.datasets.dataset_utils import AggregationLevel\n",
    "from libs.enums import Intervention\n",
    "from libs.datasets import combined_datasets\n",
    "# from libs.datasets.sources.interventions import StateInterventionDataSource\n",
    "from pyseir.inference.fit_results import load_inference_result, load_Rt_result\n",
    "from libs.datasets import dataset_utils\n",
    "from libs.build_processed_dataset import get_testing_timeseries_by_state\n",
    "from libs.datasets import custom_aggregations\n",
    "import pyseir.load_data as load_data\n",
    "import pathlib\n",
    "import json\n",
    "import numpy as np\n",
    "import pandas as pd\n",
    "import seaborn as sns\n",
    "import requests\n",
    "import datetime\n",
    "import matplotlib as mpl\n",
    "import matplotlib.pyplot as plt\n",
    "%matplotlib\n",
    "pd.set_option('display.max_rows', 10000)\n",
    "pd.set_option('display.max_columns', 10000)\n",
    "\n",
    "from libs.datasets import dataset_cache\n",
    "dataset_cache.set_pickle_cache_dir()"
   ]
  },
  {
   "cell_type": "code",
   "execution_count": null,
   "metadata": {},
   "outputs": [],
   "source": [
    "latest_df = combined_datasets.build_us_latest_with_all_fields()"
   ]
  },
  {
   "cell_type": "code",
   "execution_count": null,
   "metadata": {},
   "outputs": [],
   "source": [
    "latest_df.data[latest_df.data.aggregate_level=='state']"
   ]
  },
  {
   "cell_type": "code",
   "execution_count": null,
   "metadata": {},
   "outputs": [],
   "source": [
    "# latest_df.data['fips']"
   ]
  },
  {
   "cell_type": "code",
   "execution_count": null,
   "metadata": {},
   "outputs": [],
   "source": [
    "fips = '49'\n",
    "latest_df = combined_datasets.build_us_latest_with_all_fields().get_subset(aggregation_level=AggregationLevel.STATE,\n",
    "                                                                           fips=fips)"
   ]
  },
  {
   "cell_type": "code",
   "execution_count": null,
   "metadata": {},
   "outputs": [],
   "source": [
    "latest_df.data"
   ]
  },
  {
   "cell_type": "code",
   "execution_count": null,
   "metadata": {},
   "outputs": [],
   "source": [
    "latest_df.data.to_dict('record')[0]"
   ]
  },
  {
   "cell_type": "code",
   "execution_count": null,
   "metadata": {},
   "outputs": [],
   "source": [
    "def get_latest_observed(fips:str) -> dict:\n",
    "    \"\"\"\"\"\"\n",
    "    latest_df = combined_datasets.build_us_latest_with_all_fields()\n",
    "    if len(fips) == 2:\n",
    "        df = latest_df.get_subset(aggregation_level=AggregationLevel.STATE, fips=fips)\n",
    "    else:\n",
    "        df = latest_df.get_subset(aggregation_level=AggregationLevel.COUNTY, fips=fips)\n",
    "        \n",
    "    records = df.data.to_dict('record')\n",
    "    assert(len(records)==1)\n",
    "    return records[0]"
   ]
  },
  {
   "cell_type": "code",
   "execution_count": null,
   "metadata": {},
   "outputs": [],
   "source": [
    "get_latest_observed(\"06\")"
   ]
  },
  {
   "cell_type": "code",
   "execution_count": null,
   "metadata": {},
   "outputs": [],
   "source": [
    "import datetime as dt"
   ]
  },
  {
   "cell_type": "code",
   "execution_count": null,
   "metadata": {},
   "outputs": [],
   "source": [
    "t0 = dt.datetime(2020,2,3)\n",
    "tnow = pd.Timestamp.utcnow().tz_localize(None)"
   ]
  },
  {
   "cell_type": "code",
   "execution_count": null,
   "metadata": {},
   "outputs": [],
   "source": [
    "(tnow.date() - t0.date()).days"
   ]
  },
  {
   "cell_type": "code",
   "execution_count": null,
   "metadata": {},
   "outputs": [],
   "source": []
  },
  {
   "cell_type": "code",
   "execution_count": null,
   "metadata": {},
   "outputs": [],
   "source": [
    "pyseir_outputs = load_data.load_ensemble_results(\"06\")"
   ]
  },
  {
   "cell_type": "code",
   "execution_count": null,
   "metadata": {},
   "outputs": [],
   "source": [
    "inference_results = load_inference_result(\"06\")"
   ]
  },
  {
   "cell_type": "code",
   "execution_count": null,
   "metadata": {},
   "outputs": [],
   "source": [
    "inference_results"
   ]
  },
  {
   "cell_type": "code",
   "execution_count": null,
   "metadata": {},
   "outputs": [],
   "source": [
    "t0 = datetime.datetime.fromisoformat(inference_results['t0_date'])\n",
    "tnow = pd.Timestamp.utcnow().tz_localize(None)\n",
    "(tnow.date() - t0.date()).days"
   ]
  },
  {
   "cell_type": "code",
   "execution_count": null,
   "metadata": {},
   "outputs": [],
   "source": [
    "int(inference_results['t_today']-inference_results['t0'])"
   ]
  },
  {
   "cell_type": "code",
   "execution_count": null,
   "metadata": {},
   "outputs": [],
   "source": [
    "pyseir_outputs.keys()"
   ]
  },
  {
   "cell_type": "code",
   "execution_count": null,
   "metadata": {},
   "outputs": [],
   "source": [
    "pyseir_outputs['suppression_policy__no_intervention'].keys()"
   ]
  },
  {
   "cell_type": "code",
   "execution_count": null,
   "metadata": {},
   "outputs": [],
   "source": [
    "pyseir_outputs['suppression_policy__no_intervention']['total_deaths']['ci_50']"
   ]
  },
  {
   "cell_type": "code",
   "execution_count": null,
   "metadata": {},
   "outputs": [],
   "source": [
    "fig, ax = plt.subplots()\n",
    "for k, v in pyseir_outputs.items():\n",
    "    plt.plot(v['HGen'][\"ci_50\"], label=k)\n",
    "fig.legend()"
   ]
  },
  {
   "cell_type": "code",
   "execution_count": null,
   "metadata": {},
   "outputs": [],
   "source": [
    "np.isnan(float('nan'))"
   ]
  },
  {
   "cell_type": "code",
   "execution_count": null,
   "metadata": {},
   "outputs": [],
   "source": [
    "np.isnan(None)"
   ]
  },
  {
   "cell_type": "code",
   "execution_count": null,
   "metadata": {},
   "outputs": [],
   "source": [
    "type(np.nan)"
   ]
  },
  {
   "cell_type": "code",
   "execution_count": null,
   "metadata": {},
   "outputs": [],
   "source": [
    "np.float(None)"
   ]
  },
  {
   "cell_type": "code",
   "execution_count": null,
   "metadata": {},
   "outputs": [],
   "source": [
    "test = None\n",
    "for value in [test]:\n",
    "    if value is None:\n",
    "        value = np.nan"
   ]
  },
  {
   "cell_type": "code",
   "execution_count": null,
   "metadata": {},
   "outputs": [],
   "source": [
    "[np.nan if np.isnan(x) else x for x in [test]]"
   ]
  },
  {
   "cell_type": "code",
   "execution_count": null,
   "metadata": {},
   "outputs": [],
   "source": [
    "i"
   ]
  }
 ],
 "metadata": {
  "kernelspec": {
   "display_name": "Python 3",
   "language": "python",
   "name": "python3"
  },
  "language_info": {
   "codemirror_mode": {
    "name": "ipython",
    "version": 3
   },
   "file_extension": ".py",
   "mimetype": "text/x-python",
   "name": "python",
   "nbconvert_exporter": "python",
   "pygments_lexer": "ipython3",
   "version": "3.7.7"
  }
 },
 "nbformat": 4,
 "nbformat_minor": 4
}
