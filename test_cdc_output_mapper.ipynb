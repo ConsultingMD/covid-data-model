{
 "cells": [
  {
   "cell_type": "code",
   "execution_count": 93,
   "metadata": {},
   "outputs": [
    {
     "name": "stdout",
     "output_type": "stream",
     "text": [
      "The autoreload extension is already loaded. To reload it, use:\n",
      "  %reload_ext autoreload\n"
     ]
    }
   ],
   "source": [
    "%load_ext autoreload\n",
    "%autoreload 2\n",
    "%matplotlib inline\n",
    "import numpy as np\n",
    "import matplotlib.pyplot as plt\n",
    "from pyseir.models.seir_model import SEIRModel\n",
    "from pyseir.inference.model_fitter import ModelFitter, run_state\n",
    "from pyseir.ensembles.ensemble_runner import EnsembleRunner\n",
    "from pyseir.inference.fit_results import load_inference_result\n",
    "from epiweeks import Week, Year\n",
    "from pyseir.utils import REF_DATE\n",
    "import scipy\n",
    "from datetime import datetime, timedelta\n",
    "import inspect\n",
    "from pyseir import load_data\n",
    "from pyseir.cdc.output_mapper import OutputMapper, run_all\n",
    "from epiweeks import Week, Year\n",
    "import pandas as pd"
   ]
  },
  {
   "cell_type": "code",
   "execution_count": 91,
   "metadata": {},
   "outputs": [
    {
     "data": {
      "text/plain": [
       "array([0.01 , 0.025, 0.05 , 0.1  , 0.15 , 0.2  , 0.25 , 0.3  , 0.35 ,\n",
       "       0.4  , 0.45 , 0.5  , 0.55 , 0.6  , 0.65 , 0.7  , 0.75 , 0.8  ,\n",
       "       0.85 , 0.9  , 0.975, 0.99 ])"
      ]
     },
     "execution_count": 91,
     "metadata": {},
     "output_type": "execute_result"
    }
   ],
   "source": [
    "np.concatenate([[0.01, 0.025], np.arange(0.05, 0.95, 0.05), [0.975, 0.99]])"
   ]
  },
  {
   "cell_type": "code",
   "execution_count": 17,
   "metadata": {
    "collapsed": true
   },
   "outputs": [
    {
     "name": "stderr",
     "output_type": "stream",
     "text": [
      "/anaconda3/envs/pyseir/lib/python3.7/site-packages/pandas/core/indexing.py:966: SettingWithCopyWarning: \n",
      "A value is trying to be set on a copy of a slice from a DataFrame.\n",
      "Try using .loc[row_indexer,col_indexer] = value instead\n",
      "\n",
      "See the caveats in the documentation: https://pandas.pydata.org/pandas-docs/stable/user_guide/indexing.html#returning-a-view-versus-a-copy\n",
      "  self.obj[item] = s\n"
     ]
    },
    {
     "name": "stdout",
     "output_type": "stream",
     "text": [
      "------------------------------------------------------------------\n",
      "| FCN = 99.88                   |     Ncalls=312 (312 total)     |\n",
      "| EDM = 0.00881 (Goal: 5E-06)   |            up = 0.5            |\n",
      "------------------------------------------------------------------\n",
      "|  Valid Min.   | Valid Param.  | Above EDM | Reached call limit |\n",
      "------------------------------------------------------------------\n",
      "|     False     |     True      |   True    |       False        |\n",
      "------------------------------------------------------------------\n",
      "| Hesse failed  |   Has cov.    | Accurate  | Pos. def. | Forced |\n",
      "------------------------------------------------------------------\n",
      "|     False     |     True      |   False   |   False   |  True  |\n",
      "------------------------------------------------------------------\n"
     ]
    }
   ],
   "source": [
    "run_state(state='California', states_only=True)"
   ]
  },
  {
   "cell_type": "code",
   "execution_count": 92,
   "metadata": {
    "scrolled": false
   },
   "outputs": [
    {
     "name": "stderr",
     "output_type": "stream",
     "text": [
      "WARNING:libs.datasets.dataset_utils:Did not match 66 codes to county data.\n",
      "WARNING:libs.datasets.dataset_utils:['00066', '00069', '00072', '00078', '60000', '66000', '69000', '78000', '80008', '80013', '80015', '80026', '80040', '80047', '88888', '90001', '90002', '90004', '90005', '90006', '90008', '90009', '90010', '90012', '90013', '90015', '90016', '90017', '90018', '90019', '90020', '90021', '90022', '90023', '90024', '90025', '90026', '90027', '90028', '90029', '90030', '90031', '90032', '90033', '90034', '90035', '90036', '90037', '90038', '90039', '90040', '90041', '90042', '90044', '90045', '90046', '90047', '90048', '90049', '90050', '90051', '90053', '90054', '90055', '90056', '99999']\n"
     ]
    },
    {
     "name": "stdout",
     "output_type": "stream",
     "text": [
      "defaultdict(<class 'list'>, {'cum death':                                 0          1           2            3   \\\n",
      "2 day ahead cum death   157.718471  58.893769  136.213132  1044.089809   \n",
      "3 day ahead cum death   162.201248  60.487789  139.894785  1074.418850   \n",
      "4 day ahead cum death   166.706902  62.089116  143.592746  1104.865309   \n",
      "5 day ahead cum death   171.235243  63.697810  147.306966  1135.426529   \n",
      "6 day ahead cum death   175.786160  65.313937  151.037441  1166.099130   \n",
      "7 day ahead cum death   180.359652  66.937704  154.784172  1196.880536   \n",
      "8 day ahead cum death   184.955720  68.569291  158.547027  1227.768571   \n",
      "9 day ahead cum death   189.574363  70.208588  162.326907  1258.761247   \n",
      "10 day ahead cum death  194.215584  71.855488  166.123833  1289.856760   \n",
      "11 day ahead cum death  198.879380  73.509993  169.937124  1321.053489   \n",
      "12 day ahead cum death  203.566264  75.172101  173.766829  1352.349962   \n",
      "13 day ahead cum death  208.276354  76.841814  177.613192  1383.744825   \n",
      "14 day ahead cum death  213.009327  78.519303  181.476594  1415.236887   \n",
      "15 day ahead cum death  217.765131  80.205056  185.357042  1446.825124   \n",
      "\n",
      "                                4    5           6            7            8   \\\n",
      "2 day ahead cum death   409.377893  0.0  367.379164  5032.173017  3839.867500   \n",
      "3 day ahead cum death   421.600077  0.0  379.083629  5186.041903  3960.618365   \n",
      "4 day ahead cum death   433.907928  0.0  390.889790  5340.678488  4082.125665   \n",
      "5 day ahead cum death   446.301201  0.0  402.796599  5496.055180  4204.366352   \n",
      "6 day ahead cum death   458.778858  0.0  414.803697  5652.135134  4327.319772   \n",
      "7 day ahead cum death   471.340631  0.0  426.910761  5808.890183  4450.973987   \n",
      "8 day ahead cum death   483.986254  0.0  439.116785  5966.307370  4575.318640   \n",
      "9 day ahead cum death   496.715460  0.0  451.421123  6124.375742  4700.336546   \n",
      "10 day ahead cum death  509.530232  0.0  463.823674  6283.067540  4826.009878   \n",
      "11 day ahead cum death  522.431626  0.0  476.323636  6442.354394  4952.328210   \n",
      "12 day ahead cum death  535.418607  0.0  488.920205  6602.212849  5079.283348   \n",
      "13 day ahead cum death  548.490845  0.0  501.613227  6762.534461  5206.858467   \n",
      "14 day ahead cum death  561.648386  0.0  514.402318  6923.479015  5335.035263   \n",
      "15 day ahead cum death  574.891275  0.0  527.286333  7085.049410  5463.798959   \n",
      "\n",
      "                                  9   ...            90           91  \\\n",
      "2 day ahead cum death   21964.146865  ...  10746.001680   710.536806   \n",
      "3 day ahead cum death   22638.946741  ...  11004.631604   733.842957   \n",
      "4 day ahead cum death   23313.330338  ...  11260.702417   757.319710   \n",
      "5 day ahead cum death   23986.952844  ...  11514.207355   780.964052   \n",
      "6 day ahead cum death   24659.575120  ...  11765.018093   804.770944   \n",
      "7 day ahead cum death   25331.022582  ...  12012.985084   828.734484   \n",
      "8 day ahead cum death   26000.967041  ...  12258.069669   852.849688   \n",
      "9 day ahead cum death   26669.040231  ...  12500.271847   877.113200   \n",
      "10 day ahead cum death  27334.935080  ...  12739.550351   901.521233   \n",
      "11 day ahead cum death  27998.445843  ...  12975.801040   926.068601   \n",
      "12 day ahead cum death  28659.466497  ...  13208.948239   950.750501   \n",
      "13 day ahead cum death  29317.720325  ...  13438.957070   975.562506   \n",
      "14 day ahead cum death  29972.866088  ...  13665.785860  1000.501002   \n",
      "15 day ahead cum death  30624.638989  ...  13889.391722  1025.561755   \n",
      "\n",
      "                                  92            93           94         95  \\\n",
      "2 day ahead cum death   16477.368216  19981.899941  1269.715304  50.889644   \n",
      "3 day ahead cum death   16948.889470  20162.266792  1307.705030  52.426905   \n",
      "4 day ahead cum death   17418.747283  20332.977879  1345.934565  53.975578   \n",
      "5 day ahead cum death   17886.737521  20494.494422  1384.401117  55.535618   \n",
      "6 day ahead cum death   18352.581307  20647.186189  1423.101891  57.106965   \n",
      "7 day ahead cum death   18816.180053  20791.432104  1462.034093  58.689600   \n",
      "8 day ahead cum death   19277.352487  20927.663895  1501.202060  60.283519   \n",
      "9 day ahead cum death   19735.788761  21056.150179  1540.617671  61.888702   \n",
      "10 day ahead cum death  20191.245960  21177.274531  1580.277807  63.505128   \n",
      "11 day ahead cum death  20643.631358  21291.461779  1620.174143  65.132796   \n",
      "12 day ahead cum death  21092.893128  21399.032293  1660.305627  66.771790   \n",
      "13 day ahead cum death  21538.817417  21500.334855  1700.671207  68.422141   \n",
      "14 day ahead cum death  21981.171437  21595.675887  1741.269833  70.083797   \n",
      "15 day ahead cum death  22419.826094  21685.347107  1782.102930  71.756741   \n",
      "\n",
      "                                 96         97          98           99  \n",
      "2 day ahead cum death    858.254808  70.772153  701.586079   878.328991  \n",
      "3 day ahead cum death    883.786990  72.825441  722.946393   903.530089  \n",
      "4 day ahead cum death    909.470394  74.890762  744.452325   928.898766  \n",
      "5 day ahead cum death    935.304589  76.968005  766.103658   954.435740  \n",
      "6 day ahead cum death    961.289294  79.057097  787.900315   980.141319  \n",
      "7 day ahead cum death    987.424464  81.158037  809.842326  1006.015116  \n",
      "8 day ahead cum death   1013.710155  83.270791  831.929776  1032.057020  \n",
      "9 day ahead cum death   1040.146373  85.395262  854.162788  1058.267029  \n",
      "10 day ahead cum death  1066.733121  87.531451  876.541668  1084.643691  \n",
      "11 day ahead cum death  1093.470595  89.679435  899.066724  1111.192353  \n",
      "12 day ahead cum death  1120.359076  91.839246  921.738820  1137.913656  \n",
      "13 day ahead cum death  1147.398665  94.010899  944.558776  1164.803539  \n",
      "14 day ahead cum death  1174.589361  96.194407  967.526737  1191.862238  \n",
      "15 day ahead cum death  1201.931382  98.389787  990.642702  1219.090303  \n",
      "\n",
      "[14 rows x 100 columns], 'inc death':                               0         1         2          3          4   \\\n",
      "2 day ahead inc death   4.459822  1.586727  3.665367  30.208738  12.137620   \n",
      "3 day ahead inc death   4.482776  1.594021  3.681653  30.329041  12.222184   \n",
      "4 day ahead inc death   4.505654  1.601327  3.697960  30.446460  12.307851   \n",
      "5 day ahead inc death   4.528341  1.608694  3.714220  30.561220  12.393274   \n",
      "6 day ahead inc death   4.550917  1.616126  3.730475  30.672601  12.477657   \n",
      "7 day ahead inc death   4.573492  1.623767  3.746731  30.781406  12.561773   \n",
      "8 day ahead inc death   4.596068  1.631587  3.762856  30.888035  12.645623   \n",
      "9 day ahead inc death   4.618644  1.639296  3.779880  30.992676  12.729206   \n",
      "10 day ahead inc death  4.641220  1.646900  3.796926  31.095513  12.814772   \n",
      "11 day ahead inc death  4.663797  1.654505  3.813291  31.196729  12.901394   \n",
      "12 day ahead inc death  4.686884  1.662109  3.829705  31.296473  12.986981   \n",
      "13 day ahead inc death  4.710091  1.669713  3.846363  31.394862  13.072239   \n",
      "14 day ahead inc death  4.732973  1.677488  3.863402  31.492062  13.157541   \n",
      "15 day ahead inc death  4.755804  1.685754  3.880448  31.588238  13.242888   \n",
      "\n",
      "                         5          6           7           8           9   \\\n",
      "2 day ahead inc death   0.0  11.602019  153.090841  119.984330  674.820307   \n",
      "3 day ahead inc death   0.0  11.704465  153.868886  120.750865  674.799876   \n",
      "4 day ahead inc death   0.0  11.806161  154.636585  121.507299  674.383597   \n",
      "5 day ahead inc death   0.0  11.906808  155.376692  122.240687  673.622506   \n",
      "6 day ahead inc death   0.0  12.007098  156.079954  122.953420  672.622276   \n",
      "7 day ahead inc death   0.0  12.107064  156.755048  123.654215  671.447462   \n",
      "8 day ahead inc death   0.0  12.206024  157.417187  124.344653  669.944459   \n",
      "9 day ahead inc death   0.0  12.304338  158.068372  125.017906  668.073189   \n",
      "10 day ahead inc death  0.0  12.402551  158.691798  125.673332  665.894849   \n",
      "11 day ahead inc death  0.0  12.499962  159.286854  126.318332  663.510763   \n",
      "12 day ahead inc death  0.0  12.596569  159.858455  126.955138  661.020653   \n",
      "13 day ahead inc death  0.0  12.693022  160.321612  127.575119  658.253829   \n",
      "14 day ahead inc death  0.0  12.789091  160.944554  128.176795  655.145763   \n",
      "15 day ahead inc death  0.0  12.884015  161.570395  128.763696  651.772901   \n",
      "\n",
      "                        ...          90         91          92          93  \\\n",
      "2 day ahead inc death   ...  261.181999  23.131185  472.881497  190.292134   \n",
      "3 day ahead inc death   ...  258.629924  23.306152  471.521254  180.366851   \n",
      "4 day ahead inc death   ...  256.070813  23.476752  469.857813  170.711087   \n",
      "5 day ahead inc death   ...  253.504938  23.644343  467.990238  161.516543   \n",
      "6 day ahead inc death   ...  250.810738  23.806892  465.843786  152.691767   \n",
      "7 day ahead inc death   ...  247.966991  23.963539  463.598747  144.245916   \n",
      "8 day ahead inc death   ...  245.084585  24.115204  461.172434  136.231790   \n",
      "9 day ahead inc death   ...  242.202178  24.263512  458.436274  128.486284   \n",
      "10 day ahead inc death  ...  239.278504  24.408033  455.457199  121.124352   \n",
      "11 day ahead inc death  ...  236.250689  24.547369  452.385399  114.187248   \n",
      "12 day ahead inc death  ...  233.147198  24.681900  449.261770  107.570514   \n",
      "13 day ahead inc death  ...  230.008831  24.812005  445.924289  101.302562   \n",
      "14 day ahead inc death  ...  226.828790  24.938497  442.354020   95.341031   \n",
      "15 day ahead inc death  ...  223.605863  25.060753  438.654657   89.671220   \n",
      "\n",
      "                               94        95         96        97         98  \\\n",
      "2 day ahead inc death   37.744172  1.525848  25.380350  2.041221  21.214305   \n",
      "3 day ahead inc death   37.989726  1.537262  25.532182  2.053288  21.360314   \n",
      "4 day ahead inc death   38.229536  1.548672  25.683404  2.065321  21.505932   \n",
      "5 day ahead inc death   38.466552  1.560040  25.834195  2.077243  21.651334   \n",
      "6 day ahead inc death   38.700774  1.571347  25.984705  2.089093  21.796657   \n",
      "7 day ahead inc death   38.932202  1.582635  26.135170  2.100940  21.942010   \n",
      "8 day ahead inc death   39.167967  1.593919  26.285691  2.112754  22.087450   \n",
      "9 day ahead inc death   39.415610  1.605183  26.436218  2.124471  22.233013   \n",
      "10 day ahead inc death  39.660136  1.616426  26.586749  2.136189  22.378880   \n",
      "11 day ahead inc death  39.896336  1.627667  26.737474  2.147983  22.525056   \n",
      "12 day ahead inc death  40.131484  1.638994  26.888481  2.159811  22.672095   \n",
      "13 day ahead inc death  40.365580  1.650351  27.039588  2.171653  22.819957   \n",
      "14 day ahead inc death  40.598626  1.661655  27.190696  2.183508  22.967961   \n",
      "15 day ahead inc death  40.833097  1.672944  27.342022  2.195380  23.115965   \n",
      "\n",
      "                               99  \n",
      "2 day ahead inc death   25.033520  \n",
      "3 day ahead inc death   25.201099  \n",
      "4 day ahead inc death   25.368677  \n",
      "5 day ahead inc death   25.536973  \n",
      "6 day ahead inc death   25.705579  \n",
      "7 day ahead inc death   25.873798  \n",
      "8 day ahead inc death   26.041903  \n",
      "9 day ahead inc death   26.210009  \n",
      "10 day ahead inc death  26.376662  \n",
      "11 day ahead inc death  26.548662  \n",
      "12 day ahead inc death  26.721303  \n",
      "13 day ahead inc death  26.889884  \n",
      "14 day ahead inc death  27.058698  \n",
      "15 day ahead inc death  27.228065  \n",
      "\n",
      "[14 rows x 100 columns], 'inc hosp':                               0         1          2           3          4   \\\n",
      "2 day ahead inc hosp   23.636978  6.708877  19.011037  124.579543  83.516173   \n",
      "3 day ahead inc hosp   23.745949  6.737960  19.091920  124.987682  84.098245   \n",
      "4 day ahead inc hosp   23.855303  6.767348  19.173411  125.388690  84.678610   \n",
      "5 day ahead inc hosp   23.965126  6.797028  19.255279  125.783269  85.257911   \n",
      "6 day ahead inc hosp   24.075468  6.826988  19.337507  126.172646  85.837480   \n",
      "7 day ahead inc hosp   24.186328  6.857216  19.420094  126.557859  86.417983   \n",
      "8 day ahead inc hosp   24.297714  6.887708  19.502958  126.939525  87.000084   \n",
      "9 day ahead inc hosp   24.409644  6.918466  19.586660  127.317995  87.584449   \n",
      "10 day ahead inc hosp  24.522128  6.949495  19.671215  127.693545  88.169812   \n",
      "11 day ahead inc hosp  24.635166  6.980794  19.756198  128.066461  88.755704   \n",
      "12 day ahead inc hosp  24.748846  7.012363  19.841638  128.437016  89.343448   \n",
      "13 day ahead inc hosp  24.863188  7.044203  19.927566  128.805463  89.933763   \n",
      "14 day ahead inc hosp  24.978136  7.076310  20.014013  129.172021  90.527048   \n",
      "15 day ahead inc hosp  25.093682  7.108674  20.101008  129.536873  91.123701   \n",
      "\n",
      "                        5          6           7           8            9   \\\n",
      "2 day ahead inc hosp   0.0  54.218666  665.038184  450.319745  2594.675501   \n",
      "3 day ahead inc hosp   0.0  54.689461  667.976312  453.082962  2591.460864   \n",
      "4 day ahead inc hosp   0.0  55.156661  670.825421  455.783730  2587.120031   \n",
      "5 day ahead inc hosp   0.0  55.620621  673.589074  458.426980  2581.693214   \n",
      "6 day ahead inc hosp   0.0  56.081461  676.273780  461.016576  2575.206216   \n",
      "7 day ahead inc hosp   0.0  56.539257  678.883284  463.552373  2567.676029   \n",
      "8 day ahead inc hosp   0.0  56.994241  681.415125  466.033486  2559.140600   \n",
      "9 day ahead inc hosp   0.0  57.446562  683.866026  468.462213  2549.643343   \n",
      "10 day ahead inc hosp  0.0  57.896236  686.239564  470.841153  2539.219325   \n",
      "11 day ahead inc hosp  0.0  58.343356  688.539568  473.168971  2527.893591   \n",
      "12 day ahead inc hosp  0.0  58.788021  690.767859  475.443093  2515.681328   \n",
      "13 day ahead inc hosp  0.0  59.230248  692.922382  477.665740  2502.614602   \n",
      "14 day ahead inc hosp  0.0  59.670034  694.997136  479.839957  2488.731856   \n",
      "15 day ahead inc hosp  0.0  60.107368  696.994616  481.966827  2474.063977   \n",
      "\n",
      "                       ...           90          91           92          93  \\\n",
      "2 day ahead inc hosp   ...  1004.256196  115.006353  1989.932793  924.761232   \n",
      "3 day ahead inc hosp   ...   991.370997  115.766182  1983.355534  874.703550   \n",
      "4 day ahead inc hosp   ...   978.292158  116.505397  1975.974846  826.781401   \n",
      "5 day ahead inc hosp   ...   965.020774  117.223225  1967.814991  780.961698   \n",
      "6 day ahead inc hosp   ...   951.577634  117.920133  1958.910660  737.217245   \n",
      "7 day ahead inc hosp   ...   937.986961  118.597116  1949.285743  695.503358   \n",
      "8 day ahead inc hosp   ...   924.255020  119.254607  1938.969086  655.767342   \n",
      "9 day ahead inc hosp   ...   910.381810  119.891969  1927.997230  617.969660   \n",
      "10 day ahead inc hosp  ...   896.391911  120.508849  1916.402713  582.045569   \n",
      "11 day ahead inc hosp  ...   882.334857  121.105813  1904.209570  547.922966   \n",
      "12 day ahead inc hosp  ...   868.212631  121.683176  1891.439528  515.547257   \n",
      "13 day ahead inc hosp  ...   854.001625  122.240991  1878.123461  484.859859   \n",
      "14 day ahead inc hosp  ...   839.712422  122.778698  1864.293315  455.807569   \n",
      "15 day ahead inc hosp  ...   825.371076  123.296207  1849.975797  428.333501   \n",
      "\n",
      "                               94        95          96         97  \\\n",
      "2 day ahead inc hosp   143.858286  6.500714  143.947652  14.068148   \n",
      "3 day ahead inc hosp   144.743454  6.548134  144.750518  14.146163   \n",
      "4 day ahead inc hosp   145.627726  6.595461  145.555666  14.224059   \n",
      "5 day ahead inc hosp   146.512730  6.642720  146.363416  14.301962   \n",
      "6 day ahead inc hosp   147.400095  6.689943  147.174022  14.379954   \n",
      "7 day ahead inc hosp   148.291448  6.737143  147.987710  14.458040   \n",
      "8 day ahead inc hosp   149.185089  6.784323  148.804600  14.536288   \n",
      "9 day ahead inc hosp   150.075797  6.831507  149.624706  14.614905   \n",
      "10 day ahead inc hosp  150.965353  6.878717  150.448029  14.693907   \n",
      "11 day ahead inc hosp  151.857965  6.925955  151.274682  14.773158   \n",
      "12 day ahead inc hosp  152.754449  6.973296  152.104825  14.852614   \n",
      "13 day ahead inc hosp  153.655619  7.020765  152.938516  14.932297   \n",
      "14 day ahead inc hosp  154.562289  7.068318  153.775754  15.012252   \n",
      "15 day ahead inc hosp  155.474239  7.115940  154.616538  15.092511   \n",
      "\n",
      "                               98          99  \n",
      "2 day ahead inc hosp   113.146779  101.594743  \n",
      "3 day ahead inc hosp   113.897660  102.287439  \n",
      "4 day ahead inc hosp   114.649634  102.978357  \n",
      "5 day ahead inc hosp   115.403219  103.669369  \n",
      "6 day ahead inc hosp   116.158756  104.361284  \n",
      "7 day ahead inc hosp   116.916501  105.053091  \n",
      "8 day ahead inc hosp   117.676793  105.744496  \n",
      "9 day ahead inc hosp   118.439854  106.435497  \n",
      "10 day ahead inc hosp  119.205900  107.124870  \n",
      "11 day ahead inc hosp  119.975098  107.817127  \n",
      "12 day ahead inc hosp  120.747570  108.512810  \n",
      "13 day ahead inc hosp  121.523427  109.208492  \n",
      "14 day ahead inc hosp  122.302687  109.904369  \n",
      "15 day ahead inc hosp  123.085352  110.600691  \n",
      "\n",
      "[14 rows x 100 columns]})\n"
     ]
    },
    {
     "name": "stderr",
     "output_type": "stream",
     "text": [
      "WARNING:libs.datasets.dataset_utils:Did not match 66 codes to county data.\n",
      "WARNING:libs.datasets.dataset_utils:['00066', '00069', '00072', '00078', '60000', '66000', '69000', '78000', '80008', '80013', '80015', '80026', '80040', '80047', '88888', '90001', '90002', '90004', '90005', '90006', '90008', '90009', '90010', '90012', '90013', '90015', '90016', '90017', '90018', '90019', '90020', '90021', '90022', '90023', '90024', '90025', '90026', '90027', '90028', '90029', '90030', '90031', '90032', '90033', '90034', '90035', '90036', '90037', '90038', '90039', '90040', '90041', '90042', '90044', '90045', '90046', '90047', '90048', '90049', '90050', '90051', '90053', '90054', '90055', '90056', '99999']\n",
      "/anaconda3/envs/pyseir/lib/python3.7/site-packages/scipy/integrate/odepack.py:248: ODEintWarning: Repeated error test failures (internal error). Run with full_output = 1 to get quantitative information.\n",
      "  warnings.warn(warning_msg, ODEintWarning)\n"
     ]
    },
    {
     "name": "stdout",
     "output_type": "stream",
     "text": [
      "defaultdict(<class 'list'>, {'cum death':                                  0            1             2             3   \\\n",
      "2 day ahead cum death   3042.284143  2691.147564  34278.860020  13883.139514   \n",
      "3 day ahead cum death   3134.295389  2771.708976  34530.019552  14260.155442   \n",
      "4 day ahead cum death   3226.861652  2852.613099  34768.410366  14635.705909   \n",
      "5 day ahead cum death   3320.040506  2933.826568  34994.764648  15009.727420   \n",
      "6 day ahead cum death   3413.831951  3015.332341  35209.781153  15381.983000   \n",
      "7 day ahead cum death   3508.272759  3097.151635  35414.119018  15752.343743   \n",
      "8 day ahead cum death   3603.359608  3179.251224  35608.371325  16120.717686   \n",
      "9 day ahead cum death   3698.780478  3261.580993  35793.120920  16486.787720   \n",
      "10 day ahead cum death  3794.803279  3344.113981  35968.875087  16850.414371   \n",
      "11 day ahead cum death  3891.419882  3426.823225  36136.164804  17211.597640   \n",
      "12 day ahead cum death  3988.621446  3509.682919  36295.465714  17570.337526   \n",
      "13 day ahead cum death  4086.384179  3592.698654  36447.189293  17926.634030   \n",
      "14 day ahead cum death  4184.665491  3675.919668  36591.774955  18280.416447   \n",
      "15 day ahead cum death  4283.484993  3759.265804  36729.601089  18631.383161   \n",
      "\n",
      "                                 4            5             6            7   \\\n",
      "2 day ahead cum death   5046.450795  1476.751990   7861.897972  4163.420307   \n",
      "3 day ahead cum death   5216.885076  1517.690277   8107.312554  4281.213484   \n",
      "4 day ahead cum death   5387.854744  1558.812929   8353.605377  4399.239801   \n",
      "5 day ahead cum death   5559.296263  1600.119223   8600.702244  4517.477603   \n",
      "6 day ahead cum death   5731.134263  1641.607049   8848.501724  4635.905585   \n",
      "7 day ahead cum death   5903.306544  1683.275774   9096.874210  4754.502017   \n",
      "8 day ahead cum death   6075.740239  1725.125220   9345.796682  4873.246168   \n",
      "9 day ahead cum death   6248.368625  1767.154500   9595.269139  4992.119752   \n",
      "10 day ahead cum death  6421.125608  1809.362574   9845.289799  5111.103711   \n",
      "11 day ahead cum death  6593.947450  1851.749399  10095.802023  5230.174980   \n",
      "12 day ahead cum death  6766.781103  1894.314677  10346.617984  5349.306510   \n",
      "13 day ahead cum death  6939.568955  1937.057594  10597.662331  5468.471519   \n",
      "14 day ahead cum death  7112.238569  1979.977942  10848.935063  5587.669501   \n",
      "15 day ahead cum death  7284.784507  2023.075721  11100.436180  5706.899404   \n",
      "\n",
      "                                8             9   ...           90  \\\n",
      "2 day ahead cum death   680.350175  77471.776955  ...  2161.975865   \n",
      "3 day ahead cum death   698.215815  78489.142041  ...  2222.584766   \n",
      "4 day ahead cum death   716.028191  79461.752725  ...  2283.428162   \n",
      "5 day ahead cum death   733.786145  80391.045735  ...  2344.515818   \n",
      "6 day ahead cum death   751.482398  81278.327088  ...  2405.877764   \n",
      "7 day ahead cum death   769.105262  82124.859188  ...  2467.468930   \n",
      "8 day ahead cum death   786.653942  82932.088616  ...  2529.287795   \n",
      "9 day ahead cum death   804.127703  83701.388470  ...  2591.324629   \n",
      "10 day ahead cum death  821.520895  84434.099861  ...  2653.568324   \n",
      "11 day ahead cum death  838.822537  85131.673072  ...  2716.033330   \n",
      "12 day ahead cum death  856.031358  85795.343786  ...  2778.719649   \n",
      "13 day ahead cum death  873.147009  86426.618396  ...  2841.627278   \n",
      "14 day ahead cum death  890.166017  87026.601957  ...  2904.756220   \n",
      "15 day ahead cum death  907.080215  87596.821766  ...  2968.102461   \n",
      "\n",
      "                                 91             92           93           94  \\\n",
      "2 day ahead cum death   4972.715047   99007.843956  2276.885259   889.429387   \n",
      "3 day ahead cum death   5077.157406   99152.752522  2335.708675   914.844949   \n",
      "4 day ahead cum death   5176.851702   99287.278085  2394.529805   940.392213   \n",
      "5 day ahead cum death   5262.193720   99412.311767  2453.229469   966.070639   \n",
      "6 day ahead cum death   5328.795452   99528.662120  2511.912841   991.880967   \n",
      "7 day ahead cum death   5393.132260   99637.057546  2570.583886  1017.823248   \n",
      "8 day ahead cum death   5455.294757   99738.148776  2629.242606  1043.896847   \n",
      "9 day ahead cum death   5515.322142   99829.348916  2687.888998  1070.101286   \n",
      "10 day ahead cum death  5573.261047   99898.385496  2746.549356  1096.435815   \n",
      "11 day ahead cum death  5629.160741   99944.012040  2805.159447  1122.899587   \n",
      "12 day ahead cum death  5683.080068   99987.854732  2863.355125  1149.491904   \n",
      "13 day ahead cum death  5735.071973  100029.050737  2921.517800  1176.211795   \n",
      "14 day ahead cum death  5785.152160  100067.367178  2979.637093  1203.057414   \n",
      "15 day ahead cum death  5833.386023  100103.012598  3037.702624  1230.029357   \n",
      "\n",
      "                                  95            96            97  \\\n",
      "2 day ahead cum death   15108.686628  31023.832698  71502.130553   \n",
      "3 day ahead cum death   15127.220696  31148.463076  71827.949610   \n",
      "4 day ahead cum death   15144.399956  31262.985533  72131.604187   \n",
      "5 day ahead cum death   15160.334594  31368.226231  72414.672108   \n",
      "6 day ahead cum death   15175.125098  31464.855624  72678.573331   \n",
      "7 day ahead cum death   15188.863141  31553.572490  72924.673906   \n",
      "8 day ahead cum death   15201.632375  31634.978871  73154.208115   \n",
      "9 day ahead cum death   15213.509097  31709.682860  73368.353310   \n",
      "10 day ahead cum death  15224.563168  31778.214115  73568.182508   \n",
      "11 day ahead cum death  15234.858548  31841.063606  73754.704335   \n",
      "12 day ahead cum death  15244.453908  31898.699191  73928.852783   \n",
      "13 day ahead cum death  15253.402744  31951.537079  74091.493605   \n",
      "14 day ahead cum death  15261.753971  31999.986035  74243.426944   \n",
      "15 day ahead cum death  15269.552475  32044.369131  74385.395665   \n",
      "\n",
      "                                  98            99  \n",
      "2 day ahead cum death   20222.751581   9909.802378  \n",
      "3 day ahead cum death   20732.200388  10202.125568  \n",
      "4 day ahead cum death   21237.231889  10494.263555  \n",
      "5 day ahead cum death   21737.778100  10786.559708  \n",
      "6 day ahead cum death   22233.701876  11079.139851  \n",
      "7 day ahead cum death   22724.793362  11372.003985  \n",
      "8 day ahead cum death   23210.871894  11665.123547  \n",
      "9 day ahead cum death   23691.780432  11957.950161  \n",
      "10 day ahead cum death  24167.448854  12249.455667  \n",
      "11 day ahead cum death  24637.643919  12541.064994  \n",
      "12 day ahead cum death  25102.288715  12832.692939  \n",
      "13 day ahead cum death  25561.270651  13124.122610  \n",
      "14 day ahead cum death  26014.481603  13414.909893  \n",
      "15 day ahead cum death  26461.823309  13705.187825  \n",
      "\n",
      "[14 rows x 100 columns], 'inc death':                                0          1           2           3   \\\n",
      "2 day ahead inc death   91.392835  80.185339  264.704807  378.317422   \n",
      "3 day ahead inc death   92.011245  80.561413  251.159532  377.015928   \n",
      "4 day ahead inc death   92.566263  80.904123  238.390814  375.550467   \n",
      "5 day ahead inc death   93.178854  81.213469  226.354282  374.021511   \n",
      "6 day ahead inc death   93.791445  81.505773  215.016505  372.255579   \n",
      "7 day ahead inc death   94.440808  81.819294  204.337864  370.360743   \n",
      "8 day ahead inc death   95.086849  82.099588  194.252307  368.373943   \n",
      "9 day ahead inc death   95.420870  82.329769  184.749595  366.070034   \n",
      "10 day ahead inc death  96.022801  82.532988  175.754167  363.626651   \n",
      "11 day ahead inc death  96.616603  82.709244  167.289717  361.183269   \n",
      "12 day ahead inc death  97.201564  82.859695  159.300909  358.739886   \n",
      "13 day ahead inc death  97.762733  83.015735  151.723579  356.296504   \n",
      "14 day ahead inc death  98.281313  83.221014  144.585662  353.782417   \n",
      "15 day ahead inc death  98.819502  83.346136  137.826134  350.966714   \n",
      "\n",
      "                                4          5           6           7   \\\n",
      "2 day ahead inc death   169.827870  40.753833  244.464896  117.537387   \n",
      "3 day ahead inc death   170.434281  40.938287  245.414582  117.793177   \n",
      "4 day ahead inc death   170.969668  41.122652  246.292823  118.026317   \n",
      "5 day ahead inc death   171.441519  41.306294  247.096867  118.237803   \n",
      "6 day ahead inc death   171.838000  41.487826  247.799480  118.427982   \n",
      "7 day ahead inc death   172.172281  41.668724  248.372486  118.596432   \n",
      "8 day ahead inc death   172.433694  41.849447  248.922472  118.744151   \n",
      "9 day ahead inc death   172.628387  42.029280  249.472458  118.873584   \n",
      "10 day ahead inc death  172.756982  42.208074  250.020659  118.983959   \n",
      "11 day ahead inc death  172.821842  42.386825  250.512224  119.071269   \n",
      "12 day ahead inc death  172.833653  42.565278  250.815962  119.131530   \n",
      "13 day ahead inc death  172.787852  42.742917  251.044347  119.165009   \n",
      "14 day ahead inc death  172.669614  42.920348  251.272732  119.197981   \n",
      "15 day ahead inc death  172.545938  43.097779  251.501117  119.229903   \n",
      "\n",
      "                               8            9   ...         90          91  \\\n",
      "2 day ahead inc death   17.918630  1063.469561  ...  60.368314  107.145434   \n",
      "3 day ahead inc death   17.865640  1017.365085  ...  60.608902  104.442359   \n",
      "4 day ahead inc death   17.812375   972.610684  ...  60.843396   99.694296   \n",
      "5 day ahead inc death   17.757954   929.293010  ...  61.087656   85.342017   \n",
      "6 day ahead inc death   17.696253   887.281354  ...  61.361946   66.601733   \n",
      "7 day ahead inc death   17.622865   846.532100  ...  61.591165   64.336808   \n",
      "8 day ahead inc death   17.548680   807.229428  ...  61.818865   62.162497   \n",
      "9 day ahead inc death   17.473761   769.299853  ...  62.036834   60.027385   \n",
      "10 day ahead inc death  17.393193   732.711392  ...  62.243695   57.938905   \n",
      "11 day ahead inc death  17.301642   697.573211  ...  62.465007   55.899694   \n",
      "12 day ahead inc death  17.208820   663.670714  ...  62.686318   53.919327   \n",
      "13 day ahead inc death  17.115651   631.274610  ...  62.907630   51.991904   \n",
      "14 day ahead inc death  17.019008   599.983561  ...  63.128941   50.080187   \n",
      "15 day ahead inc death  16.914198   570.219809  ...  63.346241   48.233864   \n",
      "\n",
      "                                92         93         94         95  \\\n",
      "2 day ahead inc death   156.300979  58.778919  25.279634  20.009801   \n",
      "3 day ahead inc death   144.908566  58.823416  25.415562  18.534068   \n",
      "4 day ahead inc death   134.525563  58.821130  25.547264  17.179259   \n",
      "5 day ahead inc death   125.033681  58.699664  25.678426  15.934638   \n",
      "6 day ahead inc death   116.350354  58.683372  25.810327  14.790504   \n",
      "7 day ahead inc death   108.395426  58.671046  25.942281  13.738043   \n",
      "8 day ahead inc death   101.091230  58.658719  26.073599  12.769234   \n",
      "9 day ahead inc death    91.200140  58.646393  26.204439  11.876723   \n",
      "10 day ahead inc death   69.036580  58.660358  26.334529  11.054071   \n",
      "11 day ahead inc death   45.626544  58.610091  26.463772  10.295380   \n",
      "12 day ahead inc death   43.842692  58.195678  26.592317   9.595359   \n",
      "13 day ahead inc death   41.196004  58.162675  26.719891   8.948837   \n",
      "14 day ahead inc death   38.316442  58.119293  26.845619   8.351226   \n",
      "15 day ahead inc death   35.645420  58.065531  26.971943   7.798504   \n",
      "\n",
      "                                96          97          98          99  \n",
      "2 day ahead inc death   135.671624  349.620896  513.646308  291.864054  \n",
      "3 day ahead inc death   124.630379  325.819057  509.448807  292.323190  \n",
      "4 day ahead inc death   114.522457  303.654577  505.031501  292.137987  \n",
      "5 day ahead inc death   105.240698  283.067922  500.546210  292.296153  \n",
      "6 day ahead inc death    96.629393  263.901223  495.923777  292.580143  \n",
      "7 day ahead inc death    88.716866  246.100575  491.091486  292.864133  \n",
      "8 day ahead inc death    81.406381  229.534209  486.078533  293.119562  \n",
      "9 day ahead inc death    74.703989  214.145196  480.908538  292.826614  \n",
      "10 day ahead inc death   68.531255  199.829198  475.668422  291.505505  \n",
      "11 day ahead inc death   62.849491  186.521826  470.195065  291.609327  \n",
      "12 day ahead inc death   57.635585  174.148448  464.644796  291.627945  \n",
      "13 day ahead inc death   52.837888  162.640821  458.981936  291.429671  \n",
      "14 day ahead inc death   48.448956  151.933340  453.210952  290.787283  \n",
      "15 day ahead inc death   44.383095  141.968721  447.341706  290.277932  \n",
      "\n",
      "[14 rows x 100 columns], 'inc hosp':                                0           1           2            3   \\\n",
      "2 day ahead inc hosp   382.997522  458.393232  812.616114  1470.520042   \n",
      "3 day ahead inc hosp   385.311829  459.346052  768.089801  1461.494726   \n",
      "4 day ahead inc hosp   387.605635  460.220996  726.223084  1451.973093   \n",
      "5 day ahead inc hosp   389.871330  461.022341  686.861145  1441.964431   \n",
      "6 day ahead inc hosp   392.108914  461.749977  649.852277  1431.503410   \n",
      "7 day ahead inc hosp   394.315535  462.393505  615.055860  1420.608923   \n",
      "8 day ahead inc hosp   396.491449  462.957167  582.343182  1409.295862   \n",
      "9 day ahead inc hosp   398.660866  463.449740  551.586208  1397.615583   \n",
      "10 day ahead inc hosp  400.802999  463.873781  522.668716  1385.590671   \n",
      "11 day ahead inc hosp  402.918480  464.231846  495.470953  1373.221128   \n",
      "12 day ahead inc hosp  405.007920  464.526251  469.882793  1360.506952   \n",
      "13 day ahead inc hosp  407.071569  464.752839  445.805144  1347.448145   \n",
      "14 day ahead inc hosp  409.109212  464.898451  423.134959  1334.057871   \n",
      "15 day ahead inc hosp  411.122159  464.976612  401.783056  1320.392295   \n",
      "\n",
      "                               4           5           6           7   \\\n",
      "2 day ahead inc hosp   677.080507  224.404533  790.221045  578.294636   \n",
      "3 day ahead inc hosp   677.435414  225.318751  792.294017  579.150296   \n",
      "4 day ahead inc hosp   677.573736  226.234203  794.160568  579.913392   \n",
      "5 day ahead inc hosp   677.489829  227.151006  795.826195  580.585818   \n",
      "6 day ahead inc hosp   677.183689  228.069509  797.297407  581.169380   \n",
      "7 day ahead inc hosp   676.661137  228.989815  798.581664  581.665716   \n",
      "8 day ahead inc hosp   675.930365  229.911908  799.680279  582.076171   \n",
      "9 day ahead inc hosp   674.998093  230.835701  800.593252  582.401784   \n",
      "10 day ahead inc hosp  673.869093  231.761096  801.320678  582.643548   \n",
      "11 day ahead inc hosp  672.547662  232.688076  801.865574  582.802447   \n",
      "12 day ahead inc hosp  671.037509  233.616429  802.237947  582.879348   \n",
      "13 day ahead inc hosp  669.342766  234.545587  802.441810  582.875051   \n",
      "14 day ahead inc hosp  667.469020  235.475403  802.477165  582.789571   \n",
      "15 day ahead inc hosp  665.417865  236.405877  802.344010  582.622938   \n",
      "\n",
      "                              8            9   ...          90          91  \\\n",
      "2 day ahead inc hosp   82.757281  3119.153585  ...  292.390604  328.194944   \n",
      "3 day ahead inc hosp   82.444438  2974.821222  ...  293.454582  318.146388   \n",
      "4 day ahead inc hosp   82.109616  2835.461599  ...  294.506305  308.151823   \n",
      "5 day ahead inc hosp   81.752941  2701.072107  ...  295.536249  297.910428   \n",
      "6 day ahead inc hosp   81.375195  2571.632222  ...  296.547761  287.322330   \n",
      "7 day ahead inc hosp   80.977635  2447.103936  ...  297.544497  276.974006   \n",
      "8 day ahead inc hosp   80.560348  2327.435470  ...  298.526903  266.873846   \n",
      "9 day ahead inc hosp   80.123410  2212.552441  ...  299.497827  257.026528   \n",
      "10 day ahead inc hosp  79.667419  2102.375794  ...  300.460519  247.436325   \n",
      "11 day ahead inc hosp  79.193538  1996.802410  ...  301.410750  238.106051   \n",
      "12 day ahead inc hosp  78.701900  1895.739088  ...  302.348521  229.037246   \n",
      "13 day ahead inc hosp  78.192575  1799.059984  ...  303.273831  220.230558   \n",
      "14 day ahead inc hosp  77.666253  1706.667443  ...  304.186681  211.685808   \n",
      "15 day ahead inc hosp  77.124535  1618.416858  ...  305.087424  203.402076   \n",
      "\n",
      "                               92          93          94         95  \\\n",
      "2 day ahead inc hosp   531.429684  237.429650  119.829906  56.077792   \n",
      "3 day ahead inc hosp   493.059580  237.464845  120.449516  51.810151   \n",
      "4 day ahead inc hosp   457.990751  237.453625  121.067964  47.934150   \n",
      "5 day ahead inc hosp   425.903324  237.399007  121.685276  44.408309   \n",
      "6 day ahead inc hosp   396.508766  237.298329  122.299957  41.195950   \n",
      "7 day ahead inc hosp   369.548837  237.151491  122.911501  38.264628   \n",
      "8 day ahead inc hosp   344.791875  236.958492  123.519736  35.585619   \n",
      "9 day ahead inc hosp   321.955915  236.719333  124.124695  33.133504   \n",
      "10 day ahead inc hosp  300.561257  236.433280  124.726908  30.885666   \n",
      "11 day ahead inc hosp  280.435176  236.102125  125.327044  28.821976   \n",
      "12 day ahead inc hosp  261.967848  235.736025  125.925737  26.924474   \n",
      "13 day ahead inc hosp  244.972836  235.324341  126.523421  25.177266   \n",
      "14 day ahead inc hosp  229.292253  234.867364  127.120723  23.566209   \n",
      "15 day ahead inc hosp  214.823605  234.365381  127.717455  22.078657   \n",
      "\n",
      "                               96          97           98          99  \n",
      "2 day ahead inc hosp   556.423025  682.587154  1508.610087  929.732752  \n",
      "3 day ahead inc hosp   509.893235  627.819626  1495.823953  930.099438  \n",
      "4 day ahead inc hosp   467.094394  577.935614  1482.459209  930.215364  \n",
      "5 day ahead inc hosp   427.736588  532.470696  1468.527705  930.055467  \n",
      "6 day ahead inc hosp   391.579986  491.024238  1454.057372  929.610563  \n",
      "7 day ahead inc hosp   358.375670  453.212678  1439.093752  928.880651  \n",
      "8 day ahead inc hosp   327.905710  418.699764  1423.675451  927.867629  \n",
      "9 day ahead inc hosp   299.947821  387.168977  1407.835878  926.607915  \n",
      "10 day ahead inc hosp  274.303161  358.341204  1391.589699  925.169791  \n",
      "11 day ahead inc hosp  250.796759  331.962056  1374.986720  923.458625  \n",
      "12 day ahead inc hosp  229.254572  307.804485  1358.046934  921.480075  \n",
      "13 day ahead inc hosp  209.521878  285.664822  1340.800280  919.248569  \n",
      "14 day ahead inc hosp  191.445942  265.359772  1323.276828  916.793662  \n",
      "15 day ahead inc hosp  174.905627  246.720328  1305.505554  914.106482  \n",
      "\n",
      "[14 rows x 100 columns]})\n"
     ]
    }
   ],
   "source": [
    "run_all()"
   ]
  },
  {
   "cell_type": "code",
   "execution_count": 52,
   "metadata": {},
   "outputs": [],
   "source": [
    "from pyseir import OUTPUT_DIR"
   ]
  },
  {
   "cell_type": "code",
   "execution_count": 53,
   "metadata": {},
   "outputs": [
    {
     "data": {
      "text/plain": [
       "PosixPath('/Users/xzhang/Documents/covid/covid-data-model/output')"
      ]
     },
     "execution_count": 53,
     "metadata": {},
     "output_type": "execute_result"
    }
   ],
   "source": [
    "OUTPUT_DIR"
   ]
  },
  {
   "cell_type": "code",
   "execution_count": 4,
   "metadata": {},
   "outputs": [],
   "source": [
    "from pyseir import load_data\n",
    "df_whitelist = load_data.load_whitelist()\n",
    "df_whitelist = df_whitelist[df_whitelist['inference_ok'] == True]"
   ]
  },
  {
   "cell_type": "code",
   "execution_count": 45,
   "metadata": {},
   "outputs": [
    {
     "name": "stdout",
     "output_type": "stream",
     "text": [
      "<class 'pandas.core.frame.DataFrame'>\n",
      "RangeIndex: 1288 entries, 0 to 1287\n",
      "Data columns (total 7 columns):\n",
      " #   Column           Non-Null Count  Dtype  \n",
      "---  ------           --------------  -----  \n",
      " 0   target           1288 non-null   object \n",
      " 1   value            1288 non-null   float64\n",
      " 2   quantile         1232 non-null   float64\n",
      " 3   location         1288 non-null   int64  \n",
      " 4   location_name    1288 non-null   object \n",
      " 5   target_end_date  1288 non-null   object \n",
      " 6   type             1288 non-null   object \n",
      "dtypes: float64(2), int64(1), object(4)\n",
      "memory usage: 70.6+ KB\n"
     ]
    }
   ],
   "source": [
    "df.info()"
   ]
  },
  {
   "cell_type": "code",
   "execution_count": 78,
   "metadata": {},
   "outputs": [],
   "source": [
    "df = pd.read_csv('~/Documents/covid/covid-data-model/output/pyseir/cdc/2020-05-07_CovidActNow_SEIR_CAN_06.csv',\n",
    "                 dtype=str)"
   ]
  },
  {
   "cell_type": "code",
   "execution_count": 79,
   "metadata": {},
   "outputs": [
    {
     "data": {
      "text/html": [
       "<div>\n",
       "<style scoped>\n",
       "    .dataframe tbody tr th:only-of-type {\n",
       "        vertical-align: middle;\n",
       "    }\n",
       "\n",
       "    .dataframe tbody tr th {\n",
       "        vertical-align: top;\n",
       "    }\n",
       "\n",
       "    .dataframe thead th {\n",
       "        text-align: right;\n",
       "    }\n",
       "</style>\n",
       "<table border=\"1\" class=\"dataframe\">\n",
       "  <thead>\n",
       "    <tr style=\"text-align: right;\">\n",
       "      <th></th>\n",
       "      <th>target</th>\n",
       "      <th>value</th>\n",
       "      <th>quantile</th>\n",
       "      <th>location</th>\n",
       "      <th>location_name</th>\n",
       "      <th>target_end_date</th>\n",
       "      <th>type</th>\n",
       "    </tr>\n",
       "  </thead>\n",
       "  <tbody>\n",
       "    <tr>\n",
       "      <th>0</th>\n",
       "      <td>2 day ahead cum death</td>\n",
       "      <td>0.0</td>\n",
       "      <td>0.010</td>\n",
       "      <td>06</td>\n",
       "      <td>California</td>\n",
       "      <td>2020-05-16</td>\n",
       "      <td>quantile</td>\n",
       "    </tr>\n",
       "    <tr>\n",
       "      <th>1</th>\n",
       "      <td>2 day ahead cum death</td>\n",
       "      <td>0.0</td>\n",
       "      <td>0.025</td>\n",
       "      <td>06</td>\n",
       "      <td>California</td>\n",
       "      <td>2020-05-16</td>\n",
       "      <td>quantile</td>\n",
       "    </tr>\n",
       "    <tr>\n",
       "      <th>2</th>\n",
       "      <td>2 day ahead cum death</td>\n",
       "      <td>56.329807115255896</td>\n",
       "      <td>0.050</td>\n",
       "      <td>06</td>\n",
       "      <td>California</td>\n",
       "      <td>2020-05-16</td>\n",
       "      <td>quantile</td>\n",
       "    </tr>\n",
       "    <tr>\n",
       "      <th>3</th>\n",
       "      <td>2 day ahead cum death</td>\n",
       "      <td>86.31496871113737</td>\n",
       "      <td>0.100</td>\n",
       "      <td>06</td>\n",
       "      <td>California</td>\n",
       "      <td>2020-05-16</td>\n",
       "      <td>quantile</td>\n",
       "    </tr>\n",
       "    <tr>\n",
       "      <th>4</th>\n",
       "      <td>2 day ahead cum death</td>\n",
       "      <td>155.45775175460446</td>\n",
       "      <td>0.150</td>\n",
       "      <td>06</td>\n",
       "      <td>California</td>\n",
       "      <td>2020-05-16</td>\n",
       "      <td>quantile</td>\n",
       "    </tr>\n",
       "    <tr>\n",
       "      <th>...</th>\n",
       "      <td>...</td>\n",
       "      <td>...</td>\n",
       "      <td>...</td>\n",
       "      <td>...</td>\n",
       "      <td>...</td>\n",
       "      <td>...</td>\n",
       "      <td>...</td>\n",
       "    </tr>\n",
       "    <tr>\n",
       "      <th>639</th>\n",
       "      <td>4 day ahead inc hosp</td>\n",
       "      <td>526.8847915398069</td>\n",
       "      <td>NaN</td>\n",
       "      <td>06</td>\n",
       "      <td>California</td>\n",
       "      <td>2020-05-16</td>\n",
       "      <td>point</td>\n",
       "    </tr>\n",
       "    <tr>\n",
       "      <th>640</th>\n",
       "      <td>5 day ahead inc hosp</td>\n",
       "      <td>529.4595558270645</td>\n",
       "      <td>NaN</td>\n",
       "      <td>06</td>\n",
       "      <td>California</td>\n",
       "      <td>2020-05-16</td>\n",
       "      <td>point</td>\n",
       "    </tr>\n",
       "    <tr>\n",
       "      <th>641</th>\n",
       "      <td>6 day ahead inc hosp</td>\n",
       "      <td>531.9700294142705</td>\n",
       "      <td>NaN</td>\n",
       "      <td>06</td>\n",
       "      <td>California</td>\n",
       "      <td>2020-05-16</td>\n",
       "      <td>point</td>\n",
       "    </tr>\n",
       "    <tr>\n",
       "      <th>642</th>\n",
       "      <td>7 day ahead inc hosp</td>\n",
       "      <td>534.4169637820046</td>\n",
       "      <td>NaN</td>\n",
       "      <td>06</td>\n",
       "      <td>California</td>\n",
       "      <td>2020-05-16</td>\n",
       "      <td>point</td>\n",
       "    </tr>\n",
       "    <tr>\n",
       "      <th>643</th>\n",
       "      <td>8 day ahead inc hosp</td>\n",
       "      <td>536.8014807771378</td>\n",
       "      <td>NaN</td>\n",
       "      <td>06</td>\n",
       "      <td>California</td>\n",
       "      <td>2020-05-16</td>\n",
       "      <td>point</td>\n",
       "    </tr>\n",
       "  </tbody>\n",
       "</table>\n",
       "<p>644 rows × 7 columns</p>\n",
       "</div>"
      ],
      "text/plain": [
       "                    target               value quantile location  \\\n",
       "0    2 day ahead cum death                 0.0    0.010       06   \n",
       "1    2 day ahead cum death                 0.0    0.025       06   \n",
       "2    2 day ahead cum death  56.329807115255896    0.050       06   \n",
       "3    2 day ahead cum death   86.31496871113737    0.100       06   \n",
       "4    2 day ahead cum death  155.45775175460446    0.150       06   \n",
       "..                     ...                 ...      ...      ...   \n",
       "639   4 day ahead inc hosp   526.8847915398069      NaN       06   \n",
       "640   5 day ahead inc hosp   529.4595558270645      NaN       06   \n",
       "641   6 day ahead inc hosp   531.9700294142705      NaN       06   \n",
       "642   7 day ahead inc hosp   534.4169637820046      NaN       06   \n",
       "643   8 day ahead inc hosp   536.8014807771378      NaN       06   \n",
       "\n",
       "    location_name target_end_date      type  \n",
       "0      California      2020-05-16  quantile  \n",
       "1      California      2020-05-16  quantile  \n",
       "2      California      2020-05-16  quantile  \n",
       "3      California      2020-05-16  quantile  \n",
       "4      California      2020-05-16  quantile  \n",
       "..            ...             ...       ...  \n",
       "639    California      2020-05-16     point  \n",
       "640    California      2020-05-16     point  \n",
       "641    California      2020-05-16     point  \n",
       "642    California      2020-05-16     point  \n",
       "643    California      2020-05-16     point  \n",
       "\n",
       "[644 rows x 7 columns]"
      ]
     },
     "execution_count": 79,
     "metadata": {},
     "output_type": "execute_result"
    }
   ],
   "source": [
    "df"
   ]
  },
  {
   "cell_type": "code",
   "execution_count": 68,
   "metadata": {},
   "outputs": [],
   "source": [
    "df['location'] = df['location'].apply(lambda s: ('0' + str(s))[-2:])"
   ]
  },
  {
   "cell_type": "code",
   "execution_count": 69,
   "metadata": {},
   "outputs": [],
   "source": [
    "df['location'] = df['location'].apply(lambda s: s[1:-1])"
   ]
  },
  {
   "cell_type": "code",
   "execution_count": 71,
   "metadata": {},
   "outputs": [],
   "source": [
    "df.to_csv('~/Documents/covid/covid-data-model/output/pyseir/cdc/2020-05-07_CovidActNow_SEIR_CAN.csv')"
   ]
  },
  {
   "cell_type": "code",
   "execution_count": 70,
   "metadata": {},
   "outputs": [
    {
     "data": {
      "text/plain": [
       "0       '06'\n",
       "1       '06'\n",
       "2       '06'\n",
       "3       '06'\n",
       "4       '06'\n",
       "        ... \n",
       "1283    '36'\n",
       "1284    '36'\n",
       "1285    '36'\n",
       "1286    '36'\n",
       "1287    '36'\n",
       "Name: location, Length: 1288, dtype: object"
      ]
     },
     "execution_count": 70,
     "metadata": {},
     "output_type": "execute_result"
    }
   ],
   "source": [
    "df['location']"
   ]
  },
  {
   "cell_type": "code",
   "execution_count": 6,
   "metadata": {},
   "outputs": [
    {
     "data": {
      "text/plain": [
       "array(['Alabama', 'Alaska', 'Arizona', 'Arkansas', 'California',\n",
       "       'Colorado', 'Connecticut', 'Delaware', 'District of Columbia',\n",
       "       'Florida', 'Georgia', 'Hawaii', 'Idaho', 'Illinois', 'Indiana',\n",
       "       'Iowa', 'Kansas', 'Kentucky', 'Louisiana', 'Maine', 'Maryland',\n",
       "       'Massachusetts', 'Michigan', 'Minnesota', 'Mississippi',\n",
       "       'Missouri', 'Montana', 'Nebraska', 'Nevada', 'New Hampshire',\n",
       "       'New Jersey', 'New Mexico', 'New York', 'North Carolina',\n",
       "       'North Dakota', 'Ohio', 'Oklahoma', 'Oregon', 'Pennsylvania',\n",
       "       'Rhode Island', 'South Carolina', 'South Dakota', 'Tennessee',\n",
       "       'Texas', 'Utah', 'Vermont', 'Virginia', 'Washington',\n",
       "       'West Virginia', 'Wisconsin', 'Wyoming'], dtype=object)"
      ]
     },
     "execution_count": 6,
     "metadata": {},
     "output_type": "execute_result"
    }
   ],
   "source": [
    "df_whitelist.state.unique()"
   ]
  },
  {
   "cell_type": "code",
   "execution_count": 7,
   "metadata": {},
   "outputs": [
    {
     "name": "stderr",
     "output_type": "stream",
     "text": [
      "Did not match 66 codes to county data.\n",
      "['00066', '00069', '00072', '00078', '60000', '66000', '69000', '78000', '80008', '80013', '80015', '80026', '80040', '80047', '88888', '90001', '90002', '90004', '90005', '90006', '90008', '90009', '90010', '90012', '90013', '90015', '90016', '90017', '90018', '90019', '90020', '90021', '90022', '90023', '90024', '90025', '90026', '90027', '90028', '90029', '90030', '90031', '90032', '90033', '90034', '90035', '90036', '90037', '90038', '90039', '90040', '90041', '90042', '90044', '90045', '90046', '90047', '90048', '90049', '90050', '90051', '90053', '90054', '90055', '90056', '99999']\n",
      "/Users/xzhang/Documents/covid/covid-data-model/pyseir/models/seir_model.py:282: RuntimeWarning: overflow encountered in double_scalars\n",
      "  died_from_icu = HICU * (1 - self.fraction_icu_requiring_ventilator) * mortality_rate_ICU / self.hospitalization_length_of_stay_icu\n"
     ]
    }
   ],
   "source": [
    "om = OutputMapper(fips='06075', N_samples=100)\n",
    "output = om.run()"
   ]
  },
  {
   "cell_type": "code",
   "execution_count": 9,
   "metadata": {},
   "outputs": [
    {
     "data": {
      "text/plain": [
       "[datetime.datetime(2020, 5, 10, 0, 0),\n",
       " datetime.datetime(2020, 5, 11, 0, 0),\n",
       " datetime.datetime(2020, 5, 12, 0, 0),\n",
       " datetime.datetime(2020, 5, 13, 0, 0),\n",
       " datetime.datetime(2020, 5, 14, 0, 0),\n",
       " datetime.datetime(2020, 5, 15, 0, 0),\n",
       " datetime.datetime(2020, 5, 16, 0, 0)]"
      ]
     },
     "execution_count": 9,
     "metadata": {},
     "output_type": "execute_result"
    }
   ],
   "source": [
    "om.forecast_time_range"
   ]
  },
  {
   "cell_type": "code",
   "execution_count": 25,
   "metadata": {},
   "outputs": [],
   "source": [
    "from string import Template"
   ]
  },
  {
   "cell_type": "code",
   "execution_count": 26,
   "metadata": {},
   "outputs": [],
   "source": [
    "with open('pyseir/cdc/metadata-CovidActNow_template.txt', 'r') as f:\n",
    "    metadata = f.read()"
   ]
  },
  {
   "cell_type": "code",
   "execution_count": 51,
   "metadata": {},
   "outputs": [
    {
     "data": {
      "text/plain": [
       "'California'"
      ]
     },
     "execution_count": 51,
     "metadata": {},
     "output_type": "execute_result"
    }
   ],
   "source": [
    "import us\n",
    "us.states.lookup('06').name"
   ]
  },
  {
   "cell_type": "code",
   "execution_count": null,
   "metadata": {},
   "outputs": [],
   "source": [
    "target_names = []"
   ]
  },
  {
   "cell_type": "code",
   "execution_count": 40,
   "metadata": {},
   "outputs": [
    {
     "data": {
      "text/plain": [
       "['cum death', 'cum hosp', 'inc death', 'inc hosp']"
      ]
     },
     "execution_count": 40,
     "metadata": {},
     "output_type": "execute_result"
    }
   ],
   "source": [
    "[t.value for t in om.targets]"
   ]
  },
  {
   "cell_type": "code",
   "execution_count": 48,
   "metadata": {},
   "outputs": [
    {
     "ename": "NameError",
     "evalue": "name '__file__' is not defined",
     "output_type": "error",
     "traceback": [
      "\u001b[0;31m---------------------------------------\u001b[0m",
      "\u001b[0;31mNameError\u001b[0mTraceback (most recent call last)",
      "\u001b[0;32m<ipython-input-48-6fb4f6b321ee>\u001b[0m in \u001b[0;36m<module>\u001b[0;34m\u001b[0m\n\u001b[1;32m      1\u001b[0m \u001b[0;32mimport\u001b[0m \u001b[0mos\u001b[0m\u001b[0;34m\u001b[0m\u001b[0;34m\u001b[0m\u001b[0m\n\u001b[0;32m----> 2\u001b[0;31m \u001b[0mos\u001b[0m\u001b[0;34m.\u001b[0m\u001b[0mpath\u001b[0m\u001b[0;34m.\u001b[0m\u001b[0mabspath\u001b[0m\u001b[0;34m(\u001b[0m\u001b[0m__file__\u001b[0m\u001b[0;34m)\u001b[0m\u001b[0;34m\u001b[0m\u001b[0;34m\u001b[0m\u001b[0m\n\u001b[0m",
      "\u001b[0;31mNameError\u001b[0m: name '__file__' is not defined"
     ]
    }
   ],
   "source": [
    "import os\n",
    "os.path.abspath(__file__)"
   ]
  },
  {
   "cell_type": "code",
   "execution_count": 39,
   "metadata": {},
   "outputs": [
    {
     "data": {
      "text/plain": [
       "['day']"
      ]
     },
     "execution_count": 39,
     "metadata": {},
     "output_type": "execute_result"
    }
   ],
   "source": [
    "[u.value for u in om.forecast_time_units]"
   ]
  },
  {
   "cell_type": "code",
   "execution_count": 44,
   "metadata": {},
   "outputs": [
    {
     "data": {
      "text/plain": [
       "['day ahead cum death',\n",
       " 'day ahead cum hosp',\n",
       " 'day ahead inc death',\n",
       " 'day ahead inc hosp']"
      ]
     },
     "execution_count": 44,
     "metadata": {},
     "output_type": "execute_result"
    }
   ],
   "source": [
    "import itertools\n",
    "[' ahead '.join(tup) for tup in list(itertools.product(\n",
    "    [u.value for u in om.forecast_time_units], [t.value for t in om.targets]))]\n",
    "                                    "
   ]
  },
  {
   "cell_type": "code",
   "execution_count": 34,
   "metadata": {},
   "outputs": [],
   "source": [
    "TARGET_NAMES = {'cum death': 'cumulative deaths',\n",
    "                'inc death': 'incident deaths',\n",
    "                'cum hosp': 'cumulative hospitalizations',\n",
    "                'inc hosp': 'incident hospitalizations'}"
   ]
  },
  {
   "cell_type": "code",
   "execution_count": 37,
   "metadata": {},
   "outputs": [
    {
     "name": "stdout",
     "output_type": "stream",
     "text": [
      "team_name: CovidActNow\n",
      "team_abbr: CAN\n",
      "institution_affil:\n",
      "team_funding: ~\n",
      "team_experience: Mathematical modeling of covid transmission at state/county level and UI report since Apr. 2020.\n",
      "\n",
      "model_name: SEIR_CovidActNow\n",
      "model_abbr: SEIR_CAN\n",
      "model_output: https://covidactnow.org/\n",
      "model_repo: https://github.com/covid-projections/covid-data-model\n",
      "\n",
      "model_contributors: Eric Carlson <eric.carlson@grandrounds.com> Max Henderson <max@maxhenderson.com>\n",
      "Chris Kelly <ghop02@gmail.com> Igor Kofman <kofman@gmail.com> Xinyu Zhang <xinyu.zhang@grandrounds.com>\n",
      "\n",
      "Model_targets: day ahead cum hosp, day ahead cum death, day ahead inc hosp, day ahead inc death\n",
      "\n",
      "Target_loc: some states\n",
      "time_horizon: ~\n",
      "Data_format: all requested quantiles\n",
      "forecast_startdate: 2020-05-10\n",
      "forecast_frequency: weekly\n",
      "\n",
      "data_inputs_known: expert elicitation and literature review\n",
      "data_source_known: JHU\n",
      "\n",
      "this_model_is_an_ensemble: FALSE\n",
      "this_model_is_unconditional: TRUE\n",
      "\n",
      "methods: >-\n",
      "    Forecast based on experts opinion in public health and epidemiology of infectious disease, thorough literature\n",
      "    review and daily feed data in cases, deaths and hostpitalizations.\n",
      "\n",
      "methods_long: >-\n",
      "    The SEIR Model makes forecast of ['cumulative deaths', 'cumulative hospitalizations', 'incident deaths', 'incident hospitalizations'] by fitting prediction cases, deaths and hospitalizations to\n",
      "    the observations. Quantiles of the forecast are derived by generate random parameter ensemble from the parameters'\n",
      "    prior distribution, and simulating the MLE SEIR model with parameter sets from the parameter ensemble.\n",
      "\n"
     ]
    }
   ],
   "source": [
    "print(Template(metadata).substitute(dict(Model_targets=', '.join(set(' '.join(t.split(' ')[1:]) for t in output.target.unique())),\n",
    "                                   forecast_startdate=om.forecast_time_range[0].strftime('%Y-%m-%d'), \n",
    "                                   Model_target_names=([TARGET_NAMES[t.value] for t in om.targets]))))"
   ]
  },
  {
   "cell_type": "code",
   "execution_count": 12,
   "metadata": {},
   "outputs": [],
   "source": [
    "output['target_type'] = output['target'].apply(lambda x: x.split(' ')[-2] + ' ' +x.split(' ')[-1])"
   ]
  },
  {
   "cell_type": "code",
   "execution_count": 10,
   "metadata": {},
   "outputs": [],
   "source": [
    "output['forecast_date'] = output['target'].apply(lambda x: om.forecast_time_range[int(x.split(' ')[0]) - 2])"
   ]
  },
  {
   "cell_type": "code",
   "execution_count": 22,
   "metadata": {},
   "outputs": [
    {
     "data": {
      "image/png": "[encoded data removed]",
      "text/plain": [
       "<Figure size 432x288 with 1 Axes>"
      ]
     },
     "metadata": {
      "needs_background": "light"
     },
     "output_type": "display_data"
    },
    {
     "data": {
      "image/png": "[encoded data removed]",
      "text/plain": [
       "<Figure size 432x288 with 1 Axes>"
      ]
     },
     "metadata": {
      "needs_background": "light"
     },
     "output_type": "display_data"
    },
    {
     "data": {
      "image/png": "[encoded data removed]",
      "text/plain": [
       "<Figure size 432x288 with 1 Axes>"
      ]
     },
     "metadata": {
      "needs_background": "light"
     },
     "output_type": "display_data"
    },
    {
     "data": {
      "image/png": "[encoded data removed]",
      "text/plain": [
       "<Figure size 432x288 with 1 Axes>"
      ]
     },
     "metadata": {
      "needs_background": "light"
     },
     "output_type": "display_data"
    }
   ],
   "source": [
    "\n",
    "for target_type in output.target_type.unique():\n",
    "    fig, ax=plt.subplots()\n",
    "    for quantile in output['quantile'].unique():\n",
    "        try:\n",
    "            output[(output.target_type == target_type) \n",
    "                 & (output['quantile'] == quantile)\n",
    "                 & (output['type'] == 'quantile')].plot(x='forecast_date', y='value', \n",
    "                                                        label='', \n",
    "                                                        ax=ax, linestyle='--')\n",
    "        except:\n",
    "            next\n",
    "            \n",
    "    output[(output.target_type == target_type) \n",
    "         & (output['type'] == 'point')].plot(x='forecast_date', y='value', \n",
    "                                             label='', ax=ax, color='k')\n",
    "            "
   ]
  },
  {
   "cell_type": "code",
   "execution_count": 6,
   "metadata": {},
   "outputs": [
    {
     "data": {
      "text/plain": [
       "array(['quantile'], dtype=object)"
      ]
     },
     "execution_count": 6,
     "metadata": {},
     "output_type": "execute_result"
    }
   ],
   "source": [
    "output.type.unique()"
   ]
  },
  {
   "cell_type": "code",
   "execution_count": 43,
   "metadata": {},
   "outputs": [],
   "source": [
    "forecast_ensemble = om.generate_forecast_ensemble( model_ensemble)"
   ]
  },
  {
   "cell_type": "code",
   "execution_count": 48,
   "metadata": {},
   "outputs": [
    {
     "data": {
      "text/plain": [
       "array([1, 2, 3, 1, 2, 3, 1, 2, 3])"
      ]
     },
     "execution_count": 48,
     "metadata": {},
     "output_type": "execute_result"
    }
   ],
   "source": [
    "np.tile([1,2,3], 3)"
   ]
  },
  {
   "cell_type": "code",
   "execution_count": 49,
   "metadata": {},
   "outputs": [],
   "source": [
    "quantile_output = om.generate_quantile_output(forecast_ensemble)"
   ]
  },
  {
   "cell_type": "code",
   "execution_count": 51,
   "metadata": {},
   "outputs": [
    {
     "data": {
      "text/html": [
       "<div>\n",
       "<style scoped>\n",
       "    .dataframe tbody tr th:only-of-type {\n",
       "        vertical-align: middle;\n",
       "    }\n",
       "\n",
       "    .dataframe tbody tr th {\n",
       "        vertical-align: top;\n",
       "    }\n",
       "\n",
       "    .dataframe thead th {\n",
       "        text-align: right;\n",
       "    }\n",
       "</style>\n",
       "<table border=\"1\" class=\"dataframe\">\n",
       "  <thead>\n",
       "    <tr style=\"text-align: right;\">\n",
       "      <th></th>\n",
       "      <th>target</th>\n",
       "      <th>value</th>\n",
       "      <th>quantile</th>\n",
       "      <th>location</th>\n",
       "      <th>target_end_date</th>\n",
       "      <th>type</th>\n",
       "    </tr>\n",
       "  </thead>\n",
       "  <tbody>\n",
       "    <tr>\n",
       "      <th>0</th>\n",
       "      <td>2 day ahead cum death</td>\n",
       "      <td>0</td>\n",
       "      <td>0.010</td>\n",
       "      <td>06075</td>\n",
       "      <td>2020-05-16</td>\n",
       "      <td>quantile</td>\n",
       "    </tr>\n",
       "    <tr>\n",
       "      <th>1</th>\n",
       "      <td>2 day ahead cum death</td>\n",
       "      <td>0</td>\n",
       "      <td>0.025</td>\n",
       "      <td>06075</td>\n",
       "      <td>2020-05-16</td>\n",
       "      <td>quantile</td>\n",
       "    </tr>\n",
       "    <tr>\n",
       "      <th>2</th>\n",
       "      <td>2 day ahead cum death</td>\n",
       "      <td>3.93745</td>\n",
       "      <td>0.050</td>\n",
       "      <td>06075</td>\n",
       "      <td>2020-05-16</td>\n",
       "      <td>quantile</td>\n",
       "    </tr>\n",
       "    <tr>\n",
       "      <th>3</th>\n",
       "      <td>2 day ahead cum death</td>\n",
       "      <td>8.95873</td>\n",
       "      <td>0.100</td>\n",
       "      <td>06075</td>\n",
       "      <td>2020-05-16</td>\n",
       "      <td>quantile</td>\n",
       "    </tr>\n",
       "    <tr>\n",
       "      <th>4</th>\n",
       "      <td>2 day ahead cum death</td>\n",
       "      <td>12.3163</td>\n",
       "      <td>0.150</td>\n",
       "      <td>06075</td>\n",
       "      <td>2020-05-16</td>\n",
       "      <td>quantile</td>\n",
       "    </tr>\n",
       "    <tr>\n",
       "      <th>...</th>\n",
       "      <td>...</td>\n",
       "      <td>...</td>\n",
       "      <td>...</td>\n",
       "      <td>...</td>\n",
       "      <td>...</td>\n",
       "      <td>...</td>\n",
       "    </tr>\n",
       "    <tr>\n",
       "      <th>149</th>\n",
       "      <td>8 day ahead inc hosp</td>\n",
       "      <td>8.64305</td>\n",
       "      <td>0.800</td>\n",
       "      <td>06075</td>\n",
       "      <td>2020-05-16</td>\n",
       "      <td>quantile</td>\n",
       "    </tr>\n",
       "    <tr>\n",
       "      <th>150</th>\n",
       "      <td>8 day ahead inc hosp</td>\n",
       "      <td>10.5081</td>\n",
       "      <td>0.850</td>\n",
       "      <td>06075</td>\n",
       "      <td>2020-05-16</td>\n",
       "      <td>quantile</td>\n",
       "    </tr>\n",
       "    <tr>\n",
       "      <th>151</th>\n",
       "      <td>8 day ahead inc hosp</td>\n",
       "      <td>13.1076</td>\n",
       "      <td>0.900</td>\n",
       "      <td>06075</td>\n",
       "      <td>2020-05-16</td>\n",
       "      <td>quantile</td>\n",
       "    </tr>\n",
       "    <tr>\n",
       "      <th>152</th>\n",
       "      <td>8 day ahead inc hosp</td>\n",
       "      <td>24.2248</td>\n",
       "      <td>0.975</td>\n",
       "      <td>06075</td>\n",
       "      <td>2020-05-16</td>\n",
       "      <td>quantile</td>\n",
       "    </tr>\n",
       "    <tr>\n",
       "      <th>153</th>\n",
       "      <td>8 day ahead inc hosp</td>\n",
       "      <td>34.2153</td>\n",
       "      <td>0.990</td>\n",
       "      <td>06075</td>\n",
       "      <td>2020-05-16</td>\n",
       "      <td>quantile</td>\n",
       "    </tr>\n",
       "  </tbody>\n",
       "</table>\n",
       "<p>616 rows × 6 columns</p>\n",
       "</div>"
      ],
      "text/plain": [
       "                    target    value quantile location target_end_date  \\\n",
       "0    2 day ahead cum death        0    0.010    06075      2020-05-16   \n",
       "1    2 day ahead cum death        0    0.025    06075      2020-05-16   \n",
       "2    2 day ahead cum death  3.93745    0.050    06075      2020-05-16   \n",
       "3    2 day ahead cum death  8.95873    0.100    06075      2020-05-16   \n",
       "4    2 day ahead cum death  12.3163    0.150    06075      2020-05-16   \n",
       "..                     ...      ...      ...      ...             ...   \n",
       "149   8 day ahead inc hosp  8.64305    0.800    06075      2020-05-16   \n",
       "150   8 day ahead inc hosp  10.5081    0.850    06075      2020-05-16   \n",
       "151   8 day ahead inc hosp  13.1076    0.900    06075      2020-05-16   \n",
       "152   8 day ahead inc hosp  24.2248    0.975    06075      2020-05-16   \n",
       "153   8 day ahead inc hosp  34.2153    0.990    06075      2020-05-16   \n",
       "\n",
       "         type  \n",
       "0    quantile  \n",
       "1    quantile  \n",
       "2    quantile  \n",
       "3    quantile  \n",
       "4    quantile  \n",
       "..        ...  \n",
       "149  quantile  \n",
       "150  quantile  \n",
       "151  quantile  \n",
       "152  quantile  \n",
       "153  quantile  \n",
       "\n",
       "[616 rows x 6 columns]"
      ]
     },
     "execution_count": 51,
     "metadata": {},
     "output_type": "execute_result"
    }
   ],
   "source": [
    "output.sort_values(['target', 'quantile'])"
   ]
  },
  {
   "cell_type": "code",
   "execution_count": 32,
   "metadata": {},
   "outputs": [
    {
     "name": "stderr",
     "output_type": "stream",
     "text": [
      "Did not match 66 codes to county data.\n",
      "['00066', '00069', '00072', '00078', '60000', '66000', '69000', '78000', '80008', '80013', '80015', '80026', '80040', '80047', '88888', '90001', '90002', '90004', '90005', '90006', '90008', '90009', '90010', '90012', '90013', '90015', '90016', '90017', '90018', '90019', '90020', '90021', '90022', '90023', '90024', '90025', '90026', '90027', '90028', '90029', '90030', '90031', '90032', '90033', '90034', '90035', '90036', '90037', '90038', '90039', '90040', '90041', '90042', '90044', '90045', '90046', '90047', '90048', '90049', '90050', '90051', '90053', '90054', '90055', '90056', '99999']\n"
     ]
    }
   ],
   "source": [
    "er = EnsembleRunner(fips='06075')"
   ]
  },
  {
   "cell_type": "code",
   "execution_count": null,
   "metadata": {},
   "outputs": [],
   "source": []
  }
 ],
 "metadata": {
  "kernelspec": {
   "display_name": "Python (pyseir)",
   "language": "python",
   "name": "pyseir"
  },
  "language_info": {
   "codemirror_mode": {
    "name": "ipython",
    "version": 3
   },
   "file_extension": ".py",
   "mimetype": "text/x-python",
   "name": "python",
   "nbconvert_exporter": "python",
   "pygments_lexer": "ipython3",
   "version": "3.7.3"
  }
 },
 "nbformat": 4,
 "nbformat_minor": 4
}
